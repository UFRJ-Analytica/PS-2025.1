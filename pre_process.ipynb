{
 "cells": [
  {
   "cell_type": "code",
   "execution_count": 7,
   "id": "24bed5f0",
   "metadata": {},
   "outputs": [],
   "source": [
    "import os\n",
    "import pandas as pd\n",
    "\n",
    "current_path = os.getcwd()\n",
    "csv_path = (current_path + '/Data/campeonatos_futebol_sem_outliers.csv')"
   ]
  },
  {
   "cell_type": "code",
   "execution_count": 8,
   "id": "257b69b8",
   "metadata": {},
   "outputs": [],
   "source": [
    "ds = pd.read_csv(csv_path)\n",
    "\n",
    "df = pd.DataFrame(ds)"
   ]
  },
  {
   "cell_type": "code",
   "execution_count": 9,
   "id": "4509d382",
   "metadata": {},
   "outputs": [
    {
     "data": {
      "text/plain": [
       "Tratamentos 2          81.943089\n",
       "Tratamentos 1          81.943089\n",
       "Defesas difíceis 2     77.600607\n",
       "Defesas difíceis 1     77.600607\n",
       "Contra-ataques 2       77.437900\n",
       "Contra-ataques 1       77.437900\n",
       "Tiros-livres 1         77.419821\n",
       "Tiros-livres 2         77.419821\n",
       "Chutes bloqueados 1    68.123802\n",
       "Chutes bloqueados 2    68.123802\n",
       "Cruzamentos 1          67.505514\n",
       "Cruzamentos 2          67.505514\n",
       "Substituições 2        66.088151\n",
       "Substituições 1        66.088151\n",
       "Tiro de meta 2         56.647503\n",
       "Tiro de meta 1         56.647503\n",
       "Laterais 2             45.261597\n",
       "Laterais 1             45.261597\n",
       "Impedimentos 2         10.004700\n",
       "Impedimentos 1         10.004700\n",
       "Posse 1(%)              8.496945\n",
       "Posse 2(%)              8.496945\n",
       "Escanteios 1            8.377626\n",
       "Escanteios 2            8.377626\n",
       "Chutes fora 2           8.374010\n",
       "Chutes fora 1           8.374010\n",
       "Faltas 2                8.366779\n",
       "Faltas 1                8.366779\n",
       "Position 2              5.893625\n",
       "Position 1              5.788770\n",
       "Chutes a gol 2          5.448892\n",
       "Chutes a gol 1          5.448892\n",
       "Gols 2                  0.000000\n",
       "Gols 1                  0.000000\n",
       "Cartões vermelhos 2     0.000000\n",
       "Cartões vermelhos 1     0.000000\n",
       "Cartões amarelos 2      0.000000\n",
       "Cartões amarelos 1      0.000000\n",
       "Time 1                  0.000000\n",
       "Time 2                  0.000000\n",
       "dtype: float64"
      ]
     },
     "execution_count": 9,
     "metadata": {},
     "output_type": "execute_result"
    }
   ],
   "source": [
    "nan_percent = df.isna().mean() * 100\n",
    "\n",
    "nan_percent.sort_values(ascending=False)"
   ]
  },
  {
   "cell_type": "markdown",
   "id": "b6f28091",
   "metadata": {},
   "source": [
    "## Eliminação de colunas \n"
   ]
  },
  {
   "cell_type": "code",
   "execution_count": null,
   "id": "c36b693a",
   "metadata": {},
   "outputs": [],
   "source": [
    "df = df.drop('Nomes 1', axis=1)\n",
    "df = df.drop('Nomes 2', axis=1)\n",
    "df = df.drop('Tiros-livres 1', axis=1)\n",
    "df = df.drop('Tiros-livres 2', axis=1)\n",
    "df = df.drop('Tratamentos 1', axis=1)\n",
    "df = df.drop('Tratamentos 2', axis=1)"
   ]
  },
  {
   "cell_type": "markdown",
   "id": "bc128cb7",
   "metadata": {},
   "source": [
    "## Montagem da coluna 'Target'\n",
    "\n",
    "*Apenas rodar essa função quando terminar o tratamento do dataframe*"
   ]
  },
  {
   "cell_type": "code",
   "execution_count": null,
   "id": "6a74756f",
   "metadata": {},
   "outputs": [],
   "source": [
    "def target(df):\n",
    "    \"\"\"\n",
    "    Calcula o resultado do confronto com base nas colunas 'Gols 1' e 'Gols 2'.\n",
    "\n",
    "    Parâmetros:\n",
    "    df (pandas.DataFrame): DataFrame que contém as colunas 'Gols 1' e 'Gols 2'.\n",
    "\n",
    "    Retorna:\n",
    "    pandas.Series: Série com os resultados, onde:\n",
    "        - \"2\" se 'Gols 1' > 'Gols 2'\n",
    "        - \"1\" se 'Gols 1' == 'Gols 2'\n",
    "        - \"0\" se 'Gols 1' < 'Gols 2'\n",
    "    \"\"\"\n",
    "    resultados = []\n",
    "    for _, row in df.iterrows():\n",
    "        if row['Gols 1'] > row['Gols 2']:\n",
    "            resultados.append(\"2\")\n",
    "        elif row['Gols 1'] == row['Gols 2']:\n",
    "            resultados.append(\"1\")\n",
    "        else:\n",
    "            resultados.append(\"0\")\n",
    "    return pd.Series(resultados, name=\"Target\")"
   ]
  },
  {
   "cell_type": "code",
   "execution_count": null,
   "id": "7c15a2e1",
   "metadata": {},
   "outputs": [],
   "source": [
    "new_column = target(df)\n",
    "\n",
    "df = pd.concat(df, new_column)"
   ]
  }
 ],
 "metadata": {
  "kernelspec": {
   "display_name": "Python 3",
   "language": "python",
   "name": "python3"
  },
  "language_info": {
   "codemirror_mode": {
    "name": "ipython",
    "version": 3
   },
   "file_extension": ".py",
   "mimetype": "text/x-python",
   "name": "python",
   "nbconvert_exporter": "python",
   "pygments_lexer": "ipython3",
   "version": "3.10.10"
  }
 },
 "nbformat": 4,
 "nbformat_minor": 5
}
