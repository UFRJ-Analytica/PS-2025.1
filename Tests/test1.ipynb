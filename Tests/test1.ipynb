{
 "cells": [
  {
   "cell_type": "markdown",
   "id": "b916c37d",
   "metadata": {},
   "source": [
    "Teste 1: Eliminar todas as colunas com muitos NaNs"
   ]
  }
 ],
 "metadata": {
  "language_info": {
   "name": "python"
  }
 },
 "nbformat": 4,
 "nbformat_minor": 5
}
