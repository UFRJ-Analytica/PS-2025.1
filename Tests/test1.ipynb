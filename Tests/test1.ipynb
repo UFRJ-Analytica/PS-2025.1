{
 "cells": [
  {
   "cell_type": "markdown",
   "id": "b916c37d",
   "metadata": {},
   "source": [
    "Teste 1: Eliminar todas as colunas com muitos NaNs"
   ]
  },
  {
   "cell_type": "markdown",
   "id": "b2c8e109",
   "metadata": {},
   "source": [
    "# Inicialização"
   ]
  },
  {
   "cell_type": "code",
   "execution_count": 1,
   "id": "f18f1d4b",
   "metadata": {},
   "outputs": [],
   "source": [
    "import os\n",
    "import pandas as pd"
   ]
  },
  {
   "cell_type": "markdown",
   "id": "055851a1",
   "metadata": {},
   "source": [
    "# Leitura do arquivo de entrada"
   ]
  },
  {
   "cell_type": "markdown",
   "id": "b4db3ad1",
   "metadata": {},
   "source": [
    "Não é mais necessário nenhum pré-processamento nesse teste, pois este data frame já é o que estávaos trabalhando na EDA."
   ]
  },
  {
   "cell_type": "code",
   "execution_count": 2,
   "id": "cce30e59",
   "metadata": {},
   "outputs": [],
   "source": [
    "current_path = os.path.dirname(os.getcwd())\n",
    "csv_path = (current_path + '/Data/entradas/campeonatos_futebol_teste1.csv')\n",
    "df = pd.read_csv(csv_path)"
   ]
  }
 ],
 "metadata": {
  "kernelspec": {
   "display_name": "Python 3",
   "language": "python",
   "name": "python3"
  },
  "language_info": {
   "codemirror_mode": {
    "name": "ipython",
    "version": 3
   },
   "file_extension": ".py",
   "mimetype": "text/x-python",
   "name": "python",
   "nbconvert_exporter": "python",
   "pygments_lexer": "ipython3",
   "version": "3.13.1"
  }
 },
 "nbformat": 4,
 "nbformat_minor": 5
}
