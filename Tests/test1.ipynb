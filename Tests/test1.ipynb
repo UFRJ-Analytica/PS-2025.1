{
 "cells": [
  {
   "cell_type": "markdown",
   "id": "04dfea2e",
   "metadata": {},
   "source": [
    "Teste 1: Eliminar colunas com muitos NaNs, usando a coluna de posições, e imputando valores para as colunas com poucos NaN"
   ]
  },
  {
   "cell_type": "markdown",
   "id": "f6648d52",
   "metadata": {},
   "source": [
    "## Inicialização"
   ]
  },
  {
   "cell_type": "markdown",
   "id": "b14e3f08",
   "metadata": {},
   "source": [
    "### Bibliotecas"
   ]
  },
  {
   "cell_type": "code",
   "execution_count": 1,
   "id": "0ee91e93",
   "metadata": {},
   "outputs": [],
   "source": [
    "import os\n",
    "import sys\n",
    "import pandas as pd"
   ]
  },
  {
   "cell_type": "markdown",
   "id": "0b8a55ea",
   "metadata": {},
   "source": [
    "### Funções auxiliares"
   ]
  },
  {
   "cell_type": "code",
   "execution_count": 2,
   "id": "c5504de7",
   "metadata": {},
   "outputs": [],
   "source": [
    "sys.path.append(os.path.abspath('../src'))\n",
    "from modelo_e_treinamento import split, ensemble_train, ensemble_test, ensemble_evaluate, train_and_evaluate_xgboost\n",
    "from sklearn.model_selection import train_test_split"
   ]
  },
  {
   "cell_type": "markdown",
   "id": "f26ac9da",
   "metadata": {},
   "source": [
    "### Leitura de Arquivos"
   ]
  },
  {
   "cell_type": "code",
   "execution_count": 3,
   "id": "e7a5a826",
   "metadata": {},
   "outputs": [],
   "source": [
    "current_path = os.path.dirname(os.getcwd())\n",
    "csv_path = (current_path + '/Data/Entradas_teste/teste1.csv')\n",
    "df = pd.read_csv(csv_path)"
   ]
  },
  {
   "cell_type": "markdown",
   "id": "1e6e5974",
   "metadata": {},
   "source": [
    "## Treinamento do Modelo"
   ]
  },
  {
   "cell_type": "code",
   "execution_count": null,
   "id": "20bf468c",
   "metadata": {},
   "outputs": [],
   "source": [
    "print(\"Splitando dados...\")\n",
    "X_train, X_test, y_train, y_test = split(df, \"Target\")"
   ]
  },
  {
   "cell_type": "markdown",
   "id": "33a0ca62",
   "metadata": {},
   "source": [
    "### Treinamento do XGBoost"
   ]
  },
  {
   "cell_type": "code",
   "execution_count": null,
   "id": "4f5a34c5",
   "metadata": {},
   "outputs": [],
   "source": [
    "print(\"\\nTreinamento o XGBoost...\")\n",
    "XGB_train = train_and_evaluate_xgboost(X_train, y_train, X_test, y_test)"
   ]
  },
  {
   "cell_type": "markdown",
   "id": "0c0e0dae",
   "metadata": {},
   "source": [
    "### Treinamento do Ensemble"
   ]
  },
  {
   "cell_type": "code",
   "execution_count": null,
   "id": "ca1949ff",
   "metadata": {},
   "outputs": [],
   "source": [
    "    # === Treinamento do Ensemble ===\n",
    "print(\"\\nTreinamento o ensemble...\")\n",
    "ensemble_model = ensemble_train(X_train, y_train)"
   ]
  },
  {
   "cell_type": "code",
   "execution_count": null,
   "id": "dabd434c",
   "metadata": {},
   "outputs": [],
   "source": [
    "    # === Teste ===\n",
    "print(\"\\nTestando o ensemble...\")\n",
    "y_pred = ensemble_test(ensemble_model, X_test)"
   ]
  },
  {
   "cell_type": "code",
   "execution_count": null,
   "id": "0e893f54",
   "metadata": {},
   "outputs": [],
   "source": [
    "    # === Avaliação ===\n",
    "print(\"\\nAvaliação do modelo:\")\n",
    "metrics = ensemble_evaluate(y_test, y_pred)"
   ]
  }
 ],
 "metadata": {
  "kernelspec": {
   "display_name": "Python 3",
   "language": "python",
   "name": "python3"
  },
  "language_info": {
   "codemirror_mode": {
    "name": "ipython",
    "version": 3
   },
   "file_extension": ".py",
   "mimetype": "text/x-python",
   "name": "python",
   "nbconvert_exporter": "python",
   "pygments_lexer": "ipython3",
   "version": "3.10.10"
  }
 },
 "nbformat": 4,
 "nbformat_minor": 5
}
