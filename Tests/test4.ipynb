{
 "cells": [
  {
   "cell_type": "markdown",
   "id": "3db051a3",
   "metadata": {},
   "source": [
    "Teste 4: Com os índices"
   ]
  },
  {
   "cell_type": "markdown",
   "id": "dfbd4a2d",
   "metadata": {},
   "source": [
    "# Inicialização"
   ]
  },
  {
   "cell_type": "markdown",
   "id": "44a04b41",
   "metadata": {},
   "source": [
    "**Bibliotecas**"
   ]
  },
  {
   "cell_type": "code",
   "execution_count": 1,
   "id": "6ff821e4",
   "metadata": {},
   "outputs": [],
   "source": [
    "import os\n",
    "import sys\n",
    "import pandas as pd"
   ]
  },
  {
   "cell_type": "markdown",
   "id": "9305f756",
   "metadata": {},
   "source": [
    "**Funções auxiliares**"
   ]
  },
  {
   "cell_type": "code",
   "execution_count": 2,
   "id": "2050d9d4",
   "metadata": {},
   "outputs": [],
   "source": [
    "sys.path.append(os.path.abspath('../src'))\n",
    "from modelo_e_treinamento import split, ensemble_train, ensemble_test, ensemble_evaluate, train_and_evaluate_xgboost\n",
    "from sklearn.model_selection import train_test_split"
   ]
  },
  {
   "cell_type": "markdown",
   "id": "4610e39b",
   "metadata": {},
   "source": [
    "**Leitura de Arquivos**"
   ]
  },
  {
   "cell_type": "code",
   "execution_count": 3,
   "id": "7a789677",
   "metadata": {},
   "outputs": [],
   "source": [
    "current_path = os.path.dirname(os.getcwd())\n",
    "csv_path = (current_path + '/Data/Entradas_teste/teste4.csv')\n",
    "df = pd.read_csv(csv_path)"
   ]
  },
  {
   "cell_type": "code",
   "execution_count": 5,
   "id": "94c71f68",
   "metadata": {},
   "outputs": [
    {
     "data": {
      "text/html": [
       "<div>\n",
       "<style scoped>\n",
       "    .dataframe tbody tr th:only-of-type {\n",
       "        vertical-align: middle;\n",
       "    }\n",
       "\n",
       "    .dataframe tbody tr th {\n",
       "        vertical-align: top;\n",
       "    }\n",
       "\n",
       "    .dataframe thead th {\n",
       "        text-align: right;\n",
       "    }\n",
       "</style>\n",
       "<table border=\"1\" class=\"dataframe\">\n",
       "  <thead>\n",
       "    <tr style=\"text-align: right;\">\n",
       "      <th></th>\n",
       "      <th>Desgaste_Defensivo_1</th>\n",
       "      <th>Desgaste_Defensivo_2</th>\n",
       "      <th>Barreira_Defensiva_1</th>\n",
       "      <th>Barreira_Defensiva_2</th>\n",
       "      <th>Pressao_Ofensiva_1</th>\n",
       "      <th>Pressao_Ofensiva_2</th>\n",
       "      <th>Eficiencia_Finalizacao_1</th>\n",
       "      <th>Eficiencia_Finalizacao_2</th>\n",
       "      <th>Variedade_Ofensiva_1</th>\n",
       "      <th>Variedade_Ofensiva_2</th>\n",
       "      <th>Controle_Jogo_1</th>\n",
       "      <th>Controle_Jogo_2</th>\n",
       "    </tr>\n",
       "  </thead>\n",
       "  <tbody>\n",
       "    <tr>\n",
       "      <th>0</th>\n",
       "      <td>0.000000</td>\n",
       "      <td>0.000000</td>\n",
       "      <td>0.000000</td>\n",
       "      <td>0.000000</td>\n",
       "      <td>1.666008</td>\n",
       "      <td>0.424542</td>\n",
       "      <td>0.492849</td>\n",
       "      <td>0.000000</td>\n",
       "      <td>1.187747</td>\n",
       "      <td>0.324542</td>\n",
       "      <td>0.9000</td>\n",
       "      <td>0.1000</td>\n",
       "    </tr>\n",
       "    <tr>\n",
       "      <th>1</th>\n",
       "      <td>0.000000</td>\n",
       "      <td>0.000000</td>\n",
       "      <td>0.000000</td>\n",
       "      <td>0.000000</td>\n",
       "      <td>0.130435</td>\n",
       "      <td>0.831502</td>\n",
       "      <td>0.000000</td>\n",
       "      <td>0.000000</td>\n",
       "      <td>0.130435</td>\n",
       "      <td>0.698168</td>\n",
       "      <td>0.4875</td>\n",
       "      <td>0.5125</td>\n",
       "    </tr>\n",
       "    <tr>\n",
       "      <th>2</th>\n",
       "      <td>0.000000</td>\n",
       "      <td>0.000000</td>\n",
       "      <td>0.000000</td>\n",
       "      <td>0.000000</td>\n",
       "      <td>0.863636</td>\n",
       "      <td>1.741758</td>\n",
       "      <td>0.766637</td>\n",
       "      <td>0.403093</td>\n",
       "      <td>0.667984</td>\n",
       "      <td>1.408425</td>\n",
       "      <td>0.5250</td>\n",
       "      <td>0.4750</td>\n",
       "    </tr>\n",
       "    <tr>\n",
       "      <th>3</th>\n",
       "      <td>0.000000</td>\n",
       "      <td>1.190942</td>\n",
       "      <td>0.000000</td>\n",
       "      <td>1.750438</td>\n",
       "      <td>1.316206</td>\n",
       "      <td>0.000000</td>\n",
       "      <td>0.574983</td>\n",
       "      <td>0.000000</td>\n",
       "      <td>0.968379</td>\n",
       "      <td>0.000000</td>\n",
       "      <td>0.2750</td>\n",
       "      <td>0.0000</td>\n",
       "    </tr>\n",
       "    <tr>\n",
       "      <th>4</th>\n",
       "      <td>1.594282</td>\n",
       "      <td>0.000000</td>\n",
       "      <td>1.817627</td>\n",
       "      <td>0.000000</td>\n",
       "      <td>0.000000</td>\n",
       "      <td>0.710989</td>\n",
       "      <td>0.000000</td>\n",
       "      <td>0.000000</td>\n",
       "      <td>0.000000</td>\n",
       "      <td>0.577656</td>\n",
       "      <td>0.0000</td>\n",
       "      <td>0.3375</td>\n",
       "    </tr>\n",
       "  </tbody>\n",
       "</table>\n",
       "</div>"
      ],
      "text/plain": [
       "   Desgaste_Defensivo_1  Desgaste_Defensivo_2  Barreira_Defensiva_1  \\\n",
       "0              0.000000              0.000000              0.000000   \n",
       "1              0.000000              0.000000              0.000000   \n",
       "2              0.000000              0.000000              0.000000   \n",
       "3              0.000000              1.190942              0.000000   \n",
       "4              1.594282              0.000000              1.817627   \n",
       "\n",
       "   Barreira_Defensiva_2  Pressao_Ofensiva_1  Pressao_Ofensiva_2  \\\n",
       "0              0.000000            1.666008            0.424542   \n",
       "1              0.000000            0.130435            0.831502   \n",
       "2              0.000000            0.863636            1.741758   \n",
       "3              1.750438            1.316206            0.000000   \n",
       "4              0.000000            0.000000            0.710989   \n",
       "\n",
       "   Eficiencia_Finalizacao_1  Eficiencia_Finalizacao_2  Variedade_Ofensiva_1  \\\n",
       "0                  0.492849                  0.000000              1.187747   \n",
       "1                  0.000000                  0.000000              0.130435   \n",
       "2                  0.766637                  0.403093              0.667984   \n",
       "3                  0.574983                  0.000000              0.968379   \n",
       "4                  0.000000                  0.000000              0.000000   \n",
       "\n",
       "   Variedade_Ofensiva_2  Controle_Jogo_1  Controle_Jogo_2  \n",
       "0              0.324542           0.9000           0.1000  \n",
       "1              0.698168           0.4875           0.5125  \n",
       "2              1.408425           0.5250           0.4750  \n",
       "3              0.000000           0.2750           0.0000  \n",
       "4              0.577656           0.0000           0.3375  "
      ]
     },
     "execution_count": 5,
     "metadata": {},
     "output_type": "execute_result"
    }
   ],
   "source": [
    "df.head()"
   ]
  },
  {
   "cell_type": "markdown",
   "id": "76078257",
   "metadata": {},
   "source": [
    "## Treinamento do Modelo"
   ]
  },
  {
   "cell_type": "code",
   "execution_count": null,
   "id": "bf7b417c",
   "metadata": {},
   "outputs": [],
   "source": [
    "print(\"Splitando dados...\")\n",
    "X_train, X_test, y_train, y_test = split(df, \"Target\")"
   ]
  },
  {
   "cell_type": "markdown",
   "id": "9e631fb8",
   "metadata": {},
   "source": [
    "### Treinamento do XGBoost"
   ]
  },
  {
   "cell_type": "code",
   "execution_count": null,
   "id": "d1321ae7",
   "metadata": {},
   "outputs": [],
   "source": [
    "print(\"\\nTreinamento o XGBoost...\")\n",
    "XGB_train = train_and_evaluate_xgboost(X_train, y_train, X_test, y_test)"
   ]
  },
  {
   "cell_type": "markdown",
   "id": "e593bbc4",
   "metadata": {},
   "source": [
    "### Treinamento do Ensemble"
   ]
  },
  {
   "cell_type": "code",
   "execution_count": null,
   "id": "350b53a6",
   "metadata": {},
   "outputs": [],
   "source": [
    "    # === Treinamento do Ensemble ===\n",
    "print(\"\\nTreinamento o ensemble...\")\n",
    "ensemble_model = ensemble_train(X_train, y_train)"
   ]
  },
  {
   "cell_type": "code",
   "execution_count": null,
   "id": "5428af76",
   "metadata": {},
   "outputs": [],
   "source": [
    "    # === Teste ===\n",
    "print(\"\\nTestando o ensemble...\")\n",
    "y_pred = ensemble_test(ensemble_model, X_test)"
   ]
  },
  {
   "cell_type": "code",
   "execution_count": null,
   "id": "765065b3",
   "metadata": {},
   "outputs": [],
   "source": [
    "    # === Avaliação ===\n",
    "print(\"\\nAvaliação do modelo:\")\n",
    "metrics = ensemble_evaluate(y_test, y_pred)"
   ]
  }
 ],
 "metadata": {
  "kernelspec": {
   "display_name": "Python 3",
   "language": "python",
   "name": "python3"
  },
  "language_info": {
   "codemirror_mode": {
    "name": "ipython",
    "version": 3
   },
   "file_extension": ".py",
   "mimetype": "text/x-python",
   "name": "python",
   "nbconvert_exporter": "python",
   "pygments_lexer": "ipython3",
   "version": "3.10.10"
  }
 },
 "nbformat": 4,
 "nbformat_minor": 5
}
