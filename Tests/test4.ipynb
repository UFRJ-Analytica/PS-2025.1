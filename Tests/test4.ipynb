{
 "cells": [
  {
   "cell_type": "markdown",
   "id": "3db051a3",
   "metadata": {},
   "source": [
    "Teste 4: Com os índices"
   ]
  },
  {
   "cell_type": "markdown",
   "id": "dfbd4a2d",
   "metadata": {},
   "source": [
    "# Inicialização"
   ]
  },
  {
   "cell_type": "markdown",
   "id": "44a04b41",
   "metadata": {},
   "source": [
    "**Bibliotecas**"
   ]
  },
  {
   "cell_type": "code",
   "execution_count": 1,
   "id": "6ff821e4",
   "metadata": {},
   "outputs": [],
   "source": [
    "import os\n",
    "import sys\n",
    "import pandas as pd"
   ]
  },
  {
   "cell_type": "markdown",
   "id": "9305f756",
   "metadata": {},
   "source": [
    "**Funções auxiliares**"
   ]
  },
  {
   "cell_type": "code",
   "execution_count": 2,
   "id": "2050d9d4",
   "metadata": {},
   "outputs": [],
   "source": [
    "sys.path.append(os.path.abspath('../src'))\n",
    "from modelo_e_treinamento import split, ensemble_train, ensemble_test, ensemble_evaluate\n",
    "from sklearn.model_selection import train_test_split"
   ]
  },
  {
   "cell_type": "markdown",
   "id": "4610e39b",
   "metadata": {},
   "source": [
    "**Leitura de Arquivos**"
   ]
  },
  {
   "cell_type": "code",
   "execution_count": 3,
   "id": "7a789677",
   "metadata": {},
   "outputs": [],
   "source": [
    "current_path = os.path.dirname(os.getcwd())\n",
    "csv_path = (current_path + '/Data/Entradas_teste/teste4.csv')\n",
    "df = pd.read_csv(csv_path)"
   ]
  }
 ],
 "metadata": {
  "kernelspec": {
   "display_name": "Python 3",
   "language": "python",
   "name": "python3"
  },
  "language_info": {
   "codemirror_mode": {
    "name": "ipython",
    "version": 3
   },
   "file_extension": ".py",
   "mimetype": "text/x-python",
   "name": "python",
   "nbconvert_exporter": "python",
   "pygments_lexer": "ipython3",
   "version": "3.13.1"
  }
 },
 "nbformat": 4,
 "nbformat_minor": 5
}
