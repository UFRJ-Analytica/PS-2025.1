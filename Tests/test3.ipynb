{
 "cells": [
  {
   "cell_type": "markdown",
   "id": "bb3803d8",
   "metadata": {},
   "source": [
    "Teste 3: Fazer com/sem a coluna \"Defesas difíceis\" (teriamos que rodar uma parte do código de novo para não retirar essa coluna, bem como inputá-la de alguma forma)"
   ]
  }
 ],
 "metadata": {
  "language_info": {
   "name": "python"
  }
 },
 "nbformat": 4,
 "nbformat_minor": 5
}
