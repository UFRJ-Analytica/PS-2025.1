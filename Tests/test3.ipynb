{
 "cells": [
  {
   "cell_type": "markdown",
   "id": "bb3803d8",
   "metadata": {},
   "source": [
    "Teste 3: Fazer com/sem a coluna \"Defesas difíceis\""
   ]
  }
 ],
 "metadata": {
  "language_info": {
   "name": "python"
  }
 },
 "nbformat": 4,
 "nbformat_minor": 5
}
