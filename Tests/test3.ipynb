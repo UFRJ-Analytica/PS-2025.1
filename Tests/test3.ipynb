{
 "cells": [
  {
   "cell_type": "markdown",
   "id": "bb3803d8",
   "metadata": {},
   "source": [
    "Teste 3: Fazer com/sem a coluna \"Defesas difíceis\" (teriamos que rodar uma parte do código de novo para não retirar essa coluna, bem como inputá-la de alguma forma)"
   ]
  },
  {
   "cell_type": "markdown",
   "id": "fcb160b3",
   "metadata": {},
   "source": [
    "# Inicialização"
   ]
  },
  {
   "cell_type": "code",
   "execution_count": 3,
   "id": "f78d3b68",
   "metadata": {},
   "outputs": [],
   "source": [
    "import os\n",
    "import pandas as pd\n",
    "import sys"
   ]
  },
  {
   "cell_type": "code",
   "execution_count": 4,
   "id": "15b54a17",
   "metadata": {},
   "outputs": [],
   "source": [
    "sys.path.append(os.path.abspath('../src'))\n",
    "from modelo_e_treinamento import split, ensemble_train, ensemble_test, ensemble_evaluate, train_and_evaluate_xgboost\n",
    "from sklearn.model_selection import train_test_split"
   ]
  },
  {
   "cell_type": "markdown",
   "id": "26f17cc1",
   "metadata": {},
   "source": [
    "# Leitura do arquivo de entrada"
   ]
  },
  {
   "cell_type": "markdown",
   "id": "dddfea45",
   "metadata": {},
   "source": [
    "Não é mais necessário nenhum pré-processamento nesse teste, pois este data frame já é o que estávaos trabalhando na EDA."
   ]
  },
  {
   "cell_type": "code",
   "execution_count": 5,
   "id": "372d1cee",
   "metadata": {},
   "outputs": [],
   "source": [
    "current_path = os.path.dirname(os.getcwd())\n",
    "csv_path = (current_path + '/Data/Entradas_teste/teste3.csv')\n",
    "df = pd.read_csv(csv_path)"
   ]
  },
  {
   "cell_type": "code",
   "execution_count": 6,
   "id": "9e9034df",
   "metadata": {},
   "outputs": [
    {
     "data": {
      "text/html": [
       "<div>\n",
       "<style scoped>\n",
       "    .dataframe tbody tr th:only-of-type {\n",
       "        vertical-align: middle;\n",
       "    }\n",
       "\n",
       "    .dataframe tbody tr th {\n",
       "        vertical-align: top;\n",
       "    }\n",
       "\n",
       "    .dataframe thead th {\n",
       "        text-align: right;\n",
       "    }\n",
       "</style>\n",
       "<table border=\"1\" class=\"dataframe\">\n",
       "  <thead>\n",
       "    <tr style=\"text-align: right;\">\n",
       "      <th></th>\n",
       "      <th>Chutes a gol 1</th>\n",
       "      <th>Chutes a gol 2</th>\n",
       "      <th>Impedimentos 1</th>\n",
       "      <th>Impedimentos 2</th>\n",
       "      <th>Escanteios 1</th>\n",
       "      <th>Escanteios 2</th>\n",
       "      <th>Chutes fora 1</th>\n",
       "      <th>Chutes fora 2</th>\n",
       "      <th>Faltas 1</th>\n",
       "      <th>Faltas 2</th>\n",
       "      <th>...</th>\n",
       "      <th>Cartões vermelhos 2</th>\n",
       "      <th>Gols 1</th>\n",
       "      <th>Gols 2</th>\n",
       "      <th>Defesas difíceis 1</th>\n",
       "      <th>Defesas difíceis 2</th>\n",
       "      <th>Posse 1(%)</th>\n",
       "      <th>Posse 2(%)</th>\n",
       "      <th>Position 1</th>\n",
       "      <th>Position 2</th>\n",
       "      <th>Target</th>\n",
       "    </tr>\n",
       "  </thead>\n",
       "  <tbody>\n",
       "    <tr>\n",
       "      <th>0</th>\n",
       "      <td>8.0</td>\n",
       "      <td>0.0</td>\n",
       "      <td>6.0</td>\n",
       "      <td>3.0</td>\n",
       "      <td>7.0</td>\n",
       "      <td>1.0</td>\n",
       "      <td>6.0</td>\n",
       "      <td>1.0</td>\n",
       "      <td>8.0</td>\n",
       "      <td>14.0</td>\n",
       "      <td>...</td>\n",
       "      <td>0.0</td>\n",
       "      <td>3.0</td>\n",
       "      <td>0.0</td>\n",
       "      <td>2.678571</td>\n",
       "      <td>3.207305</td>\n",
       "      <td>77.0</td>\n",
       "      <td>23.0</td>\n",
       "      <td>1.0</td>\n",
       "      <td>1.0</td>\n",
       "      <td>2</td>\n",
       "    </tr>\n",
       "    <tr>\n",
       "      <th>1</th>\n",
       "      <td>0.0</td>\n",
       "      <td>2.0</td>\n",
       "      <td>0.0</td>\n",
       "      <td>2.0</td>\n",
       "      <td>0.0</td>\n",
       "      <td>4.0</td>\n",
       "      <td>3.0</td>\n",
       "      <td>4.0</td>\n",
       "      <td>19.0</td>\n",
       "      <td>14.0</td>\n",
       "      <td>...</td>\n",
       "      <td>0.0</td>\n",
       "      <td>0.0</td>\n",
       "      <td>0.0</td>\n",
       "      <td>2.678571</td>\n",
       "      <td>3.207305</td>\n",
       "      <td>44.0</td>\n",
       "      <td>56.0</td>\n",
       "      <td>1.0</td>\n",
       "      <td>1.0</td>\n",
       "      <td>1</td>\n",
       "    </tr>\n",
       "    <tr>\n",
       "      <th>2</th>\n",
       "      <td>4.0</td>\n",
       "      <td>5.0</td>\n",
       "      <td>1.0</td>\n",
       "      <td>5.0</td>\n",
       "      <td>8.0</td>\n",
       "      <td>11.0</td>\n",
       "      <td>2.0</td>\n",
       "      <td>5.0</td>\n",
       "      <td>13.0</td>\n",
       "      <td>14.0</td>\n",
       "      <td>...</td>\n",
       "      <td>0.0</td>\n",
       "      <td>2.0</td>\n",
       "      <td>2.0</td>\n",
       "      <td>2.678571</td>\n",
       "      <td>3.207305</td>\n",
       "      <td>47.0</td>\n",
       "      <td>53.0</td>\n",
       "      <td>1.0</td>\n",
       "      <td>1.0</td>\n",
       "      <td>1</td>\n",
       "    </tr>\n",
       "    <tr>\n",
       "      <th>3</th>\n",
       "      <td>4.0</td>\n",
       "      <td>7.0</td>\n",
       "      <td>8.0</td>\n",
       "      <td>1.0</td>\n",
       "      <td>6.0</td>\n",
       "      <td>5.0</td>\n",
       "      <td>4.0</td>\n",
       "      <td>7.0</td>\n",
       "      <td>4.0</td>\n",
       "      <td>11.0</td>\n",
       "      <td>...</td>\n",
       "      <td>0.0</td>\n",
       "      <td>2.0</td>\n",
       "      <td>1.0</td>\n",
       "      <td>2.678571</td>\n",
       "      <td>3.207305</td>\n",
       "      <td>27.0</td>\n",
       "      <td>73.0</td>\n",
       "      <td>1.0</td>\n",
       "      <td>0.0</td>\n",
       "      <td>2</td>\n",
       "    </tr>\n",
       "    <tr>\n",
       "      <th>4</th>\n",
       "      <td>3.0</td>\n",
       "      <td>1.0</td>\n",
       "      <td>1.0</td>\n",
       "      <td>3.0</td>\n",
       "      <td>5.0</td>\n",
       "      <td>4.0</td>\n",
       "      <td>2.0</td>\n",
       "      <td>2.0</td>\n",
       "      <td>12.0</td>\n",
       "      <td>17.0</td>\n",
       "      <td>...</td>\n",
       "      <td>0.0</td>\n",
       "      <td>2.0</td>\n",
       "      <td>0.0</td>\n",
       "      <td>2.678571</td>\n",
       "      <td>3.207305</td>\n",
       "      <td>58.0</td>\n",
       "      <td>42.0</td>\n",
       "      <td>0.0</td>\n",
       "      <td>1.0</td>\n",
       "      <td>2</td>\n",
       "    </tr>\n",
       "  </tbody>\n",
       "</table>\n",
       "<p>5 rows × 23 columns</p>\n",
       "</div>"
      ],
      "text/plain": [
       "   Chutes a gol 1  Chutes a gol 2  Impedimentos 1  Impedimentos 2  \\\n",
       "0             8.0             0.0             6.0             3.0   \n",
       "1             0.0             2.0             0.0             2.0   \n",
       "2             4.0             5.0             1.0             5.0   \n",
       "3             4.0             7.0             8.0             1.0   \n",
       "4             3.0             1.0             1.0             3.0   \n",
       "\n",
       "   Escanteios 1  Escanteios 2  Chutes fora 1  Chutes fora 2  Faltas 1  \\\n",
       "0           7.0           1.0            6.0            1.0       8.0   \n",
       "1           0.0           4.0            3.0            4.0      19.0   \n",
       "2           8.0          11.0            2.0            5.0      13.0   \n",
       "3           6.0           5.0            4.0            7.0       4.0   \n",
       "4           5.0           4.0            2.0            2.0      12.0   \n",
       "\n",
       "   Faltas 2  ...  Cartões vermelhos 2  Gols 1  Gols 2  Defesas difíceis 1  \\\n",
       "0      14.0  ...                  0.0     3.0     0.0            2.678571   \n",
       "1      14.0  ...                  0.0     0.0     0.0            2.678571   \n",
       "2      14.0  ...                  0.0     2.0     2.0            2.678571   \n",
       "3      11.0  ...                  0.0     2.0     1.0            2.678571   \n",
       "4      17.0  ...                  0.0     2.0     0.0            2.678571   \n",
       "\n",
       "   Defesas difíceis 2  Posse 1(%)  Posse 2(%)  Position 1  Position 2  Target  \n",
       "0            3.207305        77.0        23.0         1.0         1.0       2  \n",
       "1            3.207305        44.0        56.0         1.0         1.0       1  \n",
       "2            3.207305        47.0        53.0         1.0         1.0       1  \n",
       "3            3.207305        27.0        73.0         1.0         0.0       2  \n",
       "4            3.207305        58.0        42.0         0.0         1.0       2  \n",
       "\n",
       "[5 rows x 23 columns]"
      ]
     },
     "execution_count": 6,
     "metadata": {},
     "output_type": "execute_result"
    }
   ],
   "source": [
    "df.head()"
   ]
  },
  {
   "cell_type": "markdown",
   "id": "11b10878",
   "metadata": {},
   "source": [
    "# Treinamento do modelo"
   ]
  },
  {
   "cell_type": "code",
   "execution_count": 7,
   "id": "b90091fa",
   "metadata": {},
   "outputs": [
    {
     "name": "stdout",
     "output_type": "stream",
     "text": [
      "Splitando dados...\n"
     ]
    }
   ],
   "source": [
    "print(\"Splitando dados...\")\n",
    "X_train, X_test, y_train, y_test = split(df, \"Target\")"
   ]
  },
  {
   "cell_type": "markdown",
   "id": "f52fd189",
   "metadata": {},
   "source": [
    "### Treinamento do XGBoost "
   ]
  },
  {
   "cell_type": "code",
   "execution_count": 8,
   "id": "0e4e1340",
   "metadata": {},
   "outputs": [
    {
     "name": "stdout",
     "output_type": "stream",
     "text": [
      "\n",
      "Treinamento o XGBoost...\n",
      "[XGBoost] Iniciando tuning...\n",
      "\n",
      "[LOG - XGBoost] Melhores hiperparâmetros:\n",
      "  subsample: 0.8\n",
      "  n_estimators: 100\n",
      "  max_depth: 7\n",
      "  learning_rate: 0.05\n",
      "  colsample_bytree: 0.8\n",
      "\n",
      "[LOG - XGBoost] Realizando predição...\n",
      "\n",
      "==== Avaliação ====\n",
      "Accuracy: 0.9998\n",
      "\n",
      "Classification Report:\n",
      "              precision    recall  f1-score   support\n",
      "\n",
      "           0       1.00      1.00      1.00      1502\n",
      "           1       1.00      1.00      1.00      1240\n",
      "           2       1.00      1.00      1.00      2374\n",
      "\n",
      "    accuracy                           1.00      5116\n",
      "   macro avg       1.00      1.00      1.00      5116\n",
      "weighted avg       1.00      1.00      1.00      5116\n",
      "\n"
     ]
    },
    {
     "ename": "TypeError",
     "evalue": "'module' object is not callable",
     "output_type": "error",
     "traceback": [
      "\u001b[1;31m---------------------------------------------------------------------------\u001b[0m",
      "\u001b[1;31mTypeError\u001b[0m                                 Traceback (most recent call last)",
      "Cell \u001b[1;32mIn[8], line 2\u001b[0m\n\u001b[0;32m      1\u001b[0m \u001b[38;5;28mprint\u001b[39m(\u001b[38;5;124m\"\u001b[39m\u001b[38;5;130;01m\\n\u001b[39;00m\u001b[38;5;124mTreinamento o XGBoost...\u001b[39m\u001b[38;5;124m\"\u001b[39m)\n\u001b[1;32m----> 2\u001b[0m XGB_train \u001b[38;5;241m=\u001b[39m \u001b[43mtrain_and_evaluate_xgboost\u001b[49m\u001b[43m(\u001b[49m\u001b[43mX_train\u001b[49m\u001b[43m,\u001b[49m\u001b[43m \u001b[49m\u001b[43my_train\u001b[49m\u001b[43m,\u001b[49m\u001b[43m \u001b[49m\u001b[43mX_test\u001b[49m\u001b[43m,\u001b[49m\u001b[43m \u001b[49m\u001b[43my_test\u001b[49m\u001b[43m)\u001b[49m\n",
      "File \u001b[1;32mc:\\Users\\sales\\PS-2025.1-Oscar\\PS-2025.1-Oscar\\src\\modelo_e_treinamento.py:279\u001b[0m, in \u001b[0;36mtrain_and_evaluate_xgboost\u001b[1;34m(X_train, y_train, X_test, y_test, random_state)\u001b[0m\n\u001b[0;32m    276\u001b[0m \u001b[38;5;28mprint\u001b[39m(classification_report(y_test, y_pred))\n\u001b[0;32m    278\u001b[0m \u001b[38;5;66;03m# Matriz de confusão com seaborn\u001b[39;00m\n\u001b[1;32m--> 279\u001b[0m \u001b[43mplt\u001b[49m\u001b[38;5;241;43m.\u001b[39;49m\u001b[43mfigure\u001b[49m\u001b[43m(\u001b[49m\u001b[43mfigsize\u001b[49m\u001b[38;5;241;43m=\u001b[39;49m\u001b[43m(\u001b[49m\u001b[38;5;241;43m6\u001b[39;49m\u001b[43m,\u001b[49m\u001b[43m \u001b[49m\u001b[38;5;241;43m4\u001b[39;49m\u001b[43m)\u001b[49m\u001b[43m)\u001b[49m\n\u001b[0;32m    280\u001b[0m sns\u001b[38;5;241m.\u001b[39mheatmap(cm, annot\u001b[38;5;241m=\u001b[39m\u001b[38;5;28;01mTrue\u001b[39;00m, fmt\u001b[38;5;241m=\u001b[39m\u001b[38;5;124m\"\u001b[39m\u001b[38;5;124m.2f\u001b[39m\u001b[38;5;124m\"\u001b[39m, cmap\u001b[38;5;241m=\u001b[39m\u001b[38;5;124m\"\u001b[39m\u001b[38;5;124mBlues\u001b[39m\u001b[38;5;124m\"\u001b[39m, xticklabels\u001b[38;5;241m=\u001b[39m\u001b[38;5;28;01mTrue\u001b[39;00m, yticklabels\u001b[38;5;241m=\u001b[39m\u001b[38;5;28;01mTrue\u001b[39;00m)\n\u001b[0;32m    281\u001b[0m plt\u001b[38;5;241m.\u001b[39mtitle(\u001b[38;5;124m\"\u001b[39m\u001b[38;5;124mMatriz de Confusão (Normalizada)\u001b[39m\u001b[38;5;124m\"\u001b[39m)\n",
      "\u001b[1;31mTypeError\u001b[0m: 'module' object is not callable"
     ]
    }
   ],
   "source": [
    "print(\"\\nTreinamento o XGBoost...\")\n",
    "XGB_train = train_and_evaluate_xgboost(X_train, y_train, X_test, y_test)"
   ]
  },
  {
   "cell_type": "markdown",
   "id": "55e213b2",
   "metadata": {},
   "source": [
    "### Treinamento do Ensemble"
   ]
  },
  {
   "cell_type": "code",
   "execution_count": null,
   "id": "fdab107b",
   "metadata": {},
   "outputs": [],
   "source": [
    "    # === Treinamento do Ensemble ===\n",
    "print(\"\\nTreinamento o ensemble...\")\n",
    "ensemble_model = ensemble_train(X_train, y_train)"
   ]
  },
  {
   "cell_type": "code",
   "execution_count": null,
   "id": "70d42af5",
   "metadata": {},
   "outputs": [],
   "source": [
    "    # === Teste ===\n",
    "print(\"\\nTestando o ensemble...\")\n",
    "y_pred = ensemble_test(ensemble_model, X_test)"
   ]
  },
  {
   "cell_type": "code",
   "execution_count": null,
   "id": "0c5cf952",
   "metadata": {},
   "outputs": [],
   "source": [
    "    # === Avaliação ===\n",
    "print(\"\\nAvaliação do modelo:\")\n",
    "metrics = ensemble_evaluate(y_test, y_pred)"
   ]
  }
 ],
 "metadata": {
  "kernelspec": {
   "display_name": "Python 3",
   "language": "python",
   "name": "python3"
  },
  "language_info": {
   "codemirror_mode": {
    "name": "ipython",
    "version": 3
   },
   "file_extension": ".py",
   "mimetype": "text/x-python",
   "name": "python",
   "nbconvert_exporter": "python",
   "pygments_lexer": "ipython3",
   "version": "3.10.10"
  }
 },
 "nbformat": 4,
 "nbformat_minor": 5
}
