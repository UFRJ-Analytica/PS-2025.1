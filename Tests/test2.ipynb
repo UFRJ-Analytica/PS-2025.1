{
 "cells": [
  {
   "cell_type": "markdown",
   "id": "3c11d320",
   "metadata": {},
   "source": [
    "Teste 2: Eliminar a coluna de posições."
   ]
  },
  {
   "cell_type": "markdown",
   "id": "39080e44",
   "metadata": {},
   "source": [
    "# Inicialização"
   ]
  },
  {
   "cell_type": "markdown",
   "id": "d9e56289",
   "metadata": {},
   "source": [
    "**Bibliotecas**"
   ]
  },
  {
   "cell_type": "code",
<<<<<<< HEAD
   "execution_count": 61,
=======
   "execution_count": 24,
>>>>>>> 3591d4c1445069bc2d0daf8652c38c3a63ebbaf5
   "id": "00b861fb",
   "metadata": {},
   "outputs": [],
   "source": [
    "import os\n",
    "import sys\n",
    "import pandas as pd"
   ]
  },
  {
   "cell_type": "markdown",
   "id": "a034e489",
   "metadata": {},
   "source": [
    "**Funções auxiliares**"
   ]
  },
  {
   "cell_type": "code",
   "execution_count": 25,
   "id": "096b2fb8",
   "metadata": {},
   "outputs": [],
   "source": [
    "sys.path.append(os.path.abspath('../src'))\n",
    "from modelo_e_treinamento import split, ensemble_train, ensemble_test, ensemble_evaluate\n",
    "from sklearn.model_selection import train_test_split"
   ]
  },
  {
   "cell_type": "markdown",
   "id": "ce4e3647",
   "metadata": {},
   "source": [
    "**Leitura de Arquivos**"
   ]
  },
  {
   "cell_type": "code",
   "execution_count": 26,
   "id": "b5aa192a",
   "metadata": {},
   "outputs": [],
   "source": [
    "current_path = os.path.dirname(os.getcwd())\n",
    "csv_path = (current_path + '/Data/Entradas_teste/teste2.csv')\n",
    "df = pd.read_csv(csv_path)"
   ]
  },
  {
   "cell_type": "markdown",
   "id": "85666ed4",
   "metadata": {},
   "source": [
    "# Treinamento do Modelo"
   ]
  },
  {
   "cell_type": "code",
   "execution_count": 27,
   "id": "35706fbd",
   "metadata": {},
   "outputs": [
    {
     "name": "stdout",
     "output_type": "stream",
     "text": [
      "<class 'pandas.core.series.Series'>\n"
     ]
    }
   ],
   "source": [
    "print(type(df[\"Target\"]))"
   ]
  },
  {
   "cell_type": "code",
<<<<<<< HEAD
   "execution_count": 62,
=======
   "execution_count": 28,
>>>>>>> 3591d4c1445069bc2d0daf8652c38c3a63ebbaf5
   "id": "093a7bed",
   "metadata": {},
   "outputs": [],
   "source": [
    "def split(df: pd.DataFrame, target_column: str, test_size: float = 0.2, random_state: int = 42\n",
    "        ):\n",
    "    \"\"\"\n",
    "    Separa features e target e realiza o split em treino e teste.\n",
    "\n",
    "    Parâmetros:\n",
    "    - df (pd.DataFrame): DataFrame completo com features e coluna alvo.\n",
    "    - target_column (str): Nome da coluna alvo.\n",
    "    - test_size (float, opcional): Proporção dos dados para teste (padrão: 0.2).\n",
    "    - random_state (int, opcional): Semente aleatória para reprodutibilidade (padrão: 42).\n",
    "\n",
    "    Retorna:\n",
    "    - Tuple: (X_train, X_test, y_train, y_test)\n",
    "    \"\"\"\n",
    "\n",
    "    if target_column not in df.columns:\n",
    "        raise ValueError(f\"A coluna '{target_column}' não existe no DataFrame.\")\n",
    "\n",
    "    X = df.drop(columns=[target_column])\n",
    "    y = df['Target']\n",
    "    return train_test_split(X, y, test_size=test_size, random_state=random_state)"
   ]
  },
  {
   "cell_type": "code",
<<<<<<< HEAD
   "execution_count": 63,
=======
   "execution_count": 29,
>>>>>>> 3591d4c1445069bc2d0daf8652c38c3a63ebbaf5
   "id": "aec2a2f0",
   "metadata": {},
   "outputs": [
    {
     "name": "stdout",
     "output_type": "stream",
     "text": [
      "Splitando dados...\n"
     ]
    }
   ],
   "source": [
    "print(\"Splitando dados...\")\n",
    "X_train, X_test, y_train, y_test = split(df, \"Target\")"
   ]
  },
  {
   "cell_type": "code",
<<<<<<< HEAD
   "execution_count": 64,
=======
   "execution_count": 30,
>>>>>>> 3591d4c1445069bc2d0daf8652c38c3a63ebbaf5
   "id": "6f58c9fe",
   "metadata": {},
   "outputs": [
    {
     "name": "stdout",
     "output_type": "stream",
     "text": [
      "\n",
      "Treinamento o ensemble...\n",
      "Treinando XGBoost...\n",
      "\n",
      "[LOG - XGBoost] Melhores hiperparâmetros encontrados:\n",
      "  subsample: 0.8\n",
      "  n_estimators: 300\n",
      "  max_depth: 10\n",
      "  learning_rate: 0.05\n",
      "  colsample_bytree: 0.6\n",
      "Treinando MLP...\n",
      "Iteration 1, loss = 0.53222953\n",
      "Iteration 2, loss = 0.01668624\n",
      "Iteration 3, loss = 0.00252701\n",
      "Iteration 4, loss = 0.00096631\n",
      "Iteration 5, loss = 0.00056092\n",
      "Iteration 6, loss = 0.00037877\n",
      "Iteration 7, loss = 0.00027994\n",
      "Iteration 8, loss = 0.00022014\n",
      "Iteration 9, loss = 0.00018057\n",
      "Iteration 10, loss = 0.00015380\n",
      "Iteration 11, loss = 0.00013443\n",
      "Iteration 12, loss = 0.00011993\n",
      "Iteration 13, loss = 0.00010893\n",
      "Iteration 14, loss = 0.00010042\n",
      "Iteration 15, loss = 0.00009375\n",
      "Iteration 16, loss = 0.00008827\n",
      "Iteration 17, loss = 0.00008383\n",
      "Training loss did not improve more than tol=0.000100 for 10 consecutive epochs. Stopping.\n",
      "\n",
      "[LOG - MLP] Arquitetura usada:\n",
      "  hidden_layer_sizes: (128, 64, 32)\n",
      "  max_iter: 200\n",
      "Treinando ensemble...\n",
      "Iteration 1, loss = 0.53222953\n",
      "Iteration 2, loss = 0.01668624\n",
      "Iteration 3, loss = 0.00252701\n",
      "Iteration 4, loss = 0.00096631\n",
      "Iteration 5, loss = 0.00056092\n",
      "Iteration 6, loss = 0.00037877\n",
      "Iteration 7, loss = 0.00027994\n",
      "Iteration 8, loss = 0.00022014\n",
      "Iteration 9, loss = 0.00018057\n",
      "Iteration 10, loss = 0.00015380\n",
      "Iteration 11, loss = 0.00013443\n",
      "Iteration 12, loss = 0.00011993\n",
      "Iteration 13, loss = 0.00010893\n",
      "Iteration 14, loss = 0.00010042\n",
      "Iteration 15, loss = 0.00009375\n",
      "Iteration 16, loss = 0.00008827\n",
      "Iteration 17, loss = 0.00008383\n",
<<<<<<< HEAD
      "Training loss did not improve more than tol=0.000100 for 10 consecutive epochs. Stopping.\n"
=======
      "Training loss did not improve more than tol=0.000100 for 10 consecutive epochs. Stopping.\n",
      "\n",
      "Testando o ensemble...\n"
>>>>>>> 3591d4c1445069bc2d0daf8652c38c3a63ebbaf5
     ]
    }
   ],
   "source": [
    "# === Treinamento do Ensemble ===\n",
    "print(\"\\nTreinamento o ensemble...\")\n",
    "ensemble_model = ensemble_train(X_train, y_train)\n",
    "\n",
<<<<<<< HEAD
    "\n"
   ]
  },
  {
   "cell_type": "code",
   "execution_count": 65,
   "id": "5fede875",
   "metadata": {},
   "outputs": [
    {
     "name": "stdout",
     "output_type": "stream",
     "text": [
      "\n",
      "Testando o ensemble...\n"
     ]
    }
   ],
   "source": [
    "    # === Teste ===\n",
    "print(\"\\nTestando o ensemble...\")\n",
    "y_pred = ensemble_test(ensemble_model, X_test)"
   ]
  },
  {
   "cell_type": "code",
   "execution_count": 66,
   "id": "8a866072",
   "metadata": {},
   "outputs": [
    {
     "name": "stdout",
     "output_type": "stream",
     "text": [
      "\n",
      "Avaliação do modelo:\n",
      "\n",
      "==== Avaliação ====\n",
      "Accuracy: 1.0000\n",
      "\n",
      "Classification Report:\n",
      "              precision    recall  f1-score   support\n",
      "\n",
      "           0       1.00      1.00      1.00      1502\n",
      "           1       1.00      1.00      1.00      1240\n",
      "           2       1.00      1.00      1.00      2374\n",
      "\n",
      "    accuracy                           1.00      5116\n",
      "   macro avg       1.00      1.00      1.00      5116\n",
      "weighted avg       1.00      1.00      1.00      5116\n",
      "\n",
      "\n",
      "Confusion Matrix (normalizada):\n",
      "[[1. 0. 0.]\n",
      " [0. 1. 0.]\n",
      " [0. 0. 1.]]\n"
     ]
    }
   ],
   "source": [
    "    # === Avaliação ===\n",
    "print(\"\\nAvaliação do modelo:\")\n",
    "metrics = ensemble_evaluate(y_test, y_pred)"
=======
    "# === Teste ===\n",
    "print(\"\\nTestando o ensemble...\")\n",
    "y_pred = ensemble_test(ensemble_model, X_test)\n",
    "\n",
    "# === Avaliação ===\n",
    "# print(\"\\nAvaliação do modelo:\")\n",
    "# metrics = ensemble_evaluate(y_test, y_pred)"
>>>>>>> 3591d4c1445069bc2d0daf8652c38c3a63ebbaf5
   ]
  },
  {
   "cell_type": "code",
   "execution_count": null,
   "id": "32852073",
   "metadata": {},
   "outputs": [],
   "source": []
  }
 ],
 "metadata": {
  "kernelspec": {
   "display_name": "Python 3",
   "language": "python",
   "name": "python3"
  },
  "language_info": {
   "codemirror_mode": {
    "name": "ipython",
    "version": 3
   },
   "file_extension": ".py",
   "mimetype": "text/x-python",
   "name": "python",
   "nbconvert_exporter": "python",
   "pygments_lexer": "ipython3",
   "version": "3.13.1"
  }
 },
 "nbformat": 4,
 "nbformat_minor": 5
}
