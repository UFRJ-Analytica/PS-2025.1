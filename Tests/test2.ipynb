{
 "cells": [
  {
   "cell_type": "markdown",
   "id": "3c11d320",
   "metadata": {},
   "source": [
    "Teste 2: Eliminar a coluna de posições."
   ]
  },
  {
   "cell_type": "markdown",
   "id": "1ae22965",
   "metadata": {},
   "source": [
    "> Retirei a coluna aqui apenas para ficar mais fácil. Depois organizamos melhor."
   ]
  },
  {
   "cell_type": "code",
   "execution_count": 47,
   "id": "00b861fb",
   "metadata": {},
   "outputs": [],
   "source": [
    "import sys\n",
    "import os\n",
    "sys.path.append(os.path.abspath('../src')) # gambiarra para conseguir importar o arquivo\n",
    "\n",
    "from modelo_e_treinamento import split, ensemble_train, ensemble_test, ensemble_evaluate\n",
    "from sklearn.model_selection import train_test_split\n",
    "\n",
    "import pandas as pd"
   ]
  },
  {
   "cell_type": "code",
   "execution_count": 29,
   "id": "b5aa192a",
   "metadata": {},
   "outputs": [],
   "source": [
    "current_path = os.path.dirname(os.getcwd())\n",
    "csv_path = (current_path + '/Data/entradas/campeonatos_futebol_teste1.csv')\n",
    "df = pd.read_csv(csv_path)"
   ]
  },
  {
   "cell_type": "code",
   "execution_count": 30,
   "id": "c0ef43e4",
   "metadata": {},
   "outputs": [
    {
     "data": {
      "text/html": [
       "<div>\n",
       "<style scoped>\n",
       "    .dataframe tbody tr th:only-of-type {\n",
       "        vertical-align: middle;\n",
       "    }\n",
       "\n",
       "    .dataframe tbody tr th {\n",
       "        vertical-align: top;\n",
       "    }\n",
       "\n",
       "    .dataframe thead th {\n",
       "        text-align: right;\n",
       "    }\n",
       "</style>\n",
       "<table border=\"1\" class=\"dataframe\">\n",
       "  <thead>\n",
       "    <tr style=\"text-align: right;\">\n",
       "      <th></th>\n",
       "      <th>Chutes a gol 1</th>\n",
       "      <th>Chutes a gol 2</th>\n",
       "      <th>Impedimentos 1</th>\n",
       "      <th>Impedimentos 2</th>\n",
       "      <th>Escanteios 1</th>\n",
       "      <th>Escanteios 2</th>\n",
       "      <th>Chutes fora 1</th>\n",
       "      <th>Chutes fora 2</th>\n",
       "      <th>Faltas 1</th>\n",
       "      <th>Faltas 2</th>\n",
       "      <th>Cartões amarelos 1</th>\n",
       "      <th>Cartões amarelos 2</th>\n",
       "      <th>Cartões vermelhos 1</th>\n",
       "      <th>Cartões vermelhos 2</th>\n",
       "      <th>Gols 1</th>\n",
       "      <th>Gols 2</th>\n",
       "      <th>Posse 1(%)</th>\n",
       "      <th>Posse 2(%)</th>\n",
       "      <th>Target</th>\n",
       "    </tr>\n",
       "  </thead>\n",
       "  <tbody>\n",
       "    <tr>\n",
       "      <th>0</th>\n",
       "      <td>8.0</td>\n",
       "      <td>0.0</td>\n",
       "      <td>6.0</td>\n",
       "      <td>3.0</td>\n",
       "      <td>7.0</td>\n",
       "      <td>1.0</td>\n",
       "      <td>6.0</td>\n",
       "      <td>1.0</td>\n",
       "      <td>8.0</td>\n",
       "      <td>14.0</td>\n",
       "      <td>0.0</td>\n",
       "      <td>5.0</td>\n",
       "      <td>0.0</td>\n",
       "      <td>0.0</td>\n",
       "      <td>3.0</td>\n",
       "      <td>0.0</td>\n",
       "      <td>77.0</td>\n",
       "      <td>23.0</td>\n",
       "      <td>2</td>\n",
       "    </tr>\n",
       "    <tr>\n",
       "      <th>1</th>\n",
       "      <td>0.0</td>\n",
       "      <td>2.0</td>\n",
       "      <td>0.0</td>\n",
       "      <td>2.0</td>\n",
       "      <td>0.0</td>\n",
       "      <td>4.0</td>\n",
       "      <td>3.0</td>\n",
       "      <td>4.0</td>\n",
       "      <td>19.0</td>\n",
       "      <td>14.0</td>\n",
       "      <td>4.0</td>\n",
       "      <td>1.0</td>\n",
       "      <td>0.0</td>\n",
       "      <td>0.0</td>\n",
       "      <td>0.0</td>\n",
       "      <td>0.0</td>\n",
       "      <td>44.0</td>\n",
       "      <td>56.0</td>\n",
       "      <td>1</td>\n",
       "    </tr>\n",
       "    <tr>\n",
       "      <th>2</th>\n",
       "      <td>4.0</td>\n",
       "      <td>5.0</td>\n",
       "      <td>1.0</td>\n",
       "      <td>5.0</td>\n",
       "      <td>8.0</td>\n",
       "      <td>11.0</td>\n",
       "      <td>2.0</td>\n",
       "      <td>5.0</td>\n",
       "      <td>13.0</td>\n",
       "      <td>14.0</td>\n",
       "      <td>2.0</td>\n",
       "      <td>2.0</td>\n",
       "      <td>1.0</td>\n",
       "      <td>0.0</td>\n",
       "      <td>2.0</td>\n",
       "      <td>2.0</td>\n",
       "      <td>47.0</td>\n",
       "      <td>53.0</td>\n",
       "      <td>1</td>\n",
       "    </tr>\n",
       "    <tr>\n",
       "      <th>3</th>\n",
       "      <td>4.0</td>\n",
       "      <td>7.0</td>\n",
       "      <td>8.0</td>\n",
       "      <td>1.0</td>\n",
       "      <td>6.0</td>\n",
       "      <td>5.0</td>\n",
       "      <td>4.0</td>\n",
       "      <td>7.0</td>\n",
       "      <td>4.0</td>\n",
       "      <td>11.0</td>\n",
       "      <td>0.0</td>\n",
       "      <td>0.0</td>\n",
       "      <td>0.0</td>\n",
       "      <td>0.0</td>\n",
       "      <td>2.0</td>\n",
       "      <td>1.0</td>\n",
       "      <td>27.0</td>\n",
       "      <td>73.0</td>\n",
       "      <td>2</td>\n",
       "    </tr>\n",
       "    <tr>\n",
       "      <th>4</th>\n",
       "      <td>3.0</td>\n",
       "      <td>1.0</td>\n",
       "      <td>1.0</td>\n",
       "      <td>3.0</td>\n",
       "      <td>5.0</td>\n",
       "      <td>4.0</td>\n",
       "      <td>2.0</td>\n",
       "      <td>2.0</td>\n",
       "      <td>12.0</td>\n",
       "      <td>17.0</td>\n",
       "      <td>1.0</td>\n",
       "      <td>3.0</td>\n",
       "      <td>0.0</td>\n",
       "      <td>0.0</td>\n",
       "      <td>2.0</td>\n",
       "      <td>0.0</td>\n",
       "      <td>58.0</td>\n",
       "      <td>42.0</td>\n",
       "      <td>2</td>\n",
       "    </tr>\n",
       "  </tbody>\n",
       "</table>\n",
       "</div>"
      ],
      "text/plain": [
       "   Chutes a gol 1  Chutes a gol 2  Impedimentos 1  Impedimentos 2  \\\n",
       "0             8.0             0.0             6.0             3.0   \n",
       "1             0.0             2.0             0.0             2.0   \n",
       "2             4.0             5.0             1.0             5.0   \n",
       "3             4.0             7.0             8.0             1.0   \n",
       "4             3.0             1.0             1.0             3.0   \n",
       "\n",
       "   Escanteios 1  Escanteios 2  Chutes fora 1  Chutes fora 2  Faltas 1  \\\n",
       "0           7.0           1.0            6.0            1.0       8.0   \n",
       "1           0.0           4.0            3.0            4.0      19.0   \n",
       "2           8.0          11.0            2.0            5.0      13.0   \n",
       "3           6.0           5.0            4.0            7.0       4.0   \n",
       "4           5.0           4.0            2.0            2.0      12.0   \n",
       "\n",
       "   Faltas 2  Cartões amarelos 1  Cartões amarelos 2  Cartões vermelhos 1  \\\n",
       "0      14.0                 0.0                 5.0                  0.0   \n",
       "1      14.0                 4.0                 1.0                  0.0   \n",
       "2      14.0                 2.0                 2.0                  1.0   \n",
       "3      11.0                 0.0                 0.0                  0.0   \n",
       "4      17.0                 1.0                 3.0                  0.0   \n",
       "\n",
       "   Cartões vermelhos 2  Gols 1  Gols 2  Posse 1(%)  Posse 2(%)  Target  \n",
       "0                  0.0     3.0     0.0        77.0        23.0       2  \n",
       "1                  0.0     0.0     0.0        44.0        56.0       1  \n",
       "2                  0.0     2.0     2.0        47.0        53.0       1  \n",
       "3                  0.0     2.0     1.0        27.0        73.0       2  \n",
       "4                  0.0     2.0     0.0        58.0        42.0       2  "
      ]
     },
     "execution_count": 30,
     "metadata": {},
     "output_type": "execute_result"
    }
   ],
   "source": [
    "df = df.drop(\"Position 1\", axis=1)\n",
    "df = df.drop(\"Position 2\", axis=1)\n",
    "df.head()"
   ]
  },
  {
   "cell_type": "markdown",
   "id": "85666ed4",
   "metadata": {},
   "source": [
    "# Treinamento do Modelo"
   ]
  },
  {
   "cell_type": "code",
   "execution_count": 31,
   "id": "35706fbd",
   "metadata": {},
   "outputs": [
    {
     "name": "stdout",
     "output_type": "stream",
     "text": [
      "<class 'pandas.core.series.Series'>\n"
     ]
    }
   ],
   "source": [
    "print(type(df[\"Target\"]))"
   ]
  },
  {
   "cell_type": "code",
   "execution_count": 48,
   "id": "093a7bed",
   "metadata": {},
   "outputs": [],
   "source": [
    "def split(df: pd.DataFrame, target_column: str, test_size: float = 0.2, random_state: int = 42\n",
    "        ):\n",
    "    \"\"\"\n",
    "    Separa features e target e realiza o split em treino e teste.\n",
    "\n",
    "    Parâmetros:\n",
    "    - df (pd.DataFrame): DataFrame completo com features e coluna alvo.\n",
    "    - target_column (str): Nome da coluna alvo.\n",
    "    - test_size (float, opcional): Proporção dos dados para teste (padrão: 0.2).\n",
    "    - random_state (int, opcional): Semente aleatória para reprodutibilidade (padrão: 42).\n",
    "\n",
    "    Retorna:\n",
    "    - Tuple: (X_train, X_test, y_train, y_test)\n",
    "    \"\"\"\n",
    "\n",
    "    if target_column not in df.columns:\n",
    "        raise ValueError(f\"A coluna '{target_column}' não existe no DataFrame.\")\n",
    "\n",
    "    X = df.drop(columns=[target_column])\n",
    "    y = df['Target']\n",
    "    return train_test_split(X, y, test_size=test_size, random_state=random_state)"
   ]
  },
  {
   "cell_type": "code",
   "execution_count": 49,
   "id": "aec2a2f0",
   "metadata": {},
   "outputs": [
    {
     "name": "stdout",
     "output_type": "stream",
     "text": [
      "Splitando dados...\n"
     ]
    }
   ],
   "source": [
    "print(\"Splitando dados...\")\n",
    "X_train, X_test, y_train, y_test = split(df, \"Target\")"
   ]
  },
  {
   "cell_type": "code",
   "execution_count": null,
   "id": "6f58c9fe",
   "metadata": {},
   "outputs": [
    {
     "name": "stdout",
     "output_type": "stream",
     "text": [
      "\n",
      "Treinamento o ensemble...\n",
      "Treinando XGBoost...\n"
     ]
    }
   ],
   "source": [
    "\n",
    "\n",
    "    # === Treinamento do Ensemble ===\n",
    "print(\"\\nTreinamento o ensemble...\")\n",
    "ensemble_model = ensemble_train(X_train, y_train)\n",
    "\n",
    "    # === Teste ===\n",
    "print(\"\\nTestando o ensemble...\")\n",
    "y_pred = ensemble_test(ensemble_model, X_test)\n",
    "\n",
    "    # === Avaliação ===\n",
    "print(\"\\nAvaliação do modelo:\")\n",
    "metrics = ensemble_evaluate(y_test, y_pred)"
   ]
  }
 ],
 "metadata": {
  "kernelspec": {
   "display_name": "Python 3",
   "language": "python",
   "name": "python3"
  },
  "language_info": {
   "codemirror_mode": {
    "name": "ipython",
    "version": 3
   },
   "file_extension": ".py",
   "mimetype": "text/x-python",
   "name": "python",
   "nbconvert_exporter": "python",
   "pygments_lexer": "ipython3",
   "version": "3.10.10"
  }
 },
 "nbformat": 4,
 "nbformat_minor": 5
}
