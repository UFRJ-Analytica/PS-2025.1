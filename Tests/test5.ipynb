{
 "cells": [
  {
   "cell_type": "markdown",
   "id": "163548cb",
   "metadata": {},
   "source": [
    "Teste 6: Usar o KNN inputer nas colunas com muitos NaNs (estou curioso para ver como ficaria)"
   ]
  }
 ],
 "metadata": {
  "language_info": {
   "name": "python"
  }
 },
 "nbformat": 4,
 "nbformat_minor": 5
}
