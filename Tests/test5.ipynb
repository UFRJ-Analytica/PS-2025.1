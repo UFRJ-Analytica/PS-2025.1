{
 "cells": [
  {
   "cell_type": "markdown",
   "id": "3db051a3",
   "metadata": {},
   "source": [
    "Teste 5: Com os índices"
   ]
  }
 ],
 "metadata": {
  "language_info": {
   "name": "python"
  }
 },
 "nbformat": 4,
 "nbformat_minor": 5
}
