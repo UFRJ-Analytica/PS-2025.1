{
 "cells": [
  {
   "cell_type": "markdown",
   "id": "1a96db33-bb0d-46f6-9c4e-8aa8bdac7b66",
   "metadata": {
    "jp-MarkdownHeadingCollapsed": true
   },
   "source": [
    "# Primeira parte- Análise e tratamento dos dados fornecidos\n",
    "\n"
   ]
  },
  {
   "cell_type": "markdown",
   "id": "c186c0d1-1e28-40f7-9285-38d44a838389",
   "metadata": {
    "jp-MarkdownHeadingCollapsed": true
   },
   "source": [
    "## 1- Principais bibliotecas que foram utilizadas\n",
    "\n"
   ]
  },
  {
   "cell_type": "code",
   "execution_count": null,
   "id": "2a401531-85a4-4d9a-910c-a9e4028b2d0b",
   "metadata": {},
   "outputs": [],
   "source": [
    "import pandas as pd\n",
    "import matplotlib.pyplot as plt\n",
    "import seaborn as sns\n",
    "\n",
    "from sklearn.model_selection import train_test_split\n",
    "from sklearn.ensemble import RandomForestClassifier\n",
    "from sklearn.metrics import classification_report, confusion_matrix, accuracy_score\n",
    "\n",
    "import joblib"
   ]
  },
  {
   "cell_type": "markdown",
   "id": "08c60684-cef5-42ef-9e9a-cc5779743257",
   "metadata": {},
   "source": [
    "- Para a Manipulação de dados utilizamos pandas;\n",
    "\n",
    "- Na Visualização trabalhamos com as bibliotecas matplotlib e seaborn;\n",
    "\n",
    "- No Machine learning, utilizamos ao sklearn;\n",
    "\n",
    "- E para salvar os resultado da análise, joblib."
   ]
  },
  {
   "cell_type": "markdown",
   "id": "234f77d2-d847-429d-8d26-385b1b68c536",
   "metadata": {
    "jp-MarkdownHeadingCollapsed": true
   },
   "source": [
    "## 2- Carregamento dos Dados\n",
    "- Leitura do arquivo CSV com tratamento de exceção:"
   ]
  },
  {
   "cell_type": "code",
   "execution_count": null,
   "id": "68fad594-7917-4a4d-b33b-3ab4e0a2a6a1",
   "metadata": {},
   "outputs": [],
   "source": [
    " try:\n",
    "      df = pd.read_csv(\"campeonatos_futebol_atualizacao.csv\")#Fizemos uma cópia dos dados para ficar no mesmo diretório e poder acessá-los com mais facilidade\n",
    "      print(\"Dados carregados com sucesso!\")\n",
    "     \n",
    "  except FileNotFoundError:\n",
    "      print(\"Arquivo não encontrado. Verifique o caminho.\")\n",
    "      exit()"
   ]
  },
  {
   "cell_type": "markdown",
   "id": "01e90dfc-98dd-4a40-bf9b-3a21c127dd92",
   "metadata": {},
   "source": [
    "-Esse tratamento garante que o arquivo exista e lida com erros na leitura, e caso haja erro exibirá a mensagem \"arquivo não encontrado.Verifique o caminho\""
   ]
  },
  {
   "cell_type": "markdown",
   "id": "9a5fdc84-924c-4638-b252-f73e0e0cd8fa",
   "metadata": {
    "jp-MarkdownHeadingCollapsed": true
   },
   "source": [
    "## 3- Tratamento de Dados\n",
    "\n",
    "- Preenchimento de valores ausentes:\n"
   ]
  },
  {
   "cell_type": "code",
   "execution_count": null,
   "id": "a9bce952-b34f-436d-9289-a9252468b247",
   "metadata": {},
   "outputs": [],
   "source": [
    "for col in df.select_dtypes(include=['float64', 'int64']):\n",
    "    df[col] = df[col].fillna(df[col].median())\n",
    "for col in df.select_dtypes(include=['object']):\n",
    "    df[col] = df[col].fillna(df[col].mode()[0])"
   ]
  },
  {
   "cell_type": "markdown",
   "id": "792392b8-416d-49c5-a4bf-47ee4b34182e",
   "metadata": {},
   "source": [
    "- Preenchimento de valores ausentes:\n",
    "- Substitui NaN por:\n",
    "\n",
    "  - Mediana, se for numérico;\n",
    "\n",
    "  - Moda, se for categórico.\n",
    "\n",
    "Evita warnings futuros do pandas ao não usar inplace=True em cadeia."
   ]
  },
  {
   "cell_type": "markdown",
   "id": "464c4ae2-d3cb-42fe-a2d1-86e3e590408f",
   "metadata": {
    "jp-MarkdownHeadingCollapsed": true
   },
   "source": [
    "### Remoção de outliers com IQR:\n",
    "\n",
    "- O IQR(Intervalo Interquartil) é utilizado para achar valores chamados outliers, que são valores fora da curva que acabem por ser irreais e extrapolem a curva de valores esperados.Nesse caso utilizamos dois parâmetro o Q1 e Q3, onde:\n",
    "- Q1 (25%): é o valor que separa os 25% menores dados.\n",
    "\n",
    "- Q3 (75%): é o valor que separa os 25% maiores dados.\n",
    "\n",
    "- IQR: intervalo do “meio” onde estão os 50% centrais dos dados.\n"
   ]
  },
  {
   "cell_type": "code",
   "execution_count": null,
   "id": "2e190008-3425-4dc8-8c6b-290046747c85",
   "metadata": {},
   "outputs": [],
   "source": [
    "def get_outlier_indices(df, column):\n",
    "    Q1 = df[column].quantile(0.25)\n",
    "    Q3 = df[column].quantile(0.75)\n",
    "    IQR = Q3 - Q1\n",
    "    lower = Q1 - 1.5 * IQR\n",
    "    upper = Q3 + 1.5 * IQR\n",
    "    return df[(df[column] < lower) | (df[column] > upper)].index\n",
    "\n",
    "outlier_indices = set()\n",
    "for col in df.select_dtypes(include=['float64', 'int64']).columns:\n",
    "    outlier_indices.update(get_outlier_indices(df, col))\n",
    "\n",
    "df = df.drop(index=outlier_indices).reset_index(drop=True)"
   ]
  },
  {
   "cell_type": "markdown",
   "id": "20b841da-5deb-40f1-ab15-84d49bfdcf18",
   "metadata": {},
   "source": [
    "- Assim, removendo valores extremos com base no Intervalo Interquartílico (IQR).\n"
   ]
  },
  {
   "cell_type": "markdown",
   "id": "9d3b2400-8750-4e2e-bcfa-e828fe305ea4",
   "metadata": {
    "jp-MarkdownHeadingCollapsed": true
   },
   "source": [
    "## 4- Análise Exploratória dos Dados\n",
    "\n",
    " Aqui analisamos visualmente as variáveis mais relevantes para entender padrões e relações entre os dados.\n",
    "- Seleção das variáveis:"
   ]
  },
  {
   "cell_type": "code",
   "execution_count": null,
   "id": "987ee875-6afd-42ad-ab60-7190dba82a59",
   "metadata": {},
   "outputs": [],
   "source": [
    "variaveis = ['Chutes a gol 1', 'Gols 1', 'Posse 1(%)', 'Escanteios 1', \n",
    "             'Faltas 1', 'Cartões amarelos 1', 'Cartões vermelhos 1',\n",
    "             'Chutes a gol 2', 'Gols 2', 'Posse 2(%)', 'Escanteios 2', \n",
    "             'Faltas 2', 'Cartões amarelos 2', 'Cartões vermelhos 2']"
   ]
  },
  {
   "cell_type": "markdown",
   "id": "c34cde0d-10a5-4c44-a700-24dfd618a48a",
   "metadata": {},
   "source": [
    "Essas são as features (características) usadas para entender o desempenho de cada time na partida."
   ]
  },
  {
   "cell_type": "markdown",
   "id": "de59b507-4749-48e5-b773-79e0cbff56fc",
   "metadata": {},
   "source": [
    "- Mapa de calor de correlação entre as variáveis:"
   ]
  },
  {
   "cell_type": "code",
   "execution_count": null,
   "id": "97e5f9b4-7943-4d39-bad1-85f3cba2fb44",
   "metadata": {},
   "outputs": [],
   "source": [
    "plt.figure(figsize=(10,8))\n",
    "sns.heatmap(df[variaveis].corr(), annot=True, cmap=\"coolwarm\")\n",
    "plt.title(\"Correlação entre Variáveis Selecionadas\")\n",
    "plt.show()"
   ]
  },
  {
   "cell_type": "markdown",
   "id": "a56e9cb7-45e2-403c-a4c7-75ef0d9706c0",
   "metadata": {},
   "source": [
    " - Usado para visualizar correlações numéricas entre variáveis.\n",
    " - Permite identificar colunas com forte relação entre si (ex: mais chutes = mais gols?)."
   ]
  },
  {
   "cell_type": "markdown",
   "id": "18502778-e12a-4a92-8ad1-fc6e2c85c882",
   "metadata": {},
   "source": [
    "- Distribuição de gols:"
   ]
  },
  {
   "cell_type": "code",
   "execution_count": null,
   "id": "34dd4287-f8e0-4fd2-85e8-fc538008e366",
   "metadata": {},
   "outputs": [],
   "source": [
    "plt.figure(figsize=(12,5))\n",
    "plt.subplot(1,2,1)\n",
    "sns.histplot(df['Gols 1'], bins=range(0,10), color='blue').set_title('Gols - Time da Casa')\n",
    "plt.subplot(1,2,2)\n",
    "sns.histplot(df['Gols 2'], bins=range(0,10), color='red').set_title('Gols - Time Visitante')\n",
    "plt.tight_layout()\n",
    "plt.show()"
   ]
  },
  {
   "cell_type": "markdown",
   "id": "94b67374-9c3e-4611-9249-7b32a0cd7362",
   "metadata": {},
   "source": [
    "Gráficos de histograma para visualizar frequência de gols dos times da casa e visitante"
   ]
  },
  {
   "cell_type": "markdown",
   "id": "b83863a6-6697-41fc-965f-bd39e358b8d4",
   "metadata": {},
   "source": [
    "- Criação da coluna de resultado:"
   ]
  },
  {
   "cell_type": "code",
   "execution_count": null,
   "id": "8e2f3a1e-9500-4e73-bf44-2502b95473ab",
   "metadata": {},
   "outputs": [],
   "source": [
    "df['Resultado'] = df.apply(lambda x: 'Casa' if x['Gols 1'] > x['Gols 2'] else ('Empate' if x['Gols 1'] == x['Gols 2'] else 'Fora'), axis=1)"
   ]
  },
  {
   "cell_type": "markdown",
   "id": "6687e40a-b13f-4dd6-8b65-d60307a3353a",
   "metadata": {},
   "source": [
    "\n",
    " - Cria uma nova coluna com o resultado final da partida baseado no número de gols:\n",
    "\n",
    "   - 'Casa' se o time da casa venceu\n",
    "\n",
    "   - 'Fora' se o visitante venceu\n",
    "\n",
    "   - 'Empate' caso os gols sejam iguais"
   ]
  },
  {
   "cell_type": "markdown",
   "id": "f344548c-ef9e-4d26-a8ae-958594ccf9f9",
   "metadata": {},
   "source": [
    "- Gráfico de distribuição dos resultados:"
   ]
  },
  {
   "cell_type": "code",
   "execution_count": null,
   "id": "2eb1b458-0083-4553-a647-0b987ca5b20f",
   "metadata": {},
   "outputs": [],
   "source": [
    "plt.figure(figsize=(8, 5))\n",
    "sns.countplot(data=df, x='Resultado', hue='Resultado', order=['Casa', 'Empate', 'Fora'],\n",
    "              palette={'Casa':'blue', 'Empate':'gray', 'Fora':'red'}, legend=False)\n",
    "plt.title('Distribuição de Resultados')\n",
    "plt.show()"
   ]
  },
  {
   "cell_type": "markdown",
   "id": "ab8dcd09-e166-402a-859e-a17e4e76d7f9",
   "metadata": {},
   "source": [
    "Mostra quantas partidas terminaram com vitória da casa, empate ou vitória do visitante."
   ]
  },
  {
   "cell_type": "markdown",
   "id": "709db3ed-ef0e-484f-9a57-7137492e8403",
   "metadata": {
    "jp-MarkdownHeadingCollapsed": true
   },
   "source": [
    "# Segunda parte- Utilização dos dados para o Machine Learning"
   ]
  },
  {
   "cell_type": "markdown",
   "id": "ba9cc709-5cbe-44b5-a379-a2c25f9558f6",
   "metadata": {},
   "source": [
    "## Machine learning\n",
    "Aqui usamos técnicas de aprendizado de máquina para prever o resultado da partida com base nas estatísticas do jogo.\n",
    "-  Definindo variáveis de entrada (X) e saída (y):"
   ]
  },
  {
   "cell_type": "code",
   "execution_count": null,
   "id": "45a9fba3-8de3-49a1-9eb0-4cf584e7e885",
   "metadata": {},
   "outputs": [],
   "source": [
    "X = df[variaveis]\n",
    "y = df['Resultado']"
   ]
  },
  {
   "cell_type": "markdown",
   "id": "f6d658ab-b473-43ab-9457-f4b6e8d3e220",
   "metadata": {},
   "source": [
    "    - X são as variáveis estatísticas do jogo.\n",
    " \n",
    "    - y é o resultado que queremos prever.\n",
    "- Divisão entre treino e teste:"
   ]
  },
  {
   "cell_type": "code",
   "execution_count": null,
   "id": "572479fe-a569-472d-86b8-43c3f75069de",
   "metadata": {},
   "outputs": [],
   "source": [
    "X_train, X_test, y_train, y_test = train_test_split(X, y, test_size=0.2, random_state=42)"
   ]
  },
  {
   "cell_type": "markdown",
   "id": "fd8bc125-93d2-4508-a420-eefe43e99a96",
   "metadata": {},
   "source": [
    "- Separa os dados em:\n",
    "\n",
    "  - 80% para treino\n",
    "\n",
    "  - 20% para teste\n",
    "\n",
    "Garante que o modelo aprenda com uma parte dos dados e seja avaliado com outra."
   ]
  },
  {
   "cell_type": "markdown",
   "id": "1aafd114-b00d-4116-90b8-2539928f11df",
   "metadata": {},
   "source": [
    "- Criação e treinamento do modelo:"
   ]
  },
  {
   "cell_type": "code",
   "execution_count": null,
   "id": "14c10130-9288-4bc4-af38-2fc6691b8544",
   "metadata": {},
   "outputs": [],
   "source": [
    "modelo = RandomForestClassifier(n_estimators=100, random_state=42)\n",
    "modelo.fit(X_train, y_train)"
   ]
  },
  {
   "cell_type": "markdown",
   "id": "e675d775-303a-40b0-958a-171bda984450",
   "metadata": {},
   "source": [
    "- Random Forest: modelo baseado em várias árvores de decisão.\n",
    "\n",
    "- n_estimators=100: usa 100 árvores para fazer previsões. As árvores são um fluxograma, uma sequência de perguntas até chegar a uma resposta."
   ]
  },
  {
   "cell_type": "markdown",
   "id": "aaafd136-c115-4484-8b2c-f8d4fc863b51",
   "metadata": {},
   "source": [
    "- Previsão:"
   ]
  },
  {
   "cell_type": "code",
   "execution_count": null,
   "id": "bf9aeefd-f224-4f9c-b297-4e35850ddc72",
   "metadata": {},
   "outputs": [],
   "source": [
    "y_pred = modelo.predict(X_test)"
   ]
  },
  {
   "cell_type": "markdown",
   "id": "d413a388-4686-4c65-a471-216590f0b31c",
   "metadata": {},
   "source": [
    "O modelo prevê os resultados com base nos dados de teste."
   ]
  },
  {
   "cell_type": "markdown",
   "id": "435b2cad-480c-47a5-b849-d6f4f430bc9a",
   "metadata": {},
   "source": [
    "- Avaliação do modelo:"
   ]
  },
  {
   "cell_type": "code",
   "execution_count": null,
   "id": "3c58fe25-cb66-4c5a-93e7-b4d7e7c28d44",
   "metadata": {},
   "outputs": [],
   "source": [
    "print(\"\\\\nRelatório de Classificação:\")\n",
    "print(classification_report(y_test, y_pred))\n",
    "print(\"Acurácia:\", accuracy_score(y_test, y_pred))"
   ]
  },
  {
   "cell_type": "markdown",
   "id": "00fb95fb-ded5-466e-b2ee-84b20de7d11c",
   "metadata": {},
   "source": [
    "\n",
    "- classification_report: mostra métricas como precisão, recall e F1-score.\n",
    "\n",
    "- accuracy_score: mostra o percentual de acertos."
   ]
  },
  {
   "cell_type": "markdown",
   "id": "76e84f0a-8ddc-4266-90f6-667f90e99bdf",
   "metadata": {},
   "source": [
    "- Matriz de confusão:"
   ]
  },
  {
   "cell_type": "code",
   "execution_count": null,
   "id": "4f6b62da-296d-4a4b-a095-f9e4de37e404",
   "metadata": {},
   "outputs": [],
   "source": [
    "cmp = confusion_matrix(y_test, y_pred, labels=['Casa', 'Empate', 'Fora'])\n",
    "plt.figure(figsize=(6,4))\n",
    "sns.heatmap(cmp, annot=True, fmt='d', cmap='Blues', xticklabels=['Casa', 'Empate', 'Fora'], yticklabels=['Casa', 'Empate', 'Fora'])\n",
    "plt.title('Matriz de Confusão')\n",
    "plt.xlabel('Previsto')\n",
    "plt.ylabel('Real')\n",
    "plt.show()"
   ]
  },
  {
   "cell_type": "markdown",
   "id": "7d3b5ff4-919b-43f2-bc74-6f3aa1d16160",
   "metadata": {},
   "source": [
    "\n",
    "Mostra quantas vezes o modelo acertou ou errou cada tipo de resultado."
   ]
  },
  {
   "cell_type": "markdown",
   "id": "f19b8d06-f7af-4b2b-b0f3-64617dec156f",
   "metadata": {},
   "source": [
    "## Salvamento do Modelo Treinado\n",
    "Basicamente como o nome desta cédula diz, é o comando que criará um novo arquivo contendo o resultado dessa predição futebolística.\n",
    "- Salvando com joblib fica assim:\n",
    "  "
   ]
  },
  {
   "cell_type": "code",
   "execution_count": null,
   "id": "eb240445-c8f0-4c25-b878-e00877f5e389",
   "metadata": {},
   "outputs": [],
   "source": [
    "joblib.dump(modelo, 'modelo_previsao_futebol.pkl')\n",
    "print(\"\\\\nA analise foi salva como 'modelo_previsao_futebol.pkl'\")"
   ]
  },
  {
   "cell_type": "markdown",
   "id": "3b0f5aa0-0011-477a-9916-a714b24e8574",
   "metadata": {},
   "source": [
    "Esse foi um resumo sobre como foi estruturado nosso código, espero que esteja tudo esclarecido após você ter lido esse arquivo!"
   ]
  },
  {
   "cell_type": "code",
   "execution_count": null,
   "id": "ebb6f835-8e3b-4510-b29c-afca19176f69",
   "metadata": {},
   "outputs": [],
   "source": []
  }
 ],
 "metadata": {
  "kernelspec": {
   "display_name": "Python 3 (ipykernel)",
   "language": "python",
   "name": "python3"
  },
  "language_info": {
   "codemirror_mode": {
    "name": "ipython",
    "version": 3
   },
   "file_extension": ".py",
   "mimetype": "text/x-python",
   "name": "python",
   "nbconvert_exporter": "python",
   "pygments_lexer": "ipython3",
   "version": "3.12.3"
  }
 },
 "nbformat": 4,
 "nbformat_minor": 5
}
