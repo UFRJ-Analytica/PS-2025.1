{
 "cells": [
  {
   "cell_type": "code",
   "execution_count": null,
   "id": "85eda733",
   "metadata": {},
   "outputs": [],
   "source": [
    "import pandas as pd\n",
    "import matplotlib.pyplot as plt\n",
    "\n",
    "pd.set_option('display.max_columns', None)\n",
    "pd.set_option('display.max_rows', None)"
   ]
  },
  {
   "cell_type": "markdown",
   "id": "dde55bf8",
   "metadata": {},
   "source": [
    "### Defesas difíceis"
   ]
  },
  {
   "cell_type": "markdown",
   "id": "d8b8da3e",
   "metadata": {},
   "source": [
    "#### O que é uma defesa difícil?"
   ]
  },
  {
   "cell_type": "markdown",
   "id": "6a0bd84e",
   "metadata": {},
   "source": [
    "Defesas difíceis são defesas feitas pelo goleiro e que possuem alto grau de dificuldade. \n",
    "\n",
    "Uma defesa difiícil na maioria das vezes se origina de um chute a gol, porém também pode se originar de um passe com alta possibilidade de gol, que acontece geralmente quando o goleiro saí do gol para interceptar um escanteio. \n",
    "\n",
    "Essas defesas também resultam, principalmente, em rebotes, escanteios ou posse de bola para o time do goleiro."
   ]
  },
  {
   "cell_type": "markdown",
   "id": "998cc6e9",
   "metadata": {},
   "source": [
    "#### Análise geral da coluna"
   ]
  },
  {
   "cell_type": "markdown",
   "id": "fdaff477",
   "metadata": {},
   "source": [
    "A coluna de defesas difíceis possui uma alta quantidade de dados ausentes, sendo esses equivalente a aproximadamente 78% dos dados totais. Por isso, é preciso achar um forma de preencher esses dados."
   ]
  },
  {
   "cell_type": "code",
   "execution_count": null,
   "id": "1084a36a",
   "metadata": {},
   "outputs": [],
   "source": [
    "df = pd.read_csv('campeonato.csv')\n",
    "\n",
    "defesas = df[['Defesas difíceis 1', 'Defesas difíceis 2']]\n",
    "print(defesas.describe(),'\\n')\n",
    "print(\"Porcentagem de dados nulos =\", round((1-len(defesas.dropna())/len(df))*100),\"%\")"
   ]
  },
  {
   "cell_type": "markdown",
   "id": "626c606d",
   "metadata": {},
   "source": [
    "Para analisar a relevância da coluna, utilizamos uma tabela de correlação, que mostra a influência das colunas Defesas difíceis nas demais."
   ]
  },
  {
   "cell_type": "code",
   "execution_count": null,
   "id": "bf9ddb73",
   "metadata": {},
   "outputs": [],
   "source": [
    "#CORRELAÇÃO DEFESAS DIFÍCEIS 1\n",
    "correlacoes = df.corr(numeric_only=True)[\"Defesas difíceis 1\"].drop(\"Defesas difíceis 1\")\n",
    "\n",
    "plt.figure(figsize=(8, 5))\n",
    "correlacoes.sort_values().plot(kind='barh', color='skyblue')\n",
    "plt.title(\"Correlação com Defesas Difíceis 1\")\n",
    "plt.xlabel(\"Coeficiente de Correlação\")\n",
    "plt.grid(axis='x', linestyle='--', alpha=0.7)\n",
    "plt.tight_layout()\n",
    "plt.show()\n",
    "\n",
    "#CORRELAÇÃO DEFESAS DIFÍCEIS 2\n",
    "correlacoes = df.corr(numeric_only=True)[\"Defesas difíceis 2\"].drop(\"Defesas difíceis 2\")\n",
    "\n",
    "plt.figure(figsize=(8, 5))\n",
    "correlacoes.sort_values().plot(kind='barh', color='skyblue')\n",
    "plt.title(\"Correlação com Defesas Difíceis 2\")\n",
    "plt.xlabel(\"Coeficiente de Correlação\")\n",
    "plt.grid(axis='x', linestyle='--', alpha=0.7)\n",
    "plt.tight_layout()\n",
    "plt.show()"
   ]
  },
  {
   "cell_type": "markdown",
   "id": "a099ef4b",
   "metadata": {},
   "source": [
    "Através dos dois gráficos, podemos perceber uma altíssima correlação de Defesas difíceis com Chutes a gol. Isso acontece, pois a grande maioria dos chutes a gol são convertidos em defesas difíceis ou em gols, relação que pode ser exemplificada na seguinte tabela, em que a soma de Defesas difíceis X (1 ou 2) com Gols Y, é muito próximo de Chutes a gol Y."
   ]
  },
  {
   "cell_type": "code",
   "execution_count": null,
   "id": "a27e0d4b",
   "metadata": {},
   "outputs": [],
   "source": [
    "teste = df[['Defesas difíceis 2', 'Gols 1', 'Chutes a gol 1', 'Defesas difíceis 1', 'Gols 2', 'Chutes a gol 2']].dropna()\n",
    "teste.describe()"
   ]
  },
  {
   "cell_type": "markdown",
   "id": "eb293d7d",
   "metadata": {},
   "source": [
    "Portanto, faz sentido tentar preencher a coluna de Defesas difíceis com a diferença entre Chutes a gol e Gols de um time."
   ]
  },
  {
   "cell_type": "code",
   "execution_count": null,
   "id": "31aeffef",
   "metadata": {},
   "outputs": [],
   "source": [
    "# Calcula a quantidade de defesas de defesas a partir da diferença entre Chutes a gol e Gols\n",
    "teste['Defesas 1'] = teste['Chutes a gol 2'] - teste['Gols 2']\n",
    "\n",
    "#Caso Defesas receba um número negativo, altera ele para 0\n",
    "teste.loc[teste['Defesas 1'] < 0, 'Defesas 1'] = 0\n",
    "\n",
    "#Imprime a diferença entre o resulutado e o valor esperado\n",
    "teste['Diferença1'] = teste['Defesas difíceis 1'] - teste['Defesas 1']\n",
    "print(teste['Diferença1'].value_counts().sort_index())\n",
    "\n",
    "#Repete o processo para Defesas 2\n",
    "teste['Defesas 2'] = teste['Chutes a gol 1'] - teste['Gols 1']\n",
    "teste.loc[teste['Defesas 2'] < 0, 'Defesas 2'] = 0\n",
    "teste['Diferença2'] = teste['Defesas difíceis 2'] - teste['Defesas 2']\n",
    "print(teste['Diferença2'].value_counts().sort_index())"
   ]
  },
  {
   "cell_type": "markdown",
   "id": "7fa05c21",
   "metadata": {},
   "source": [
    "Esse método de preencher os dados faltantes pareceu bastante constante, possuindo um taxa de acerto de aproximadamente 88%, e chegando a 99% quando considerada uma margem de até 1 defesa difícil. Além disso, como Chutes a gol e Gols têm muito menos dados faltantes, a maioria das colunas da nossa base de dados poderia ser preenchida comesse método."
   ]
  },
  {
   "cell_type": "markdown",
   "id": "bdb576f2",
   "metadata": {},
   "source": [
    "OBS: Existem alguns casos em que a quantidade de chutes a gol é menor do que a quantidade de defesas difíceis. Inicialmente, achamos que era uma incoerência nos dados, porém pesquisando mais a fundo, descobrimos que uma defesas difícil nem sempre é feita em um chute a gol, por isso decidimos manter essas linhas para nosso modelo."
   ]
  },
  {
   "cell_type": "code",
   "execution_count": null,
   "id": "d4b646ff",
   "metadata": {},
   "outputs": [],
   "source": [
    "#Imprime a quantidade de linhas com mais defesas difíceis do que chutes a gol\n",
    "len(df[(df['Chutes a gol 1']<df['Defesas difíceis 2'])|(df['Chutes a gol 2']<df['Defesas difíceis 1'])])"
   ]
  },
  {
   "cell_type": "markdown",
   "id": "b754ef19",
   "metadata": {},
   "source": [
    "#### Conlusão"
   ]
  },
  {
   "cell_type": "markdown",
   "id": "fd143550",
   "metadata": {},
   "source": [
    "Como o método de usar a diferença entre Chutes a gol e Gols pareceu bem constante, nós optamos por utilizá-lo para preencher os dados faltantes. Isso fez com  que a porcentagem de dados nulos fosse para 5%, a mesma porcentagem de dados nulos de Chutes a gol."
   ]
  },
  {
   "cell_type": "code",
   "execution_count": null,
   "id": "8fef05e9",
   "metadata": {},
   "outputs": [],
   "source": [
    "mascara1 = df['Defesas difíceis 1'].isna() & df['Chutes a gol 2'].notna()\n",
    "df.loc[mascara1, 'Defesas difíceis 1'] = df.loc[mascara1, 'Chutes a gol 2'] - df.loc[mascara1, 'Gols 2']\n",
    "\n",
    "mascara2 = df['Defesas difíceis 2'].isna() & df['Chutes a gol 1'].notna()\n",
    "df.loc[mascara2, 'Defesas difíceis 2'] = df.loc[mascara2, 'Chutes a gol 1'] - df.loc[mascara2, 'Gols 1']"
   ]
  },
  {
   "cell_type": "code",
   "execution_count": null,
   "id": "af2032f6",
   "metadata": {},
   "outputs": [],
   "source": [
    "print(\"Porcentagem de dados nulos =\", round((1-len(df[['Defesas difíceis 1', 'Defesas difíceis 2']].dropna())/len(df))*100),\"%\")"
   ]
  },
  {
   "cell_type": "code",
   "execution_count": null,
   "id": "bb877dbf",
   "metadata": {},
   "outputs": [],
   "source": [
    "df.to_csv('campeonato.csv', index=False)"
   ]
  }
 ],
 "metadata": {
  "kernelspec": {
   "display_name": "Python 3",
   "language": "python",
   "name": "python3"
  },
  "language_info": {
   "codemirror_mode": {
    "name": "ipython",
    "version": 3
   },
   "file_extension": ".py",
   "mimetype": "text/x-python",
   "name": "python",
   "nbconvert_exporter": "python",
   "pygments_lexer": "ipython3",
   "version": "3.12.3"
  }
 },
 "nbformat": 4,
 "nbformat_minor": 5
}
