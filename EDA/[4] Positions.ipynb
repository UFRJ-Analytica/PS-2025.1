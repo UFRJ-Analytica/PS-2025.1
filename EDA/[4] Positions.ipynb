{
 "cells": [
  {
   "cell_type": "markdown",
   "id": "d918b1ae",
   "metadata": {},
   "source": [
    "<div style=\"border: 2px solid #255c8a; padding: 10px; background-color: #121212; border-radius: 5px; line-height: 1; width: 97%\">\n",
    "  <strong> ℹ️ Descrição:</strong> \n",
    "  Este notebook se refere ao tratamento da coluna de posições, visando convertê-la para um dado que possa ser utilizado pelo modelo. \n",
    "</div>"
   ]
  },
  {
   "cell_type": "markdown",
   "id": "6caefdc3",
   "metadata": {},
   "source": [
    "# Inicialização"
   ]
  },
  {
   "cell_type": "markdown",
   "id": "c30adbc8",
   "metadata": {},
   "source": [
    "**Bibliotecas**:"
   ]
  },
  {
   "cell_type": "code",
   "id": "e4db55f4",
   "metadata": {
    "ExecuteTime": {
     "end_time": "2025-04-20T06:02:08.691035Z",
     "start_time": "2025-04-20T06:02:08.686838Z"
    }
   },
   "source": [
    "import os\n",
    "import sys\n",
    "import pandas as pd"
   ],
   "outputs": [],
   "execution_count": 9
  },
  {
   "cell_type": "markdown",
   "id": "950564c7",
   "metadata": {},
   "source": [
    "**Funções Auxiliares:**"
   ]
  },
  {
   "cell_type": "code",
   "id": "9c75bc83",
   "metadata": {
    "ExecuteTime": {
     "end_time": "2025-04-20T06:02:08.704912Z",
     "start_time": "2025-04-20T06:02:08.699032Z"
    }
   },
   "source": [
    "sys.path.append(os.path.abspath(\"../src\"))\n",
    "from AnaliseExploratoria_functions import position_to_binary"
   ],
   "outputs": [],
   "execution_count": 10
  },
  {
   "cell_type": "markdown",
   "id": "618cd3b7",
   "metadata": {},
   "source": [
    "**Leitura do Arquivo:**"
   ]
  },
  {
   "cell_type": "code",
   "id": "f534d4bd",
   "metadata": {
    "ExecuteTime": {
     "end_time": "2025-04-20T06:02:08.797483Z",
     "start_time": "2025-04-20T06:02:08.729301Z"
    }
   },
   "source": [
    "current_path = os.path.dirname(os.getcwd())\n",
    "csv_path = (current_path + '/Data/Pre-processamento/sem_outliers.csv')\n",
    "df = pd.read_csv(csv_path)"
   ],
   "outputs": [],
   "execution_count": 11
  },
  {
   "cell_type": "markdown",
   "id": "adfa2831",
   "metadata": {},
   "source": [
    "# Tratando a coluna de Posições"
   ]
  },
  {
   "cell_type": "markdown",
   "id": "080374b3",
   "metadata": {},
   "source": [
    "No data frame, a coluna de posições apresenta uma string com a posição inicial dos jogadores na partida, como mostrado abaixo. Entretanto, em uma partida de futebol, os times não permanecem nas mesmas posições durante todo o tempo, e não temos como saber como o time se adaptou. O que podemos descobrir, contudo, é se o time chegou na partida mais ofensivamente ou defensivamente. "
   ]
  },
  {
   "cell_type": "code",
   "id": "eba6bcef89ca1fae",
   "metadata": {
    "ExecuteTime": {
     "end_time": "2025-04-20T06:02:08.828638Z",
     "start_time": "2025-04-20T06:02:08.819204Z"
    }
   },
   "source": [
    "df[['Position 1', 'Position 2']]"
   ],
   "outputs": [
    {
     "data": {
      "text/plain": [
       "      Position 1 Position 2\n",
       "0          4-3-3      4-3-3\n",
       "1          3-5-2      3-5-2\n",
       "2          4-3-3    3-4-1-2\n",
       "3          3-4-3    4-2-3-1\n",
       "4          4-4-2    3-5-1-1\n",
       "...          ...        ...\n",
       "27376      4-4-2      4-5-1\n",
       "27377    4-2-3-1      4-4-2\n",
       "27378      4-4-2      4-4-2\n",
       "27379      4-5-1      4-4-2\n",
       "27380      4-4-2    4-2-3-1\n",
       "\n",
       "[27381 rows x 2 columns]"
      ],
      "text/html": [
       "<div>\n",
       "<style scoped>\n",
       "    .dataframe tbody tr th:only-of-type {\n",
       "        vertical-align: middle;\n",
       "    }\n",
       "\n",
       "    .dataframe tbody tr th {\n",
       "        vertical-align: top;\n",
       "    }\n",
       "\n",
       "    .dataframe thead th {\n",
       "        text-align: right;\n",
       "    }\n",
       "</style>\n",
       "<table border=\"1\" class=\"dataframe\">\n",
       "  <thead>\n",
       "    <tr style=\"text-align: right;\">\n",
       "      <th></th>\n",
       "      <th>Position 1</th>\n",
       "      <th>Position 2</th>\n",
       "    </tr>\n",
       "  </thead>\n",
       "  <tbody>\n",
       "    <tr>\n",
       "      <th>0</th>\n",
       "      <td>4-3-3</td>\n",
       "      <td>4-3-3</td>\n",
       "    </tr>\n",
       "    <tr>\n",
       "      <th>1</th>\n",
       "      <td>3-5-2</td>\n",
       "      <td>3-5-2</td>\n",
       "    </tr>\n",
       "    <tr>\n",
       "      <th>2</th>\n",
       "      <td>4-3-3</td>\n",
       "      <td>3-4-1-2</td>\n",
       "    </tr>\n",
       "    <tr>\n",
       "      <th>3</th>\n",
       "      <td>3-4-3</td>\n",
       "      <td>4-2-3-1</td>\n",
       "    </tr>\n",
       "    <tr>\n",
       "      <th>4</th>\n",
       "      <td>4-4-2</td>\n",
       "      <td>3-5-1-1</td>\n",
       "    </tr>\n",
       "    <tr>\n",
       "      <th>...</th>\n",
       "      <td>...</td>\n",
       "      <td>...</td>\n",
       "    </tr>\n",
       "    <tr>\n",
       "      <th>27376</th>\n",
       "      <td>4-4-2</td>\n",
       "      <td>4-5-1</td>\n",
       "    </tr>\n",
       "    <tr>\n",
       "      <th>27377</th>\n",
       "      <td>4-2-3-1</td>\n",
       "      <td>4-4-2</td>\n",
       "    </tr>\n",
       "    <tr>\n",
       "      <th>27378</th>\n",
       "      <td>4-4-2</td>\n",
       "      <td>4-4-2</td>\n",
       "    </tr>\n",
       "    <tr>\n",
       "      <th>27379</th>\n",
       "      <td>4-5-1</td>\n",
       "      <td>4-4-2</td>\n",
       "    </tr>\n",
       "    <tr>\n",
       "      <th>27380</th>\n",
       "      <td>4-4-2</td>\n",
       "      <td>4-2-3-1</td>\n",
       "    </tr>\n",
       "  </tbody>\n",
       "</table>\n",
       "<p>27381 rows × 2 columns</p>\n",
       "</div>"
      ]
     },
     "execution_count": 12,
     "metadata": {},
     "output_type": "execute_result"
    }
   ],
   "execution_count": 12
  },
  {
   "cell_type": "markdown",
   "id": "bd2d4bc2",
   "metadata": {},
   "source": [
    "Abaixo, mostramos todas as posições únicas que aparecem no data frame"
   ]
  },
  {
   "cell_type": "code",
   "id": "a91e9834c5f80b0e",
   "metadata": {
    "ExecuteTime": {
     "end_time": "2025-04-20T06:02:08.890905Z",
     "start_time": "2025-04-20T06:02:08.880381Z"
    }
   },
   "source": [
    "all_formations = pd.unique(\n",
    "    df[['Position 1', 'Position 2']].values.ravel()\n",
    ")\n",
    "all_formations"
   ],
   "outputs": [
    {
     "data": {
      "text/plain": [
       "array(['4-3-3', '3-5-2', '3-4-1-2', '3-4-3', '4-2-3-1', '4-4-2',\n",
       "       '3-5-1-1', nan, '3-4-2-1', '4-5-1', '4-1-4-1', '5-4-1', '3-1-4-2',\n",
       "       '5-3-2', '4-3-2-1', '4-3-1-2', '4-4-1-1', '4-1-3-2', '4-1-2-1-2',\n",
       "       '3-2-3-2', '3-1-3-1-2', '5-3-1-1', '3-3-3-1', '4-1-2-3', '4-2-1-3',\n",
       "       '3-3-2-2', '4-2-2-2', '3-2-4-1', '4-1-2-2-1', '5-2-3', '3-3-1-3'],\n",
       "      dtype=object)"
      ]
     },
     "execution_count": 13,
     "metadata": {},
     "output_type": "execute_result"
    }
   ],
   "execution_count": 13
  },
  {
   "cell_type": "markdown",
   "id": "b5d2d3c0",
   "metadata": {},
   "source": [
    "Então, decidimos como faríamos a conversão. Pensamos inicialmente em um intervalo entre 0 e 1, mas depois percebemos que não tínhamos dados ou ferramentas o bastante para fazer a conversão. Assim, optamos por um indicativo binário:\n",
    "\n",
    "1 = Formação ofensiva  \n",
    "2 = Formação defensiva "
   ]
  },
  {
   "cell_type": "markdown",
   "id": "ea81be21",
   "metadata": {},
   "source": [
    "Além disso, precisaremos descartar as linhas em que a posição é NaN. Como são poucas, como revelado em [1] Análise Inicial, isto não será um problema."
   ]
  },
  {
   "cell_type": "code",
   "id": "3e713f2d",
   "metadata": {
    "ExecuteTime": {
     "end_time": "2025-04-20T06:02:09.096620Z",
     "start_time": "2025-04-20T06:02:09.079220Z"
    }
   },
   "source": [
    "df = df.dropna(subset=['Position 1', 'Position 2'])"
   ],
   "outputs": [],
   "execution_count": 14
  },
  {
   "cell_type": "code",
   "id": "90dc7bd4d7c82898",
   "metadata": {
    "ExecuteTime": {
     "end_time": "2025-04-20T06:02:09.463251Z",
     "start_time": "2025-04-20T06:02:09.260127Z"
    }
   },
   "source": "df = position_to_binary(df,['Position 1','Position 2'], replace = True)",
   "outputs": [],
   "execution_count": 15
  },
  {
   "cell_type": "markdown",
   "id": "d42902ef",
   "metadata": {},
   "source": [
    "# Salvando no csv"
   ]
  },
  {
   "cell_type": "markdown",
   "id": "87f2b805",
   "metadata": {},
   "source": [
    "Então, salvamos os dados como csv final:"
   ]
  },
  {
   "cell_type": "code",
   "id": "372d5748",
   "metadata": {
    "ExecuteTime": {
     "end_time": "2025-04-20T06:02:09.987752Z",
     "start_time": "2025-04-20T06:02:09.516818Z"
    }
   },
   "source": [
    "df.to_csv(current_path + '/Data/Pre-processamento/positions_ajustadas.csv', index=False)"
   ],
   "outputs": [],
   "execution_count": 16
  }
 ],
 "metadata": {
  "kernelspec": {
   "display_name": "Python 3",
   "language": "python",
   "name": "python3"
  },
  "language_info": {
   "codemirror_mode": {
    "name": "ipython",
    "version": 3
   },
   "file_extension": ".py",
   "mimetype": "text/x-python",
   "name": "python",
   "nbconvert_exporter": "python",
   "pygments_lexer": "ipython3",
   "version": "3.13.1"
  }
 },
 "nbformat": 4,
 "nbformat_minor": 5
}
