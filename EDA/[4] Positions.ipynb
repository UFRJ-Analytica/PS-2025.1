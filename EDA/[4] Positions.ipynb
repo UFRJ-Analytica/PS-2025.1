{
 "cells": [
  {
   "cell_type": "markdown",
   "id": "d918b1ae",
   "metadata": {},
   "source": [
    "<div style=\"border: 2px solid #255c8a; padding: 10px; background-color: #121212; border-radius: 5px; line-height: 1; width: 97%\">\n",
    "  <strong> ℹ️ Descrição:</strong> \n",
    "  Este notebook se refere ao tratamento da coluna de posições, visando convertê-la para um dado que possa ser utilizado pelo modelo. \n",
    "</div>"
   ]
  },
  {
   "cell_type": "markdown",
   "id": "6caefdc3",
   "metadata": {},
   "source": [
    "# Inicialização"
   ]
  },
  {
   "cell_type": "markdown",
   "id": "c30adbc8",
   "metadata": {},
   "source": [
    "**Bibliotecas**:"
   ]
  },
  {
   "cell_type": "code",
   "execution_count": 9,
   "id": "e4db55f4",
   "metadata": {},
   "outputs": [],
   "source": [
    "import os\n",
    "import sys\n",
    "import pandas as pd"
   ]
  },
  {
   "cell_type": "markdown",
   "id": "950564c7",
   "metadata": {},
   "source": [
    "**Funções Auxiliares:**"
   ]
  },
  {
   "cell_type": "code",
   "execution_count": 10,
   "id": "9c75bc83",
   "metadata": {},
   "outputs": [],
   "source": [
    "sys.path.append(os.path.abspath(\"../src\"))\n",
    "from AnaliseExploratoria_functions import position_to_binary"
   ]
  },
  {
   "cell_type": "markdown",
   "id": "618cd3b7",
   "metadata": {},
   "source": [
    "**Leitura do Arquivo:**"
   ]
  },
  {
   "cell_type": "code",
   "execution_count": 11,
   "id": "f534d4bd",
   "metadata": {},
   "outputs": [],
   "source": [
    "current_path = os.path.dirname(os.getcwd())\n",
    "csv_path = (current_path + '/Data/Pre-processamento/sem_outliers.csv')\n",
    "df = pd.read_csv(csv_path)"
   ]
  },
  {
   "cell_type": "markdown",
   "id": "adfa2831",
   "metadata": {},
   "source": [
    "# Tratando a coluna de Posições"
   ]
  },
  {
   "cell_type": "markdown",
   "id": "080374b3",
   "metadata": {},
   "source": [
    "No data frame, a coluna de posições apresenta uma string com a posição inicial dos jogadores na partida, como mostrado abaixo. Entretanto, em uma partida de futebol, os times não permanecem nas mesmas posições durante todo o tempo, e não temos como saber como o time se adaptou. O que podemos descobrir, contudo, é se o time chegou na partida mais ofensivamente ou defensivamente. "
   ]
  },
  {
   "cell_type": "code",
   "execution_count": 12,
   "id": "eba6bcef89ca1fae",
   "metadata": {
    "ExecuteTime": {
     "end_time": "2025-04-17T20:18:36.327721Z",
     "start_time": "2025-04-17T20:18:36.241572Z"
    }
   },
   "outputs": [
    {
     "data": {
      "text/html": [
       "<div>\n",
       "<style scoped>\n",
       "    .dataframe tbody tr th:only-of-type {\n",
       "        vertical-align: middle;\n",
       "    }\n",
       "\n",
       "    .dataframe tbody tr th {\n",
       "        vertical-align: top;\n",
       "    }\n",
       "\n",
       "    .dataframe thead th {\n",
       "        text-align: right;\n",
       "    }\n",
       "</style>\n",
       "<table border=\"1\" class=\"dataframe\">\n",
       "  <thead>\n",
       "    <tr style=\"text-align: right;\">\n",
       "      <th></th>\n",
       "      <th>Position 1</th>\n",
       "      <th>Position 2</th>\n",
       "    </tr>\n",
       "  </thead>\n",
       "  <tbody>\n",
       "    <tr>\n",
       "      <th>0</th>\n",
       "      <td>4-3-3</td>\n",
       "      <td>4-3-3</td>\n",
       "    </tr>\n",
       "    <tr>\n",
       "      <th>1</th>\n",
       "      <td>3-5-2</td>\n",
       "      <td>3-5-2</td>\n",
       "    </tr>\n",
       "    <tr>\n",
       "      <th>2</th>\n",
       "      <td>4-3-3</td>\n",
       "      <td>3-4-1-2</td>\n",
       "    </tr>\n",
       "    <tr>\n",
       "      <th>3</th>\n",
       "      <td>3-4-3</td>\n",
       "      <td>4-2-3-1</td>\n",
       "    </tr>\n",
       "    <tr>\n",
       "      <th>4</th>\n",
       "      <td>4-4-2</td>\n",
       "      <td>3-5-1-1</td>\n",
       "    </tr>\n",
       "    <tr>\n",
       "      <th>...</th>\n",
       "      <td>...</td>\n",
       "      <td>...</td>\n",
       "    </tr>\n",
       "    <tr>\n",
       "      <th>27376</th>\n",
       "      <td>4-4-2</td>\n",
       "      <td>4-5-1</td>\n",
       "    </tr>\n",
       "    <tr>\n",
       "      <th>27377</th>\n",
       "      <td>4-2-3-1</td>\n",
       "      <td>4-4-2</td>\n",
       "    </tr>\n",
       "    <tr>\n",
       "      <th>27378</th>\n",
       "      <td>4-4-2</td>\n",
       "      <td>4-4-2</td>\n",
       "    </tr>\n",
       "    <tr>\n",
       "      <th>27379</th>\n",
       "      <td>4-5-1</td>\n",
       "      <td>4-4-2</td>\n",
       "    </tr>\n",
       "    <tr>\n",
       "      <th>27380</th>\n",
       "      <td>4-4-2</td>\n",
       "      <td>4-2-3-1</td>\n",
       "    </tr>\n",
       "  </tbody>\n",
       "</table>\n",
       "<p>27381 rows × 2 columns</p>\n",
       "</div>"
      ],
      "text/plain": [
       "      Position 1 Position 2\n",
       "0          4-3-3      4-3-3\n",
       "1          3-5-2      3-5-2\n",
       "2          4-3-3    3-4-1-2\n",
       "3          3-4-3    4-2-3-1\n",
       "4          4-4-2    3-5-1-1\n",
       "...          ...        ...\n",
       "27376      4-4-2      4-5-1\n",
       "27377    4-2-3-1      4-4-2\n",
       "27378      4-4-2      4-4-2\n",
       "27379      4-5-1      4-4-2\n",
       "27380      4-4-2    4-2-3-1\n",
       "\n",
       "[27381 rows x 2 columns]"
      ]
     },
     "execution_count": 12,
     "metadata": {},
     "output_type": "execute_result"
    }
   ],
   "source": [
    "df[['Position 1', 'Position 2']]"
   ]
  },
  {
   "cell_type": "markdown",
   "id": "bd2d4bc2",
   "metadata": {},
   "source": [
    "Abaixo, mostramos todas as posições únicas que aparecem no data frame"
   ]
  },
  {
   "cell_type": "code",
   "execution_count": 13,
   "id": "a91e9834c5f80b0e",
   "metadata": {
    "ExecuteTime": {
     "end_time": "2025-04-17T20:18:36.598385Z",
     "start_time": "2025-04-17T20:18:36.589630Z"
    }
   },
   "outputs": [
    {
     "data": {
      "text/plain": [
       "array(['4-3-3', '3-5-2', '3-4-1-2', '3-4-3', '4-2-3-1', '4-4-2',\n",
       "       '3-5-1-1', nan, '3-4-2-1', '4-5-1', '4-1-4-1', '5-4-1', '3-1-4-2',\n",
       "       '5-3-2', '4-3-2-1', '4-3-1-2', '4-4-1-1', '4-1-3-2', '4-1-2-1-2',\n",
       "       '3-2-3-2', '3-1-3-1-2', '5-3-1-1', '3-3-3-1', '4-1-2-3', '4-2-1-3',\n",
       "       '3-3-2-2', '4-2-2-2', '3-2-4-1', '4-1-2-2-1', '5-2-3', '3-3-1-3'],\n",
       "      dtype=object)"
      ]
     },
     "execution_count": 13,
     "metadata": {},
     "output_type": "execute_result"
    }
   ],
   "source": [
    "all_formations = pd.unique(\n",
    "    df[['Position 1', 'Position 2']].values.ravel()\n",
    ")\n",
    "all_formations"
   ]
  },
  {
   "cell_type": "markdown",
   "id": "b5d2d3c0",
   "metadata": {},
   "source": [
    "Então, decidimos como faríamos a conversão. Pensamos inicialmente em um intervalo entre 0 e 1, mas depois percebemos que não tínhamos dados ou ferramentas o bastante para fazer a conversão. Assim, optamos por um indicativo binário:\n",
    "\n",
    "1 = Formação ofensiva  \n",
    "2 = Formação defensiva "
   ]
  },
  {
   "cell_type": "markdown",
   "id": "ea81be21",
   "metadata": {},
   "source": [
    "Além disso, precisaremos descartar as linhas em que a posição é NaN. Como são poucas, como revelado em [1] Análise Inicial, isto não será um problema."
   ]
  },
  {
   "cell_type": "code",
   "execution_count": 14,
   "id": "3e713f2d",
   "metadata": {},
   "outputs": [],
   "source": [
    "df = df.dropna(subset=['Position 1', 'Position 2'])"
   ]
  },
  {
   "cell_type": "code",
   "execution_count": 15,
   "id": "90dc7bd4d7c82898",
   "metadata": {
    "ExecuteTime": {
     "end_time": "2025-04-17T20:18:37.092676Z",
     "start_time": "2025-04-17T20:18:36.861304Z"
    }
   },
   "outputs": [
    {
     "data": {
      "text/html": [
       "<div>\n",
       "<style scoped>\n",
       "    .dataframe tbody tr th:only-of-type {\n",
       "        vertical-align: middle;\n",
       "    }\n",
       "\n",
       "    .dataframe tbody tr th {\n",
       "        vertical-align: top;\n",
       "    }\n",
       "\n",
       "    .dataframe thead th {\n",
       "        text-align: right;\n",
       "    }\n",
       "</style>\n",
       "<table border=\"1\" class=\"dataframe\">\n",
       "  <thead>\n",
       "    <tr style=\"text-align: right;\">\n",
       "      <th></th>\n",
       "      <th>Chutes a gol 1</th>\n",
       "      <th>Chutes a gol 2</th>\n",
       "      <th>Impedimentos 1</th>\n",
       "      <th>Impedimentos 2</th>\n",
       "      <th>Escanteios 1</th>\n",
       "      <th>Escanteios 2</th>\n",
       "      <th>Chutes fora 1</th>\n",
       "      <th>Chutes fora 2</th>\n",
       "      <th>Faltas 1</th>\n",
       "      <th>Faltas 2</th>\n",
       "      <th>...</th>\n",
       "      <th>Substituições 1</th>\n",
       "      <th>Substituições 2</th>\n",
       "      <th>Tiros-livres 1</th>\n",
       "      <th>Tiros-livres 2</th>\n",
       "      <th>Defesas difíceis 1</th>\n",
       "      <th>Defesas difíceis 2</th>\n",
       "      <th>Posse 1(%)</th>\n",
       "      <th>Posse 2(%)</th>\n",
       "      <th>Position 1</th>\n",
       "      <th>Position 2</th>\n",
       "    </tr>\n",
       "  </thead>\n",
       "  <tbody>\n",
       "    <tr>\n",
       "      <th>0</th>\n",
       "      <td>8.0</td>\n",
       "      <td>0.0</td>\n",
       "      <td>6.0</td>\n",
       "      <td>3.0</td>\n",
       "      <td>7.0</td>\n",
       "      <td>1.0</td>\n",
       "      <td>6.0</td>\n",
       "      <td>1.0</td>\n",
       "      <td>8.0</td>\n",
       "      <td>14.0</td>\n",
       "      <td>...</td>\n",
       "      <td>3.0</td>\n",
       "      <td>3.0</td>\n",
       "      <td>NaN</td>\n",
       "      <td>NaN</td>\n",
       "      <td>NaN</td>\n",
       "      <td>NaN</td>\n",
       "      <td>77.0</td>\n",
       "      <td>23.0</td>\n",
       "      <td>1.0</td>\n",
       "      <td>1.0</td>\n",
       "    </tr>\n",
       "    <tr>\n",
       "      <th>1</th>\n",
       "      <td>0.0</td>\n",
       "      <td>2.0</td>\n",
       "      <td>0.0</td>\n",
       "      <td>2.0</td>\n",
       "      <td>0.0</td>\n",
       "      <td>4.0</td>\n",
       "      <td>3.0</td>\n",
       "      <td>4.0</td>\n",
       "      <td>19.0</td>\n",
       "      <td>14.0</td>\n",
       "      <td>...</td>\n",
       "      <td>2.0</td>\n",
       "      <td>3.0</td>\n",
       "      <td>NaN</td>\n",
       "      <td>NaN</td>\n",
       "      <td>NaN</td>\n",
       "      <td>NaN</td>\n",
       "      <td>44.0</td>\n",
       "      <td>56.0</td>\n",
       "      <td>1.0</td>\n",
       "      <td>1.0</td>\n",
       "    </tr>\n",
       "    <tr>\n",
       "      <th>2</th>\n",
       "      <td>4.0</td>\n",
       "      <td>5.0</td>\n",
       "      <td>1.0</td>\n",
       "      <td>5.0</td>\n",
       "      <td>8.0</td>\n",
       "      <td>11.0</td>\n",
       "      <td>2.0</td>\n",
       "      <td>5.0</td>\n",
       "      <td>13.0</td>\n",
       "      <td>14.0</td>\n",
       "      <td>...</td>\n",
       "      <td>3.0</td>\n",
       "      <td>3.0</td>\n",
       "      <td>NaN</td>\n",
       "      <td>NaN</td>\n",
       "      <td>NaN</td>\n",
       "      <td>NaN</td>\n",
       "      <td>47.0</td>\n",
       "      <td>53.0</td>\n",
       "      <td>1.0</td>\n",
       "      <td>1.0</td>\n",
       "    </tr>\n",
       "    <tr>\n",
       "      <th>3</th>\n",
       "      <td>4.0</td>\n",
       "      <td>7.0</td>\n",
       "      <td>8.0</td>\n",
       "      <td>1.0</td>\n",
       "      <td>6.0</td>\n",
       "      <td>5.0</td>\n",
       "      <td>4.0</td>\n",
       "      <td>7.0</td>\n",
       "      <td>4.0</td>\n",
       "      <td>11.0</td>\n",
       "      <td>...</td>\n",
       "      <td>2.0</td>\n",
       "      <td>3.0</td>\n",
       "      <td>NaN</td>\n",
       "      <td>NaN</td>\n",
       "      <td>NaN</td>\n",
       "      <td>NaN</td>\n",
       "      <td>27.0</td>\n",
       "      <td>73.0</td>\n",
       "      <td>1.0</td>\n",
       "      <td>0.0</td>\n",
       "    </tr>\n",
       "    <tr>\n",
       "      <th>4</th>\n",
       "      <td>3.0</td>\n",
       "      <td>1.0</td>\n",
       "      <td>1.0</td>\n",
       "      <td>3.0</td>\n",
       "      <td>5.0</td>\n",
       "      <td>4.0</td>\n",
       "      <td>2.0</td>\n",
       "      <td>2.0</td>\n",
       "      <td>12.0</td>\n",
       "      <td>17.0</td>\n",
       "      <td>...</td>\n",
       "      <td>3.0</td>\n",
       "      <td>3.0</td>\n",
       "      <td>NaN</td>\n",
       "      <td>NaN</td>\n",
       "      <td>NaN</td>\n",
       "      <td>NaN</td>\n",
       "      <td>58.0</td>\n",
       "      <td>42.0</td>\n",
       "      <td>0.0</td>\n",
       "      <td>1.0</td>\n",
       "    </tr>\n",
       "  </tbody>\n",
       "</table>\n",
       "<p>5 rows × 38 columns</p>\n",
       "</div>"
      ],
      "text/plain": [
       "   Chutes a gol 1  Chutes a gol 2  Impedimentos 1  Impedimentos 2  \\\n",
       "0             8.0             0.0             6.0             3.0   \n",
       "1             0.0             2.0             0.0             2.0   \n",
       "2             4.0             5.0             1.0             5.0   \n",
       "3             4.0             7.0             8.0             1.0   \n",
       "4             3.0             1.0             1.0             3.0   \n",
       "\n",
       "   Escanteios 1  Escanteios 2  Chutes fora 1  Chutes fora 2  Faltas 1  \\\n",
       "0           7.0           1.0            6.0            1.0       8.0   \n",
       "1           0.0           4.0            3.0            4.0      19.0   \n",
       "2           8.0          11.0            2.0            5.0      13.0   \n",
       "3           6.0           5.0            4.0            7.0       4.0   \n",
       "4           5.0           4.0            2.0            2.0      12.0   \n",
       "\n",
       "   Faltas 2  ...  Substituições 1  Substituições 2  Tiros-livres 1  \\\n",
       "0      14.0  ...              3.0              3.0             NaN   \n",
       "1      14.0  ...              2.0              3.0             NaN   \n",
       "2      14.0  ...              3.0              3.0             NaN   \n",
       "3      11.0  ...              2.0              3.0             NaN   \n",
       "4      17.0  ...              3.0              3.0             NaN   \n",
       "\n",
       "   Tiros-livres 2  Defesas difíceis 1  Defesas difíceis 2  Posse 1(%)  \\\n",
       "0             NaN                 NaN                 NaN        77.0   \n",
       "1             NaN                 NaN                 NaN        44.0   \n",
       "2             NaN                 NaN                 NaN        47.0   \n",
       "3             NaN                 NaN                 NaN        27.0   \n",
       "4             NaN                 NaN                 NaN        58.0   \n",
       "\n",
       "   Posse 2(%)  Position 1  Position 2  \n",
       "0        23.0         1.0         1.0  \n",
       "1        56.0         1.0         1.0  \n",
       "2        53.0         1.0         1.0  \n",
       "3        73.0         1.0         0.0  \n",
       "4        42.0         0.0         1.0  \n",
       "\n",
       "[5 rows x 38 columns]"
      ]
     },
     "execution_count": 15,
     "metadata": {},
     "output_type": "execute_result"
    }
   ],
   "source": [
    "df = position_to_binary(df,['Position 1','Position 2'], replace = True)\n",
    "df.head()"
   ]
  },
  {
   "cell_type": "markdown",
   "id": "d42902ef",
   "metadata": {},
   "source": [
    "# Salvando no csv"
   ]
  },
  {
   "cell_type": "markdown",
   "id": "87f2b805",
   "metadata": {},
   "source": [
    "Então, salvamos os dados como csv final:"
   ]
  },
  {
   "cell_type": "code",
   "execution_count": 16,
   "id": "372d5748",
   "metadata": {},
   "outputs": [],
   "source": [
    "df.to_csv(current_path + '/Data/Pre-processamento/positions_ajustadas.csv', index=False)"
   ]
  }
 ],
 "metadata": {
  "kernelspec": {
   "display_name": "Python 3",
   "language": "python",
   "name": "python3"
  },
  "language_info": {
   "codemirror_mode": {
    "name": "ipython",
    "version": 3
   },
   "file_extension": ".py",
   "mimetype": "text/x-python",
   "name": "python",
   "nbconvert_exporter": "python",
   "pygments_lexer": "ipython3",
   "version": "3.13.1"
  }
 },
 "nbformat": 4,
 "nbformat_minor": 5
}
