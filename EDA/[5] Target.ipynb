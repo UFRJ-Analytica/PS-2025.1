{
 "cells": [
  {
   "cell_type": "markdown",
   "id": "8f4aa59e",
   "metadata": {},
   "source": [
    "<div style=\"border: 2px solid #255c8a; padding: 10px; background-color: #121212; border-radius: 5px; line-height: 1; width: 97%\">\n",
    "  <strong> ℹ️ Descrição:</strong> \n",
    "  Este notebook representa uma parte importantíssima para o modelo final: a criação de uma coluna para servir de target.\n",
    "</div>"
   ]
  },
  {
   "cell_type": "markdown",
   "id": "37a3411f",
   "metadata": {},
   "source": [
    "Vamos criar uma coluna target, que simboliza o vencedor ao final da partida. Para isso, vamos apenas ver qual dos dois times fez mais gol, e categorizar a partida em três possibilidades:\n",
    "\n",
    "2 = time 1 venceu  \n",
    "1 = empate  \n",
    "0 = time 2 venceu\n",
    "\n",
    "Como usaremos apenas a coluna de gols, e esta está inteiramente preenchida, não é um problema não termos feito o tratamento dos NaNs antes de criarmos a target."
   ]
  },
  {
   "cell_type": "markdown",
   "id": "2f0c2292",
   "metadata": {},
   "source": [
    "# Inicialização"
   ]
  },
  {
   "cell_type": "markdown",
   "id": "624140cf",
   "metadata": {},
   "source": [
    "**Bibliotecas**"
   ]
  },
  {
   "cell_type": "code",
   "id": "2d6d878a",
   "metadata": {
    "ExecuteTime": {
     "end_time": "2025-04-20T06:02:40.813525Z",
     "start_time": "2025-04-20T06:02:40.809449Z"
    }
   },
   "source": [
    "import os\n",
    "import pandas as pd"
   ],
   "outputs": [],
   "execution_count": 1
  },
  {
   "cell_type": "markdown",
   "id": "3f8c9bd0",
   "metadata": {},
   "source": [
    "**Leitura do Arquivo**"
   ]
  },
  {
   "cell_type": "code",
   "id": "c03fa17f",
   "metadata": {
    "ExecuteTime": {
     "end_time": "2025-04-20T06:02:40.882572Z",
     "start_time": "2025-04-20T06:02:40.818522Z"
    }
   },
   "source": [
    "current_path = os.path.dirname(os.getcwd())\n",
    "csv_path = (current_path + '/Data/Pre-processamento/positions_ajustadas.csv')\n",
    "df = pd.read_csv(csv_path)"
   ],
   "outputs": [],
   "execution_count": 2
  },
  {
   "cell_type": "markdown",
   "id": "0143d4d3",
   "metadata": {},
   "source": [
    "# Target"
   ]
  },
  {
   "cell_type": "code",
   "id": "1ab37864",
   "metadata": {
    "ExecuteTime": {
     "end_time": "2025-04-20T06:02:41.052183Z",
     "start_time": "2025-04-20T06:02:41.047371Z"
    }
   },
   "source": [
    "def target(df):\n",
    "    \"\"\"\n",
    "    Calcula o resultado do confronto com base nas colunas 'Gols 1' e 'Gols 2'.\n",
    "\n",
    "    Parâmetros:\n",
    "    df (pandas.DataFrame): DataFrame que contém as colunas 'Gols 1' e 'Gols 2'.\n",
    "\n",
    "    Retorna:\n",
    "    pandas.Series: Série com os resultados, onde:\n",
    "        - \"2\" se 'Gols 1' > 'Gols 2'\n",
    "        - \"1\" se 'Gols 1' == 'Gols 2'\n",
    "        - \"0\" se 'Gols 1' < 'Gols 2'\n",
    "    \"\"\"\n",
    "    resultados = []\n",
    "    for _, row in df.iterrows():\n",
    "        if row['Gols 1'] > row['Gols 2']:\n",
    "            resultados.append(\"2\")\n",
    "        elif row['Gols 1'] == row['Gols 2']:\n",
    "            resultados.append(\"1\")\n",
    "        else:\n",
    "            resultados.append(\"0\")\n",
    "    return pd.Series(resultados, name=\"Target\")"
   ],
   "outputs": [],
   "execution_count": 3
  },
  {
   "cell_type": "markdown",
   "id": "35d4c9cb",
   "metadata": {},
   "source": [
    "Aplicamos a função acima no dataframe para ser lido, e adicionamos a coluna:"
   ]
  },
  {
   "cell_type": "code",
   "id": "e60d1908",
   "metadata": {
    "ExecuteTime": {
     "end_time": "2025-04-20T06:02:41.685830Z",
     "start_time": "2025-04-20T06:02:41.072183Z"
    }
   },
   "source": [
    "resultados = target(df)\n",
    "df = pd.concat([df, resultados], axis = 1)\n",
    "df.head()"
   ],
   "outputs": [
    {
     "data": {
      "text/plain": [
       "   Chutes a gol 1  Chutes a gol 2  Impedimentos 1  Impedimentos 2  \\\n",
       "0             8.0             0.0             6.0             3.0   \n",
       "1             0.0             2.0             0.0             2.0   \n",
       "2             4.0             5.0             1.0             5.0   \n",
       "3             4.0             7.0             8.0             1.0   \n",
       "4             3.0             1.0             1.0             3.0   \n",
       "\n",
       "   Escanteios 1  Escanteios 2  Chutes fora 1  Chutes fora 2  Faltas 1  \\\n",
       "0           7.0           1.0            6.0            1.0       8.0   \n",
       "1           0.0           4.0            3.0            4.0      19.0   \n",
       "2           8.0          11.0            2.0            5.0      13.0   \n",
       "3           6.0           5.0            4.0            7.0       4.0   \n",
       "4           5.0           4.0            2.0            2.0      12.0   \n",
       "\n",
       "   Faltas 2  ...  Substituições 2  Tiros-livres 1  Tiros-livres 2  \\\n",
       "0      14.0  ...              3.0             NaN             NaN   \n",
       "1      14.0  ...              3.0             NaN             NaN   \n",
       "2      14.0  ...              3.0             NaN             NaN   \n",
       "3      11.0  ...              3.0             NaN             NaN   \n",
       "4      17.0  ...              3.0             NaN             NaN   \n",
       "\n",
       "   Defesas difíceis 1  Defesas difíceis 2  Posse 1(%)  Posse 2(%)  Position 1  \\\n",
       "0                 NaN                 NaN        77.0        23.0         1.0   \n",
       "1                 NaN                 NaN        44.0        56.0         1.0   \n",
       "2                 NaN                 NaN        47.0        53.0         1.0   \n",
       "3                 NaN                 NaN        27.0        73.0         1.0   \n",
       "4                 NaN                 NaN        58.0        42.0         0.0   \n",
       "\n",
       "   Position 2  Target  \n",
       "0         1.0       2  \n",
       "1         1.0       1  \n",
       "2         1.0       1  \n",
       "3         0.0       2  \n",
       "4         1.0       2  \n",
       "\n",
       "[5 rows x 39 columns]"
      ],
      "text/html": [
       "<div>\n",
       "<style scoped>\n",
       "    .dataframe tbody tr th:only-of-type {\n",
       "        vertical-align: middle;\n",
       "    }\n",
       "\n",
       "    .dataframe tbody tr th {\n",
       "        vertical-align: top;\n",
       "    }\n",
       "\n",
       "    .dataframe thead th {\n",
       "        text-align: right;\n",
       "    }\n",
       "</style>\n",
       "<table border=\"1\" class=\"dataframe\">\n",
       "  <thead>\n",
       "    <tr style=\"text-align: right;\">\n",
       "      <th></th>\n",
       "      <th>Chutes a gol 1</th>\n",
       "      <th>Chutes a gol 2</th>\n",
       "      <th>Impedimentos 1</th>\n",
       "      <th>Impedimentos 2</th>\n",
       "      <th>Escanteios 1</th>\n",
       "      <th>Escanteios 2</th>\n",
       "      <th>Chutes fora 1</th>\n",
       "      <th>Chutes fora 2</th>\n",
       "      <th>Faltas 1</th>\n",
       "      <th>Faltas 2</th>\n",
       "      <th>...</th>\n",
       "      <th>Substituições 2</th>\n",
       "      <th>Tiros-livres 1</th>\n",
       "      <th>Tiros-livres 2</th>\n",
       "      <th>Defesas difíceis 1</th>\n",
       "      <th>Defesas difíceis 2</th>\n",
       "      <th>Posse 1(%)</th>\n",
       "      <th>Posse 2(%)</th>\n",
       "      <th>Position 1</th>\n",
       "      <th>Position 2</th>\n",
       "      <th>Target</th>\n",
       "    </tr>\n",
       "  </thead>\n",
       "  <tbody>\n",
       "    <tr>\n",
       "      <th>0</th>\n",
       "      <td>8.0</td>\n",
       "      <td>0.0</td>\n",
       "      <td>6.0</td>\n",
       "      <td>3.0</td>\n",
       "      <td>7.0</td>\n",
       "      <td>1.0</td>\n",
       "      <td>6.0</td>\n",
       "      <td>1.0</td>\n",
       "      <td>8.0</td>\n",
       "      <td>14.0</td>\n",
       "      <td>...</td>\n",
       "      <td>3.0</td>\n",
       "      <td>NaN</td>\n",
       "      <td>NaN</td>\n",
       "      <td>NaN</td>\n",
       "      <td>NaN</td>\n",
       "      <td>77.0</td>\n",
       "      <td>23.0</td>\n",
       "      <td>1.0</td>\n",
       "      <td>1.0</td>\n",
       "      <td>2</td>\n",
       "    </tr>\n",
       "    <tr>\n",
       "      <th>1</th>\n",
       "      <td>0.0</td>\n",
       "      <td>2.0</td>\n",
       "      <td>0.0</td>\n",
       "      <td>2.0</td>\n",
       "      <td>0.0</td>\n",
       "      <td>4.0</td>\n",
       "      <td>3.0</td>\n",
       "      <td>4.0</td>\n",
       "      <td>19.0</td>\n",
       "      <td>14.0</td>\n",
       "      <td>...</td>\n",
       "      <td>3.0</td>\n",
       "      <td>NaN</td>\n",
       "      <td>NaN</td>\n",
       "      <td>NaN</td>\n",
       "      <td>NaN</td>\n",
       "      <td>44.0</td>\n",
       "      <td>56.0</td>\n",
       "      <td>1.0</td>\n",
       "      <td>1.0</td>\n",
       "      <td>1</td>\n",
       "    </tr>\n",
       "    <tr>\n",
       "      <th>2</th>\n",
       "      <td>4.0</td>\n",
       "      <td>5.0</td>\n",
       "      <td>1.0</td>\n",
       "      <td>5.0</td>\n",
       "      <td>8.0</td>\n",
       "      <td>11.0</td>\n",
       "      <td>2.0</td>\n",
       "      <td>5.0</td>\n",
       "      <td>13.0</td>\n",
       "      <td>14.0</td>\n",
       "      <td>...</td>\n",
       "      <td>3.0</td>\n",
       "      <td>NaN</td>\n",
       "      <td>NaN</td>\n",
       "      <td>NaN</td>\n",
       "      <td>NaN</td>\n",
       "      <td>47.0</td>\n",
       "      <td>53.0</td>\n",
       "      <td>1.0</td>\n",
       "      <td>1.0</td>\n",
       "      <td>1</td>\n",
       "    </tr>\n",
       "    <tr>\n",
       "      <th>3</th>\n",
       "      <td>4.0</td>\n",
       "      <td>7.0</td>\n",
       "      <td>8.0</td>\n",
       "      <td>1.0</td>\n",
       "      <td>6.0</td>\n",
       "      <td>5.0</td>\n",
       "      <td>4.0</td>\n",
       "      <td>7.0</td>\n",
       "      <td>4.0</td>\n",
       "      <td>11.0</td>\n",
       "      <td>...</td>\n",
       "      <td>3.0</td>\n",
       "      <td>NaN</td>\n",
       "      <td>NaN</td>\n",
       "      <td>NaN</td>\n",
       "      <td>NaN</td>\n",
       "      <td>27.0</td>\n",
       "      <td>73.0</td>\n",
       "      <td>1.0</td>\n",
       "      <td>0.0</td>\n",
       "      <td>2</td>\n",
       "    </tr>\n",
       "    <tr>\n",
       "      <th>4</th>\n",
       "      <td>3.0</td>\n",
       "      <td>1.0</td>\n",
       "      <td>1.0</td>\n",
       "      <td>3.0</td>\n",
       "      <td>5.0</td>\n",
       "      <td>4.0</td>\n",
       "      <td>2.0</td>\n",
       "      <td>2.0</td>\n",
       "      <td>12.0</td>\n",
       "      <td>17.0</td>\n",
       "      <td>...</td>\n",
       "      <td>3.0</td>\n",
       "      <td>NaN</td>\n",
       "      <td>NaN</td>\n",
       "      <td>NaN</td>\n",
       "      <td>NaN</td>\n",
       "      <td>58.0</td>\n",
       "      <td>42.0</td>\n",
       "      <td>0.0</td>\n",
       "      <td>1.0</td>\n",
       "      <td>2</td>\n",
       "    </tr>\n",
       "  </tbody>\n",
       "</table>\n",
       "<p>5 rows × 39 columns</p>\n",
       "</div>"
      ]
     },
     "execution_count": 4,
     "metadata": {},
     "output_type": "execute_result"
    }
   ],
   "execution_count": 4
  },
  {
   "cell_type": "markdown",
   "id": "a7bc3682",
   "metadata": {},
   "source": [
    "# Salvando novo csv"
   ]
  },
  {
   "cell_type": "code",
   "id": "f4d02665",
   "metadata": {
    "ExecuteTime": {
     "end_time": "2025-04-20T06:02:42.260533Z",
     "start_time": "2025-04-20T06:02:41.798008Z"
    }
   },
   "source": [
    "df.to_csv(current_path + '/Data/Pre-processamento/com_target.csv', index=False)"
   ],
   "outputs": [],
   "execution_count": 5
  }
 ],
 "metadata": {
  "kernelspec": {
   "display_name": "Python 3",
   "language": "python",
   "name": "python3"
  },
  "language_info": {
   "codemirror_mode": {
    "name": "ipython",
    "version": 3
   },
   "file_extension": ".py",
   "mimetype": "text/x-python",
   "name": "python",
   "nbconvert_exporter": "python",
   "pygments_lexer": "ipython3",
   "version": "3.13.1"
  }
 },
 "nbformat": 4,
 "nbformat_minor": 5
}
