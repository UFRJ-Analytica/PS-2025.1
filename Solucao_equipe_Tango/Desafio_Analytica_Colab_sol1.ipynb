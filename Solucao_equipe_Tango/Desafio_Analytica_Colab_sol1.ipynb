{
  "cells": [
    {
      "cell_type": "code",
      "execution_count": 49,
      "metadata": {},
      "outputs": [],
      "source": [
        "# Flag para configurar se plota ou não gráficos e tabelas com o matplotlib.\n",
        "\n",
        "plot = 0"
      ]
    },
    {
      "cell_type": "markdown",
      "metadata": {
        "colab_type": "text",
        "id": "view-in-github"
      },
      "source": [
        "<a href=\"https://colab.research.google.com/github/AbraaoCG/PS-2025.1_tango/blob/main/Desafio_Analytica_Colab.ipynb\" target=\"_parent\"><img src=\"https://colab.research.google.com/assets/colab-badge.svg\" alt=\"Open In Colab\"/></a>"
      ]
    },
    {
      "cell_type": "markdown",
      "metadata": {},
      "source": [
        "# Pré-Processamento"
      ]
    },
    {
      "cell_type": "markdown",
      "metadata": {
        "id": "2KHwEUJX1CKW"
      },
      "source": [
        "## Abrindo e estudando o arquivo"
      ]
    },
    {
      "cell_type": "markdown",
      "metadata": {
        "id": "N4_6_iD49fJ4"
      },
      "source": [
        "Começamos verificando a estrutura inicial do arquivo para identificar as colunas, seus valores, tamanho e estatísticas."
      ]
    },
    {
      "cell_type": "code",
      "execution_count": 50,
      "metadata": {
        "colab": {
          "base_uri": "https://localhost:8080/",
          "height": 0
        },
        "id": "1ah_5Qpn78su",
        "outputId": "8d925e87-21ef-412b-9a55-710b00869a9e"
      },
      "outputs": [
        {
          "data": {
            "text/html": [
              "<div>\n",
              "<style scoped>\n",
              "    .dataframe tbody tr th:only-of-type {\n",
              "        vertical-align: middle;\n",
              "    }\n",
              "\n",
              "    .dataframe tbody tr th {\n",
              "        vertical-align: top;\n",
              "    }\n",
              "\n",
              "    .dataframe thead th {\n",
              "        text-align: right;\n",
              "    }\n",
              "</style>\n",
              "<table border=\"1\" class=\"dataframe\">\n",
              "  <thead>\n",
              "    <tr style=\"text-align: right;\">\n",
              "      <th></th>\n",
              "      <th>Chutes a gol 1</th>\n",
              "      <th>Chutes a gol 2</th>\n",
              "      <th>Impedimentos 1</th>\n",
              "      <th>Impedimentos 2</th>\n",
              "      <th>Escanteios 1</th>\n",
              "      <th>Escanteios 2</th>\n",
              "      <th>Chutes fora 1</th>\n",
              "      <th>Chutes fora 2</th>\n",
              "      <th>Faltas 1</th>\n",
              "      <th>Faltas 2</th>\n",
              "      <th>...</th>\n",
              "      <th>Tiros-livres 1</th>\n",
              "      <th>Tiros-livres 2</th>\n",
              "      <th>Defesas difíceis 1</th>\n",
              "      <th>Defesas difíceis 2</th>\n",
              "      <th>Posse 1(%)</th>\n",
              "      <th>Posse 2(%)</th>\n",
              "      <th>Time 1</th>\n",
              "      <th>Time 2</th>\n",
              "      <th>Position 1</th>\n",
              "      <th>Position 2</th>\n",
              "    </tr>\n",
              "  </thead>\n",
              "  <tbody>\n",
              "    <tr>\n",
              "      <th>0</th>\n",
              "      <td>8.0</td>\n",
              "      <td>0.0</td>\n",
              "      <td>6.0</td>\n",
              "      <td>3.0</td>\n",
              "      <td>7.0</td>\n",
              "      <td>1.0</td>\n",
              "      <td>6.0</td>\n",
              "      <td>1.0</td>\n",
              "      <td>8.0</td>\n",
              "      <td>14.0</td>\n",
              "      <td>...</td>\n",
              "      <td>NaN</td>\n",
              "      <td>NaN</td>\n",
              "      <td>NaN</td>\n",
              "      <td>NaN</td>\n",
              "      <td>77.0</td>\n",
              "      <td>23.0</td>\n",
              "      <td>Glasgow Rangers</td>\n",
              "      <td>Livingston</td>\n",
              "      <td>4-3-3</td>\n",
              "      <td>4-3-3</td>\n",
              "    </tr>\n",
              "    <tr>\n",
              "      <th>1</th>\n",
              "      <td>0.0</td>\n",
              "      <td>2.0</td>\n",
              "      <td>0.0</td>\n",
              "      <td>2.0</td>\n",
              "      <td>0.0</td>\n",
              "      <td>4.0</td>\n",
              "      <td>3.0</td>\n",
              "      <td>4.0</td>\n",
              "      <td>19.0</td>\n",
              "      <td>14.0</td>\n",
              "      <td>...</td>\n",
              "      <td>NaN</td>\n",
              "      <td>NaN</td>\n",
              "      <td>NaN</td>\n",
              "      <td>NaN</td>\n",
              "      <td>44.0</td>\n",
              "      <td>56.0</td>\n",
              "      <td>Ross County</td>\n",
              "      <td>St.Johnstone</td>\n",
              "      <td>3-5-2</td>\n",
              "      <td>3-5-2</td>\n",
              "    </tr>\n",
              "    <tr>\n",
              "      <th>2</th>\n",
              "      <td>4.0</td>\n",
              "      <td>5.0</td>\n",
              "      <td>1.0</td>\n",
              "      <td>5.0</td>\n",
              "      <td>8.0</td>\n",
              "      <td>11.0</td>\n",
              "      <td>2.0</td>\n",
              "      <td>5.0</td>\n",
              "      <td>13.0</td>\n",
              "      <td>14.0</td>\n",
              "      <td>...</td>\n",
              "      <td>NaN</td>\n",
              "      <td>NaN</td>\n",
              "      <td>NaN</td>\n",
              "      <td>NaN</td>\n",
              "      <td>47.0</td>\n",
              "      <td>53.0</td>\n",
              "      <td>Dundee FC</td>\n",
              "      <td>St. Mirren</td>\n",
              "      <td>4-3-3</td>\n",
              "      <td>3-4-1-2</td>\n",
              "    </tr>\n",
              "    <tr>\n",
              "      <th>3</th>\n",
              "      <td>4.0</td>\n",
              "      <td>7.0</td>\n",
              "      <td>8.0</td>\n",
              "      <td>1.0</td>\n",
              "      <td>6.0</td>\n",
              "      <td>5.0</td>\n",
              "      <td>4.0</td>\n",
              "      <td>7.0</td>\n",
              "      <td>4.0</td>\n",
              "      <td>11.0</td>\n",
              "      <td>...</td>\n",
              "      <td>NaN</td>\n",
              "      <td>NaN</td>\n",
              "      <td>NaN</td>\n",
              "      <td>NaN</td>\n",
              "      <td>27.0</td>\n",
              "      <td>73.0</td>\n",
              "      <td>Hearts</td>\n",
              "      <td>Celtic</td>\n",
              "      <td>3-4-3</td>\n",
              "      <td>4-2-3-1</td>\n",
              "    </tr>\n",
              "    <tr>\n",
              "      <th>4</th>\n",
              "      <td>3.0</td>\n",
              "      <td>1.0</td>\n",
              "      <td>1.0</td>\n",
              "      <td>3.0</td>\n",
              "      <td>5.0</td>\n",
              "      <td>4.0</td>\n",
              "      <td>2.0</td>\n",
              "      <td>2.0</td>\n",
              "      <td>12.0</td>\n",
              "      <td>17.0</td>\n",
              "      <td>...</td>\n",
              "      <td>NaN</td>\n",
              "      <td>NaN</td>\n",
              "      <td>NaN</td>\n",
              "      <td>NaN</td>\n",
              "      <td>58.0</td>\n",
              "      <td>42.0</td>\n",
              "      <td>Aberdeen</td>\n",
              "      <td>Dundee U.</td>\n",
              "      <td>4-4-2</td>\n",
              "      <td>3-5-1-1</td>\n",
              "    </tr>\n",
              "  </tbody>\n",
              "</table>\n",
              "<p>5 rows × 40 columns</p>\n",
              "</div>"
            ],
            "text/plain": [
              "   Chutes a gol 1  Chutes a gol 2  Impedimentos 1  Impedimentos 2  \\\n",
              "0             8.0             0.0             6.0             3.0   \n",
              "1             0.0             2.0             0.0             2.0   \n",
              "2             4.0             5.0             1.0             5.0   \n",
              "3             4.0             7.0             8.0             1.0   \n",
              "4             3.0             1.0             1.0             3.0   \n",
              "\n",
              "   Escanteios 1  Escanteios 2  Chutes fora 1  Chutes fora 2  Faltas 1  \\\n",
              "0           7.0           1.0            6.0            1.0       8.0   \n",
              "1           0.0           4.0            3.0            4.0      19.0   \n",
              "2           8.0          11.0            2.0            5.0      13.0   \n",
              "3           6.0           5.0            4.0            7.0       4.0   \n",
              "4           5.0           4.0            2.0            2.0      12.0   \n",
              "\n",
              "   Faltas 2  ...  Tiros-livres 1  Tiros-livres 2  Defesas difíceis 1  \\\n",
              "0      14.0  ...             NaN             NaN                 NaN   \n",
              "1      14.0  ...             NaN             NaN                 NaN   \n",
              "2      14.0  ...             NaN             NaN                 NaN   \n",
              "3      11.0  ...             NaN             NaN                 NaN   \n",
              "4      17.0  ...             NaN             NaN                 NaN   \n",
              "\n",
              "   Defesas difíceis 2  Posse 1(%)  Posse 2(%)           Time 1        Time 2  \\\n",
              "0                 NaN        77.0        23.0  Glasgow Rangers    Livingston   \n",
              "1                 NaN        44.0        56.0      Ross County  St.Johnstone   \n",
              "2                 NaN        47.0        53.0        Dundee FC    St. Mirren   \n",
              "3                 NaN        27.0        73.0           Hearts        Celtic   \n",
              "4                 NaN        58.0        42.0         Aberdeen     Dundee U.   \n",
              "\n",
              "   Position 1  Position 2  \n",
              "0       4-3-3       4-3-3  \n",
              "1       3-5-2       3-5-2  \n",
              "2       4-3-3     3-4-1-2  \n",
              "3       3-4-3     4-2-3-1  \n",
              "4       4-4-2     3-5-1-1  \n",
              "\n",
              "[5 rows x 40 columns]"
            ]
          },
          "execution_count": 50,
          "metadata": {},
          "output_type": "execute_result"
        }
      ],
      "source": [
        "import pandas as pd\n",
        "import csv\n",
        "\n",
        "dataset = pd.read_csv('./campeonatos_futebol_atualizacao.csv', sep=',', encoding='utf-8', on_bad_lines='skip')\n",
        "\n",
        "# visualizando primeiras linhas\n",
        "dataset.head()"
      ]
    },
    {
      "cell_type": "code",
      "execution_count": 51,
      "metadata": {
        "colab": {
          "base_uri": "https://localhost:8080/"
        },
        "id": "o75HTQ_oVu6A",
        "outputId": "5e7726d6-1317-4805-f60c-7622823e56cc"
      },
      "outputs": [
        {
          "data": {
            "text/plain": [
              "(27716, 40)"
            ]
          },
          "execution_count": 51,
          "metadata": {},
          "output_type": "execute_result"
        }
      ],
      "source": [
        "# analisando o total de linhas e colunas\n",
        "dataset.shape"
      ]
    },
    {
      "cell_type": "code",
      "execution_count": 52,
      "metadata": {
        "colab": {
          "base_uri": "https://localhost:8080/",
          "height": 0
        },
        "id": "ftYxt9S1-gCU",
        "outputId": "cc37c8c3-7123-4c83-938f-c39f88e2a507"
      },
      "outputs": [
        {
          "data": {
            "text/plain": [
              "Chutes a gol 1         26204\n",
              "Chutes a gol 2         26204\n",
              "Impedimentos 1         24942\n",
              "Impedimentos 2         24942\n",
              "Escanteios 1           25388\n",
              "Escanteios 2           25388\n",
              "Chutes fora 1          25392\n",
              "Chutes fora 2          25392\n",
              "Faltas 1               25394\n",
              "Faltas 2               25394\n",
              "Cartões amarelos 1     27716\n",
              "Cartões amarelos 2     27716\n",
              "Cartões vermelhos 1    27716\n",
              "Cartões vermelhos 2    27716\n",
              "Cruzamentos 1           9015\n",
              "Cruzamentos 2           9015\n",
              "Laterais 1             15167\n",
              "Laterais 2             15167\n",
              "Chutes bloqueados 1     8843\n",
              "Chutes bloqueados 2     8843\n",
              "Contra-ataques 1        6263\n",
              "Contra-ataques 2        6263\n",
              "Gols 1                 27716\n",
              "Gols 2                 27716\n",
              "Tiro de meta 1         12015\n",
              "Tiro de meta 2         12015\n",
              "Tratamentos 1           5019\n",
              "Tratamentos 2           5019\n",
              "Substituições 1         9420\n",
              "Substituições 2         9420\n",
              "Tiros-livres 1          6246\n",
              "Tiros-livres 2          6246\n",
              "Defesas difíceis 1      6196\n",
              "Defesas difíceis 2      6196\n",
              "Posse 1(%)             25366\n",
              "Posse 2(%)             25366\n",
              "Time 1                 27716\n",
              "Time 2                 27716\n",
              "Position 1             26114\n",
              "Position 2             26086\n",
              "dtype: int64"
            ]
          },
          "execution_count": 52,
          "metadata": {},
          "output_type": "execute_result"
        }
      ],
      "source": [
        "# verificando total de registros não-nulos por coluna\n",
        "dataset.count()"
      ]
    },
    {
      "cell_type": "code",
      "execution_count": 53,
      "metadata": {
        "colab": {
          "base_uri": "https://localhost:8080/"
        },
        "id": "91v3JBCxJ1IR",
        "outputId": "bbccad64-4ca0-4a35-97de-be766ba925e1"
      },
      "outputs": [
        {
          "name": "stdout",
          "output_type": "stream",
          "text": [
            "<class 'pandas.core.frame.DataFrame'>\n",
            "RangeIndex: 27716 entries, 0 to 27715\n",
            "Data columns (total 40 columns):\n",
            " #   Column               Non-Null Count  Dtype  \n",
            "---  ------               --------------  -----  \n",
            " 0   Chutes a gol 1       26204 non-null  float64\n",
            " 1   Chutes a gol 2       26204 non-null  float64\n",
            " 2   Impedimentos 1       24942 non-null  float64\n",
            " 3   Impedimentos 2       24942 non-null  float64\n",
            " 4   Escanteios 1         25388 non-null  float64\n",
            " 5   Escanteios 2         25388 non-null  float64\n",
            " 6   Chutes fora 1        25392 non-null  float64\n",
            " 7   Chutes fora 2        25392 non-null  float64\n",
            " 8   Faltas 1             25394 non-null  float64\n",
            " 9   Faltas 2             25394 non-null  float64\n",
            " 10  Cartões amarelos 1   27716 non-null  float64\n",
            " 11  Cartões amarelos 2   27716 non-null  float64\n",
            " 12  Cartões vermelhos 1  27716 non-null  float64\n",
            " 13  Cartões vermelhos 2  27716 non-null  float64\n",
            " 14  Cruzamentos 1        9015 non-null   float64\n",
            " 15  Cruzamentos 2        9015 non-null   float64\n",
            " 16  Laterais 1           15167 non-null  float64\n",
            " 17  Laterais 2           15167 non-null  float64\n",
            " 18  Chutes bloqueados 1  8843 non-null   float64\n",
            " 19  Chutes bloqueados 2  8843 non-null   float64\n",
            " 20  Contra-ataques 1     6263 non-null   float64\n",
            " 21  Contra-ataques 2     6263 non-null   float64\n",
            " 22  Gols 1               27716 non-null  float64\n",
            " 23  Gols 2               27716 non-null  float64\n",
            " 24  Tiro de meta 1       12015 non-null  float64\n",
            " 25  Tiro de meta 2       12015 non-null  float64\n",
            " 26  Tratamentos 1        5019 non-null   float64\n",
            " 27  Tratamentos 2        5019 non-null   float64\n",
            " 28  Substituições 1      9420 non-null   float64\n",
            " 29  Substituições 2      9420 non-null   float64\n",
            " 30  Tiros-livres 1       6246 non-null   float64\n",
            " 31  Tiros-livres 2       6246 non-null   float64\n",
            " 32  Defesas difíceis 1   6196 non-null   float64\n",
            " 33  Defesas difíceis 2   6196 non-null   float64\n",
            " 34  Posse 1(%)           25366 non-null  float64\n",
            " 35  Posse 2(%)           25366 non-null  float64\n",
            " 36  Time 1               27716 non-null  object \n",
            " 37  Time 2               27716 non-null  object \n",
            " 38  Position 1           26114 non-null  object \n",
            " 39  Position 2           26086 non-null  object \n",
            "dtypes: float64(36), object(4)\n",
            "memory usage: 8.5+ MB\n"
          ]
        }
      ],
      "source": [
        "# checando informações gerais, incluindo tipo das colunas\n",
        "dataset.info()"
      ]
    },
    {
      "cell_type": "code",
      "execution_count": 54,
      "metadata": {
        "colab": {
          "base_uri": "https://localhost:8080/",
          "height": 0
        },
        "id": "nObcnCBH9yXq",
        "outputId": "058f3f6f-70cd-480a-8fec-e7076fa0089b"
      },
      "outputs": [
        {
          "data": {
            "text/html": [
              "<div>\n",
              "<style scoped>\n",
              "    .dataframe tbody tr th:only-of-type {\n",
              "        vertical-align: middle;\n",
              "    }\n",
              "\n",
              "    .dataframe tbody tr th {\n",
              "        vertical-align: top;\n",
              "    }\n",
              "\n",
              "    .dataframe thead th {\n",
              "        text-align: right;\n",
              "    }\n",
              "</style>\n",
              "<table border=\"1\" class=\"dataframe\">\n",
              "  <thead>\n",
              "    <tr style=\"text-align: right;\">\n",
              "      <th></th>\n",
              "      <th>Chutes a gol 1</th>\n",
              "      <th>Chutes a gol 2</th>\n",
              "      <th>Impedimentos 1</th>\n",
              "      <th>Impedimentos 2</th>\n",
              "      <th>Escanteios 1</th>\n",
              "      <th>Escanteios 2</th>\n",
              "      <th>Chutes fora 1</th>\n",
              "      <th>Chutes fora 2</th>\n",
              "      <th>Faltas 1</th>\n",
              "      <th>Faltas 2</th>\n",
              "      <th>...</th>\n",
              "      <th>Tratamentos 1</th>\n",
              "      <th>Tratamentos 2</th>\n",
              "      <th>Substituições 1</th>\n",
              "      <th>Substituições 2</th>\n",
              "      <th>Tiros-livres 1</th>\n",
              "      <th>Tiros-livres 2</th>\n",
              "      <th>Defesas difíceis 1</th>\n",
              "      <th>Defesas difíceis 2</th>\n",
              "      <th>Posse 1(%)</th>\n",
              "      <th>Posse 2(%)</th>\n",
              "    </tr>\n",
              "  </thead>\n",
              "  <tbody>\n",
              "    <tr>\n",
              "      <th>count</th>\n",
              "      <td>26204.000000</td>\n",
              "      <td>26204.000000</td>\n",
              "      <td>24942.000000</td>\n",
              "      <td>24942.000000</td>\n",
              "      <td>25388.000000</td>\n",
              "      <td>25388.000000</td>\n",
              "      <td>25392.000000</td>\n",
              "      <td>25392.000000</td>\n",
              "      <td>25394.000000</td>\n",
              "      <td>25394.000000</td>\n",
              "      <td>...</td>\n",
              "      <td>5019.000000</td>\n",
              "      <td>5019.000000</td>\n",
              "      <td>9420.000000</td>\n",
              "      <td>9420.000000</td>\n",
              "      <td>6246.000000</td>\n",
              "      <td>6246.000000</td>\n",
              "      <td>6196.000000</td>\n",
              "      <td>6196.000000</td>\n",
              "      <td>25366.000000</td>\n",
              "      <td>25366.000000</td>\n",
              "    </tr>\n",
              "    <tr>\n",
              "      <th>mean</th>\n",
              "      <td>4.767287</td>\n",
              "      <td>3.854526</td>\n",
              "      <td>2.139844</td>\n",
              "      <td>1.968527</td>\n",
              "      <td>5.548409</td>\n",
              "      <td>4.459824</td>\n",
              "      <td>6.034302</td>\n",
              "      <td>4.956758</td>\n",
              "      <td>12.694495</td>\n",
              "      <td>12.946444</td>\n",
              "      <td>...</td>\n",
              "      <td>1.995617</td>\n",
              "      <td>2.134489</td>\n",
              "      <td>3.000318</td>\n",
              "      <td>3.001168</td>\n",
              "      <td>14.156260</td>\n",
              "      <td>14.245757</td>\n",
              "      <td>2.676888</td>\n",
              "      <td>3.206908</td>\n",
              "      <td>51.315659</td>\n",
              "      <td>48.508279</td>\n",
              "    </tr>\n",
              "    <tr>\n",
              "      <th>std</th>\n",
              "      <td>2.797705</td>\n",
              "      <td>2.444182</td>\n",
              "      <td>1.754924</td>\n",
              "      <td>1.681298</td>\n",
              "      <td>2.975521</td>\n",
              "      <td>2.620973</td>\n",
              "      <td>3.224260</td>\n",
              "      <td>5.451316</td>\n",
              "      <td>4.337402</td>\n",
              "      <td>4.608542</td>\n",
              "      <td>...</td>\n",
              "      <td>2.258323</td>\n",
              "      <td>2.296141</td>\n",
              "      <td>1.020285</td>\n",
              "      <td>1.033004</td>\n",
              "      <td>4.432963</td>\n",
              "      <td>4.335781</td>\n",
              "      <td>1.842689</td>\n",
              "      <td>2.078474</td>\n",
              "      <td>9.834217</td>\n",
              "      <td>9.808893</td>\n",
              "    </tr>\n",
              "    <tr>\n",
              "      <th>min</th>\n",
              "      <td>0.000000</td>\n",
              "      <td>0.000000</td>\n",
              "      <td>0.000000</td>\n",
              "      <td>0.000000</td>\n",
              "      <td>0.000000</td>\n",
              "      <td>0.000000</td>\n",
              "      <td>0.000000</td>\n",
              "      <td>0.000000</td>\n",
              "      <td>0.000000</td>\n",
              "      <td>0.000000</td>\n",
              "      <td>...</td>\n",
              "      <td>0.000000</td>\n",
              "      <td>0.000000</td>\n",
              "      <td>0.000000</td>\n",
              "      <td>0.000000</td>\n",
              "      <td>1.000000</td>\n",
              "      <td>0.000000</td>\n",
              "      <td>0.000000</td>\n",
              "      <td>0.000000</td>\n",
              "      <td>0.000000</td>\n",
              "      <td>0.000000</td>\n",
              "    </tr>\n",
              "    <tr>\n",
              "      <th>25%</th>\n",
              "      <td>3.000000</td>\n",
              "      <td>2.000000</td>\n",
              "      <td>1.000000</td>\n",
              "      <td>1.000000</td>\n",
              "      <td>3.000000</td>\n",
              "      <td>3.000000</td>\n",
              "      <td>4.000000</td>\n",
              "      <td>3.000000</td>\n",
              "      <td>10.000000</td>\n",
              "      <td>10.000000</td>\n",
              "      <td>...</td>\n",
              "      <td>0.000000</td>\n",
              "      <td>0.000000</td>\n",
              "      <td>3.000000</td>\n",
              "      <td>3.000000</td>\n",
              "      <td>11.000000</td>\n",
              "      <td>11.000000</td>\n",
              "      <td>1.000000</td>\n",
              "      <td>2.000000</td>\n",
              "      <td>45.000000</td>\n",
              "      <td>42.000000</td>\n",
              "    </tr>\n",
              "    <tr>\n",
              "      <th>50%</th>\n",
              "      <td>4.000000</td>\n",
              "      <td>4.000000</td>\n",
              "      <td>2.000000</td>\n",
              "      <td>2.000000</td>\n",
              "      <td>5.000000</td>\n",
              "      <td>4.000000</td>\n",
              "      <td>6.000000</td>\n",
              "      <td>5.000000</td>\n",
              "      <td>12.000000</td>\n",
              "      <td>13.000000</td>\n",
              "      <td>...</td>\n",
              "      <td>1.000000</td>\n",
              "      <td>2.000000</td>\n",
              "      <td>3.000000</td>\n",
              "      <td>3.000000</td>\n",
              "      <td>14.000000</td>\n",
              "      <td>14.000000</td>\n",
              "      <td>2.000000</td>\n",
              "      <td>3.000000</td>\n",
              "      <td>52.000000</td>\n",
              "      <td>48.000000</td>\n",
              "    </tr>\n",
              "    <tr>\n",
              "      <th>75%</th>\n",
              "      <td>6.000000</td>\n",
              "      <td>5.000000</td>\n",
              "      <td>3.000000</td>\n",
              "      <td>3.000000</td>\n",
              "      <td>7.000000</td>\n",
              "      <td>6.000000</td>\n",
              "      <td>8.000000</td>\n",
              "      <td>7.000000</td>\n",
              "      <td>15.000000</td>\n",
              "      <td>16.000000</td>\n",
              "      <td>...</td>\n",
              "      <td>3.000000</td>\n",
              "      <td>3.000000</td>\n",
              "      <td>3.000000</td>\n",
              "      <td>3.000000</td>\n",
              "      <td>17.000000</td>\n",
              "      <td>17.000000</td>\n",
              "      <td>4.000000</td>\n",
              "      <td>4.000000</td>\n",
              "      <td>58.000000</td>\n",
              "      <td>55.000000</td>\n",
              "    </tr>\n",
              "    <tr>\n",
              "      <th>max</th>\n",
              "      <td>90.000000</td>\n",
              "      <td>80.000000</td>\n",
              "      <td>23.000000</td>\n",
              "      <td>15.000000</td>\n",
              "      <td>22.000000</td>\n",
              "      <td>21.000000</td>\n",
              "      <td>23.000000</td>\n",
              "      <td>748.000000</td>\n",
              "      <td>46.000000</td>\n",
              "      <td>180.000000</td>\n",
              "      <td>...</td>\n",
              "      <td>17.000000</td>\n",
              "      <td>16.000000</td>\n",
              "      <td>6.000000</td>\n",
              "      <td>6.000000</td>\n",
              "      <td>36.000000</td>\n",
              "      <td>33.000000</td>\n",
              "      <td>11.000000</td>\n",
              "      <td>17.000000</td>\n",
              "      <td>100.000000</td>\n",
              "      <td>100.000000</td>\n",
              "    </tr>\n",
              "  </tbody>\n",
              "</table>\n",
              "<p>8 rows × 36 columns</p>\n",
              "</div>"
            ],
            "text/plain": [
              "       Chutes a gol 1  Chutes a gol 2  Impedimentos 1  Impedimentos 2  \\\n",
              "count    26204.000000    26204.000000    24942.000000    24942.000000   \n",
              "mean         4.767287        3.854526        2.139844        1.968527   \n",
              "std          2.797705        2.444182        1.754924        1.681298   \n",
              "min          0.000000        0.000000        0.000000        0.000000   \n",
              "25%          3.000000        2.000000        1.000000        1.000000   \n",
              "50%          4.000000        4.000000        2.000000        2.000000   \n",
              "75%          6.000000        5.000000        3.000000        3.000000   \n",
              "max         90.000000       80.000000       23.000000       15.000000   \n",
              "\n",
              "       Escanteios 1  Escanteios 2  Chutes fora 1  Chutes fora 2      Faltas 1  \\\n",
              "count  25388.000000  25388.000000   25392.000000   25392.000000  25394.000000   \n",
              "mean       5.548409      4.459824       6.034302       4.956758     12.694495   \n",
              "std        2.975521      2.620973       3.224260       5.451316      4.337402   \n",
              "min        0.000000      0.000000       0.000000       0.000000      0.000000   \n",
              "25%        3.000000      3.000000       4.000000       3.000000     10.000000   \n",
              "50%        5.000000      4.000000       6.000000       5.000000     12.000000   \n",
              "75%        7.000000      6.000000       8.000000       7.000000     15.000000   \n",
              "max       22.000000     21.000000      23.000000     748.000000     46.000000   \n",
              "\n",
              "           Faltas 2  ...  Tratamentos 1  Tratamentos 2  Substituições 1  \\\n",
              "count  25394.000000  ...    5019.000000    5019.000000      9420.000000   \n",
              "mean      12.946444  ...       1.995617       2.134489         3.000318   \n",
              "std        4.608542  ...       2.258323       2.296141         1.020285   \n",
              "min        0.000000  ...       0.000000       0.000000         0.000000   \n",
              "25%       10.000000  ...       0.000000       0.000000         3.000000   \n",
              "50%       13.000000  ...       1.000000       2.000000         3.000000   \n",
              "75%       16.000000  ...       3.000000       3.000000         3.000000   \n",
              "max      180.000000  ...      17.000000      16.000000         6.000000   \n",
              "\n",
              "       Substituições 2  Tiros-livres 1  Tiros-livres 2  Defesas difíceis 1  \\\n",
              "count      9420.000000     6246.000000     6246.000000         6196.000000   \n",
              "mean          3.001168       14.156260       14.245757            2.676888   \n",
              "std           1.033004        4.432963        4.335781            1.842689   \n",
              "min           0.000000        1.000000        0.000000            0.000000   \n",
              "25%           3.000000       11.000000       11.000000            1.000000   \n",
              "50%           3.000000       14.000000       14.000000            2.000000   \n",
              "75%           3.000000       17.000000       17.000000            4.000000   \n",
              "max           6.000000       36.000000       33.000000           11.000000   \n",
              "\n",
              "       Defesas difíceis 2    Posse 1(%)    Posse 2(%)  \n",
              "count         6196.000000  25366.000000  25366.000000  \n",
              "mean             3.206908     51.315659     48.508279  \n",
              "std              2.078474      9.834217      9.808893  \n",
              "min              0.000000      0.000000      0.000000  \n",
              "25%              2.000000     45.000000     42.000000  \n",
              "50%              3.000000     52.000000     48.000000  \n",
              "75%              4.000000     58.000000     55.000000  \n",
              "max             17.000000    100.000000    100.000000  \n",
              "\n",
              "[8 rows x 36 columns]"
            ]
          },
          "execution_count": 54,
          "metadata": {},
          "output_type": "execute_result"
        }
      ],
      "source": [
        "dataset.describe()"
      ]
    },
    {
      "cell_type": "markdown",
      "metadata": {
        "id": "JEl5Xwfrzjv7"
      },
      "source": [
        "## Verificação de Outliers"
      ]
    },
    {
      "cell_type": "markdown",
      "metadata": {
        "id": "pVi2UHiT-nsP"
      },
      "source": [
        "Usamos boxplot para verificar os outliers, isso é importante também para as substituições de valores nulos, já que usaremos tendências centrais para preenchimento de alguns dos nulos."
      ]
    },
    {
      "cell_type": "code",
      "execution_count": 55,
      "metadata": {
        "colab": {
          "base_uri": "https://localhost:8080/",
          "height": 1000
        },
        "id": "4eDTSvmtzmdz",
        "outputId": "b3bd10fe-83fd-4c34-ce53-2571a7b80cf8"
      },
      "outputs": [],
      "source": [
        "import matplotlib.pyplot as plt\n",
        "import seaborn as sns\n",
        "\n",
        "if(plot):\n",
        "  num_cols = len(dataset.select_dtypes(include=['number']).columns)\n",
        "  num_rows = (num_cols + 1) // 2  # Calculate rows for subplots\n",
        "\n",
        "  fig, axes = plt.subplots(nrows=num_rows, ncols=2, figsize=(12, 3 * num_rows))\n",
        "  axes = axes.flatten()\n",
        "  change_index = False\n",
        "\n",
        "  for i, col in enumerate(dataset.select_dtypes(include=['number']).columns):\n",
        "    index = i\n",
        "    if change_index:\n",
        "      index = i - 1\n",
        "\n",
        "    if col != 'resultado_code':  # Avoid plotting against itself\n",
        "      sns.boxplot(x=col, data=dataset, ax=axes[index])\n",
        "      #sns.scatterplot(data=dataset, x=dataset.index, y=col, hue='resultado_code', ax=axes[index])\n",
        "      axes[index].set_title(f'Scatter Plot of {col} vs. Index')\n",
        "    else:\n",
        "      change_index=True\n",
        "\n",
        "    # Hide any unused subplots\n",
        "  for j in range(index+1, len(axes)):\n",
        "      axes[j].set_visible(False)\n",
        "\n",
        "  plt.tight_layout()\n",
        "  plt.show()"
      ]
    },
    {
      "cell_type": "markdown",
      "metadata": {
        "id": "D269Qk4o-8oo"
      },
      "source": [
        "Nossa análise apontou que algumas colunas possuem dados muito discrepantes, por isso, escolhemos removê-los pela técnica IQR. Optamos por usar como limiares as concentrações de 10% e 90% dos dados no cálculo do IQR, para não perdermos uma quantidade muito grande de dados."
      ]
    },
    {
      "cell_type": "code",
      "execution_count": 56,
      "metadata": {
        "id": "9JuQ_rVj4FbD"
      },
      "outputs": [],
      "source": [
        "# prompt: remove outlier from numeric columns using IQR\n",
        "\n",
        "import pandas as pd\n",
        "import numpy as np\n",
        "\n",
        "def remove_outliers_iqr(df, column):\n",
        "    Q1 = df[column].quantile(0.10)\n",
        "    Q3 = df[column].quantile(0.90)\n",
        "    IQR = Q3 - Q1\n",
        "    lower_bound = Q1 - 1.5 * IQR\n",
        "    upper_bound = Q3 + 1.5 * IQR\n",
        "    df_filtered = df[((df[column] <= upper_bound) | (df[column].isna()))]\n",
        "    return df_filtered\n",
        "\n",
        "# Example usage (assuming 'dataset' is your DataFrame):\n",
        "numeric_cols = dataset.select_dtypes(include=np.number).columns\n",
        "for col in numeric_cols:\n",
        "    dataset = remove_outliers_iqr(dataset, col)\n"
      ]
    },
    {
      "cell_type": "markdown",
      "metadata": {
        "id": "J1E4NvQuBKe3"
      },
      "source": [
        "Cerca de 3k linha foram removidas no processo."
      ]
    },
    {
      "cell_type": "code",
      "execution_count": 57,
      "metadata": {
        "colab": {
          "base_uri": "https://localhost:8080/"
        },
        "id": "G37bF05a4OzE",
        "outputId": "19590dc8-b6a0-4c1e-e636-a0ff464c5d34"
      },
      "outputs": [
        {
          "data": {
            "text/plain": [
              "(24823, 40)"
            ]
          },
          "execution_count": 57,
          "metadata": {},
          "output_type": "execute_result"
        }
      ],
      "source": [
        "dataset.shape"
      ]
    },
    {
      "cell_type": "markdown",
      "metadata": {
        "id": "qIzejOVgBQxU"
      },
      "source": [
        "Após a remoção analisando o boxplot dos dados faltantes para verificar se a nova distribuição era satisfatória."
      ]
    },
    {
      "cell_type": "code",
      "execution_count": 58,
      "metadata": {
        "colab": {
          "base_uri": "https://localhost:8080/",
          "height": 1000
        },
        "id": "xmKokoAXBBqD",
        "outputId": "9070b21a-86c4-4330-8ff7-6a9ca06e11c8"
      },
      "outputs": [],
      "source": [
        "import matplotlib.pyplot as plt\n",
        "import seaborn as sns\n",
        "if (plot):\n",
        "  num_cols = len(dataset.select_dtypes(include=['number']).columns)\n",
        "  num_rows = (num_cols + 1) // 2  # Calculate rows for subplots\n",
        "\n",
        "  fig, axes = plt.subplots(nrows=num_rows, ncols=2, figsize=(12, 3 * num_rows))\n",
        "  axes = axes.flatten()\n",
        "  change_index = False\n",
        "\n",
        "  for i, col in enumerate(dataset.select_dtypes(include=['number']).columns):\n",
        "    index = i\n",
        "    if change_index:\n",
        "      index = i - 1\n",
        "\n",
        "    if col != 'resultado_code':  # Avoid plotting against itself\n",
        "      sns.boxplot(x=col, data=dataset, ax=axes[index])\n",
        "      #sns.scatterplot(data=dataset, x=dataset.index, y=col, hue='resultado_code', ax=axes[index])\n",
        "      axes[index].set_title(f'Scatter Plot of {col} vs. Index')\n",
        "    else:\n",
        "      change_index=True\n",
        "\n",
        "    # Hide any unused subplots\n",
        "  for j in range(index+1, len(axes)):\n",
        "      axes[j].set_visible(False)\n",
        "\n",
        "  plt.tight_layout()\n",
        "  plt.show()"
      ]
    },
    {
      "cell_type": "markdown",
      "metadata": {
        "id": "iqti5CY01LGN"
      },
      "source": [
        "## Verificação de nulos"
      ]
    },
    {
      "cell_type": "code",
      "execution_count": 59,
      "metadata": {
        "colab": {
          "base_uri": "https://localhost:8080/",
          "height": 1000
        },
        "id": "Uu6q_2v3J9EJ",
        "outputId": "99d28d82-258f-4ef2-f565-5ef5d606e923"
      },
      "outputs": [
        {
          "data": {
            "text/plain": [
              "Chutes a gol 1          1394\n",
              "Chutes a gol 2          1394\n",
              "Impedimentos 1          2496\n",
              "Impedimentos 2          2496\n",
              "Escanteios 1            2097\n",
              "Escanteios 2            2097\n",
              "Chutes fora 1           2095\n",
              "Chutes fora 2           2095\n",
              "Faltas 1                2094\n",
              "Faltas 2                2094\n",
              "Cartões amarelos 1         0\n",
              "Cartões amarelos 2         0\n",
              "Cartões vermelhos 1        0\n",
              "Cartões vermelhos 2        0\n",
              "Cruzamentos 1          16882\n",
              "Cruzamentos 2          16882\n",
              "Laterais 1             11319\n",
              "Laterais 2             11319\n",
              "Chutes bloqueados 1    17019\n",
              "Chutes bloqueados 2    17019\n",
              "Contra-ataques 1       19313\n",
              "Contra-ataques 2       19313\n",
              "Gols 1                     0\n",
              "Gols 2                     0\n",
              "Tiro de meta 1         14078\n",
              "Tiro de meta 2         14078\n",
              "Tratamentos 1          20392\n",
              "Tratamentos 2          20392\n",
              "Substituições 1        16354\n",
              "Substituições 2        16354\n",
              "Tiros-livres 1         19174\n",
              "Tiros-livres 2         19174\n",
              "Defesas difíceis 1     19213\n",
              "Defesas difíceis 2     19213\n",
              "Posse 1(%)              2126\n",
              "Posse 2(%)              2126\n",
              "Time 1                     0\n",
              "Time 2                     0\n",
              "Position 1              1430\n",
              "Position 2              1456\n",
              "dtype: int64"
            ]
          },
          "execution_count": 59,
          "metadata": {},
          "output_type": "execute_result"
        }
      ],
      "source": [
        "# verificando quantidade de nulos em cada coluna\n",
        "dataset.isnull().sum()"
      ]
    },
    {
      "cell_type": "markdown",
      "metadata": {
        "id": "4jRaoeu04Jrv"
      },
      "source": [
        "Foi verificado que há colunas completas (sem nulos) e colunas com mais de 80% de dados nulos (e.g. Tratamentos). Por isso, decidimos manter apenas as colunas que tivesse no mínimo 70% de dados não-nulos."
      ]
    },
    {
      "cell_type": "code",
      "execution_count": 60,
      "metadata": {
        "id": "pFtx54cf23IK"
      },
      "outputs": [],
      "source": [
        "# removendo colunas com menos de 70% dados\n",
        "dataset.dropna(axis='columns', thresh=round(dataset.shape[0]*0.7), inplace=True)"
      ]
    },
    {
      "cell_type": "markdown",
      "metadata": {
        "id": "cuEMItub2k7C"
      },
      "source": [
        "Efetuamos a análise da distribuição dos dados para verificar a melhor estratégia de preenchimente. Verificamos que a maioria segue a distribuição normal, então escolhemos a mediana como método de preenchimento dos valores nulos."
      ]
    },
    {
      "cell_type": "code",
      "execution_count": 61,
      "metadata": {
        "colab": {
          "base_uri": "https://localhost:8080/",
          "height": 1000
        },
        "id": "m7BQb4Mte-iQ",
        "outputId": "b02161f9-9245-4348-e00f-83be5aeeb6dc"
      },
      "outputs": [],
      "source": [
        "if(plot):\n",
        "    num_cols = len(dataset.select_dtypes(include=['number']).columns)\n",
        "    num_rows = (num_cols + 2) // 2\n",
        "\n",
        "    fig, axes = plt.subplots(nrows=num_rows, ncols=3, figsize=(10, 2 * num_rows))\n",
        "    axes = axes.flatten()\n",
        "\n",
        "    for i, col in enumerate(dataset.select_dtypes(include=['number']).columns):\n",
        "        try:\n",
        "            sns.kdeplot(data=dataset, x=col, ax=axes[i], fill=True)\n",
        "            axes[i].set_title(f'Density Plot of {col}')\n",
        "        except Exception as e:\n",
        "            print(f\"Error plotting {col}: {e}\")\n",
        "\n",
        "\n",
        "    for j in range(i + 1, len(axes)):\n",
        "        axes[j].set_visible(False)\n",
        "\n",
        "    plt.tight_layout()\n",
        "    plt.show()\n"
      ]
    },
    {
      "cell_type": "code",
      "execution_count": 62,
      "metadata": {
        "id": "E8poLflS-rhp"
      },
      "outputs": [],
      "source": [
        "import numpy as np\n",
        "\n",
        "#preenchendo os valores numéricos com suas médias\n",
        "dataset.fillna(dataset.median(numeric_only=True), inplace=True)"
      ]
    },
    {
      "cell_type": "code",
      "execution_count": 63,
      "metadata": {
        "colab": {
          "base_uri": "https://localhost:8080/",
          "height": 774
        },
        "id": "pTlBED2gBKoc",
        "outputId": "1b2de3b1-eab0-49c4-d86b-8ffa88b3963d"
      },
      "outputs": [
        {
          "data": {
            "text/plain": [
              "Chutes a gol 1            0\n",
              "Chutes a gol 2            0\n",
              "Impedimentos 1            0\n",
              "Impedimentos 2            0\n",
              "Escanteios 1              0\n",
              "Escanteios 2              0\n",
              "Chutes fora 1             0\n",
              "Chutes fora 2             0\n",
              "Faltas 1                  0\n",
              "Faltas 2                  0\n",
              "Cartões amarelos 1        0\n",
              "Cartões amarelos 2        0\n",
              "Cartões vermelhos 1       0\n",
              "Cartões vermelhos 2       0\n",
              "Gols 1                    0\n",
              "Gols 2                    0\n",
              "Posse 1(%)                0\n",
              "Posse 2(%)                0\n",
              "Time 1                    0\n",
              "Time 2                    0\n",
              "Position 1             1430\n",
              "Position 2             1456\n",
              "dtype: int64"
            ]
          },
          "execution_count": 63,
          "metadata": {},
          "output_type": "execute_result"
        }
      ],
      "source": [
        "# verificando os nulos restantes\n",
        "dataset.isnull().sum()"
      ]
    },
    {
      "cell_type": "markdown",
      "metadata": {
        "id": "QKUFrET2CMA0"
      },
      "source": [
        "Como Position 1 e Position 2 são categóricos e possuem baixa quantidade de números nulos, optamos por preencher com a sua moda, ou seja, com os valores de maior ocorrência."
      ]
    },
    {
      "cell_type": "code",
      "execution_count": 64,
      "metadata": {
        "id": "fwV1FVgcCZm7"
      },
      "outputs": [],
      "source": [
        "#preenchendo os valores numéricos com suas médias\n",
        "dataset[\"Position 1\"] = dataset[\"Position 1\"].fillna(value=dataset[\"Position 1\"].mode()[0])\n",
        "dataset[\"Position 2\"] = dataset[\"Position 2\"].fillna(value=dataset[\"Position 2\"].mode()[0])"
      ]
    },
    {
      "cell_type": "code",
      "execution_count": 65,
      "metadata": {
        "colab": {
          "base_uri": "https://localhost:8080/",
          "height": 774
        },
        "id": "Drus4OpdC3gF",
        "outputId": "75956677-efd1-4daf-f049-206e5441c119"
      },
      "outputs": [
        {
          "data": {
            "text/plain": [
              "Chutes a gol 1         0\n",
              "Chutes a gol 2         0\n",
              "Impedimentos 1         0\n",
              "Impedimentos 2         0\n",
              "Escanteios 1           0\n",
              "Escanteios 2           0\n",
              "Chutes fora 1          0\n",
              "Chutes fora 2          0\n",
              "Faltas 1               0\n",
              "Faltas 2               0\n",
              "Cartões amarelos 1     0\n",
              "Cartões amarelos 2     0\n",
              "Cartões vermelhos 1    0\n",
              "Cartões vermelhos 2    0\n",
              "Gols 1                 0\n",
              "Gols 2                 0\n",
              "Posse 1(%)             0\n",
              "Posse 2(%)             0\n",
              "Time 1                 0\n",
              "Time 2                 0\n",
              "Position 1             0\n",
              "Position 2             0\n",
              "dtype: int64"
            ]
          },
          "execution_count": 65,
          "metadata": {},
          "output_type": "execute_result"
        }
      ],
      "source": [
        "dataset.isna().sum()"
      ]
    },
    {
      "cell_type": "markdown",
      "metadata": {
        "id": "8gyy16NO1knK"
      },
      "source": [
        "## Criando coluna target"
      ]
    },
    {
      "cell_type": "markdown",
      "metadata": {
        "id": "mDgGwynj6SbP"
      },
      "source": [
        "Como o objetivo é construir um preditor de vitória, adicionamos ao dataset uma coluna para representar o resultado final do jogo. Ela compara a colunas Gols 1 e Gols 2, definindo se o Time 1 ganhou (1) ou não (0)."
      ]
    },
    {
      "cell_type": "code",
      "execution_count": 66,
      "metadata": {
        "id": "PX3LucHx1gCV"
      },
      "outputs": [],
      "source": [
        "dataset['Resultado Time 1'] = dataset.apply(lambda row: '1' if row['Gols 1'] > row['Gols 2'] else '0', axis=1)"
      ]
    },
    {
      "cell_type": "markdown",
      "metadata": {
        "id": "rS50ZpAI61S4"
      },
      "source": [
        "## Codificação"
      ]
    },
    {
      "cell_type": "markdown",
      "metadata": {
        "id": "R4I5xoyP66Fl"
      },
      "source": [
        "Como a maioria dos modelos não trabalha bem com dados categóricos, verificamos os tipos dos dados e convertemos para códigos aqueles não eram numéricos."
      ]
    },
    {
      "cell_type": "code",
      "execution_count": 67,
      "metadata": {
        "colab": {
          "base_uri": "https://localhost:8080/",
          "height": 805
        },
        "id": "l6Hd86on1x2h",
        "outputId": "f1f4c411-201a-49f0-c298-a8f9c38967cc"
      },
      "outputs": [
        {
          "data": {
            "text/plain": [
              "Chutes a gol 1         float64\n",
              "Chutes a gol 2         float64\n",
              "Impedimentos 1         float64\n",
              "Impedimentos 2         float64\n",
              "Escanteios 1           float64\n",
              "Escanteios 2           float64\n",
              "Chutes fora 1          float64\n",
              "Chutes fora 2          float64\n",
              "Faltas 1               float64\n",
              "Faltas 2               float64\n",
              "Cartões amarelos 1     float64\n",
              "Cartões amarelos 2     float64\n",
              "Cartões vermelhos 1    float64\n",
              "Cartões vermelhos 2    float64\n",
              "Gols 1                 float64\n",
              "Gols 2                 float64\n",
              "Posse 1(%)             float64\n",
              "Posse 2(%)             float64\n",
              "Time 1                  object\n",
              "Time 2                  object\n",
              "Position 1              object\n",
              "Position 2              object\n",
              "Resultado Time 1        object\n",
              "dtype: object"
            ]
          },
          "execution_count": 67,
          "metadata": {},
          "output_type": "execute_result"
        }
      ],
      "source": [
        "dataset.dtypes"
      ]
    },
    {
      "cell_type": "code",
      "execution_count": 68,
      "metadata": {
        "id": "Xf2hKSrb14S8"
      },
      "outputs": [],
      "source": [
        "# convertendo dados categoricos para numericos\n",
        "\n",
        "dataset[\"resultado_code\"] = dataset[\"Resultado Time 1\"].astype(\"category\").cat.codes\n",
        "dataset_copy = dataset.copy()\n",
        "\n",
        "dataset[\"position_1_code\"] = dataset[\"Position 1\"].astype(\"category\").cat.codes\n",
        "dataset[\"position_2_code\"] = dataset[\"Position 2\"].astype(\"category\").cat.codes\n",
        "dataset[\"time_1_code\"] = dataset[\"Time 1\"].astype(\"category\").cat.codes\n",
        "dataset[\"time_2_code\"] = dataset[\"Time 2\"].astype(\"category\").cat.codes"
      ]
    },
    {
      "cell_type": "code",
      "execution_count": 69,
      "metadata": {
        "id": "sbOKFrCz7Q9I"
      },
      "outputs": [],
      "source": [
        "# removendo as colunas convertidas\n",
        "\n",
        "dataset.drop([\"Resultado Time 1\",\"Position 1\", \"Position 2\", \"Time 1\", \"Time 2\", \"Gols 1\", \"Gols 2\"], axis=1, inplace=True)"
      ]
    },
    {
      "cell_type": "markdown",
      "metadata": {
        "id": "jYVkcxW41VUf"
      },
      "source": [
        "# Analisando correlação e EDA"
      ]
    },
    {
      "cell_type": "markdown",
      "metadata": {
        "id": "JPxYU8GM3J-_"
      },
      "source": [
        "### Pearson"
      ]
    },
    {
      "cell_type": "markdown",
      "metadata": {
        "id": "qzGAXqGP8sYk"
      },
      "source": [
        "A principio tentamos analisar a correlação linear dos dados, mas não encontramos correlação forte com a nossa target. Apesar disso, foi possível notar que as variáveis de Posse têm correlação forte entre si, o que era esperado intuitivamente. Isso significa que não precisamos considerar ambas no modelo."
      ]
    },
    {
      "cell_type": "code",
      "execution_count": 70,
      "metadata": {
        "colab": {
          "base_uri": "https://localhost:8080/",
          "height": 360
        },
        "id": "WSN2n-Yu3JIx",
        "outputId": "9da5bd8c-1483-404f-c0de-717df1791005"
      },
      "outputs": [],
      "source": [
        "import pandas as pd\n",
        "import seaborn as sns\n",
        "import matplotlib.pyplot as plt\n",
        "if(plot):\n",
        "    corr = dataset.corr(numeric_only=True)\n",
        "\n",
        "    plt.figure(figsize=(36, 8))\n",
        "    sns.heatmap(corr, annot=True, cmap='coolwarm', fmt=\".2f\", linewidths=0.5)\n",
        "    plt.title(\"Correlation Matrix\")\n",
        "    plt.show()"
      ]
    },
    {
      "cell_type": "markdown",
      "metadata": {
        "id": "UEICA23t2OIt"
      },
      "source": [
        "### ANOVA"
      ]
    },
    {
      "cell_type": "markdown",
      "metadata": {
        "id": "Zdn9iLEf9kd9"
      },
      "source": [
        "Com ANOVA, verificamos a correlação entre as duas classes targets \"ganhou\" e \"perdeu\", para garantir que não havia redudância. Essa análise compara todas as features das classes para identificar similaridades. Como o p-value de algumas das comparações foi maior que 0.05, pudemos notar uma possível similaridade em algumas features."
      ]
    },
    {
      "cell_type": "code",
      "execution_count": 71,
      "metadata": {
        "colab": {
          "base_uri": "https://localhost:8080/"
        },
        "id": "T0DNJM9Z7_g0",
        "outputId": "ead43e31-25c9-43ce-c40a-45b1a59c2d55"
      },
      "outputs": [
        {
          "name": "stdout",
          "output_type": "stream",
          "text": [
            "Apresentam similaridade em: Escanteios 2 | p-value: 0.3166542529171838\n",
            "Apresentam similaridade em: Chutes fora 2 | p-value: 0.07430119317834565\n",
            "Apresentam similaridade em: position_1_code | p-value: 0.07511587321226791\n",
            "Apresentam similaridade em: time_2_code | p-value: 0.2275817307271391\n"
          ]
        },
        {
          "name": "stderr",
          "output_type": "stream",
          "text": [
            "/home/abraaopc/Documents/projects/PS-2025.1_tango/venv1/lib/python3.10/site-packages/scipy/stats/_axis_nan_policy.py:586: ConstantInputWarning: Each of the input arrays is constant; the F statistic is not defined or infinite\n",
            "  res = hypotest_fun_out(*samples, **kwds)\n"
          ]
        }
      ],
      "source": [
        "import seaborn as sn\n",
        "from scipy.stats import f_oneway\n",
        "\n",
        "features = [col for  _, col in enumerate(dataset.select_dtypes(include=['number']).columns)]\n",
        "similarEmAlguma = False\n",
        "\n",
        "for i in features:\n",
        "  ganhou = dataset.loc[dataset['resultado_code'] == 1][i]\n",
        "  perdeu = dataset.loc[dataset['resultado_code'] == 0][i]\n",
        "\n",
        "  _, p_value = f_oneway(perdeu, ganhou)\n",
        "\n",
        "  apresentaSimilaridade = p_value > 0.05\n",
        "  if(apresentaSimilaridade):\n",
        "    similarEmAlguma=True\n",
        "    print(\"Apresentam similaridade em:\", i, \"| p-value:\", p_value)\n",
        "\n",
        "\n",
        "if(similarEmAlguma==False):\n",
        "  print(\"Não apresentam similaridade\")\n"
      ]
    },
    {
      "cell_type": "markdown",
      "metadata": {
        "id": "LTB_zHco50GL"
      },
      "source": [
        "Para verificar as similaridades apontadas pelo ANOVA, plotamos a distribuição de todas as features das duas classes para uma análise visual das semelhanças. Notamos que no geral as duas classes são distribuídas de forma bem similar."
      ]
    },
    {
      "cell_type": "code",
      "execution_count": 72,
      "metadata": {
        "colab": {
          "base_uri": "https://localhost:8080/",
          "height": 846
        },
        "id": "kIKf6fbr55h1",
        "outputId": "7e00d1aa-948b-4543-e63e-d20f9cc0ec1f"
      },
      "outputs": [],
      "source": [
        "import matplotlib.pyplot as plt\n",
        "\n",
        "if ( plot ):\n",
        "    fig, axes = plt.subplots(2, 1, figsize=(15, 10))\n",
        "\n",
        "    # Plot 1\n",
        "\n",
        "    dataset.loc[dataset['resultado_code'] == 1].plot.hist(bins=30, alpha=0.5, ax=axes[0])\n",
        "    axes[0].set_title('Distribuição Vitórias')\n",
        "\n",
        "    # Plot 2\n",
        "    dataset.loc[dataset['resultado_code'] == 0].plot.hist(bins=30, alpha=0.5, ax=axes[1])\n",
        "    axes[1].set_title('Distribuição Derrotas e Empates')\n",
        "\n"
      ]
    },
    {
      "cell_type": "markdown",
      "metadata": {
        "id": "mp_SecAH4_RW"
      },
      "source": [
        "Analisamos a feature de posição para verificar sua influência no resultado da partida. Os plots mostraram que não há diferencia significativa entre as posições usadas na derrota e na vitória. Apesar da posição 4-3-2-1 aparecer com predominância, ela é a mais jogada por ambos os times, aparecendo bastante na derrota e na vitória."
      ]
    },
    {
      "cell_type": "code",
      "execution_count": 73,
      "metadata": {
        "colab": {
          "base_uri": "https://localhost:8080/",
          "height": 757
        },
        "id": "znndeA3O4M2z",
        "outputId": "2f13addd-4e41-45a9-832e-3373d35f8e5b"
      },
      "outputs": [
        {
          "data": {
            "image/png": "[encoded data removed]",
            "text/plain": [
              "<Figure size 1500x1000 with 4 Axes>"
            ]
          },
          "metadata": {},
          "output_type": "display_data"
        }
      ],
      "source": [
        "import matplotlib.pyplot as plt\n",
        "fig, axes = plt.subplots(2, 2, figsize=(15, 10))\n",
        "if ( plot ):\n",
        "\n",
        "    # Plot 1\n",
        "    dataset_copy.loc[dataset_copy['resultado_code'] == 0].groupby(\"Position 1\").size().plot.bar(ax=axes[0,0])\n",
        "    axes[0,0].set_title('Position 1 Distribution (resultado_code == 0)')\n",
        "\n",
        "    # Plot 2\n",
        "    dataset_copy.loc[dataset_copy['resultado_code'] == 1].groupby(\"Position 1\").size().plot.bar(ax=axes[0,1])\n",
        "    axes[0,1].set_title('Position 1 Distribution (resultado_code == 1)')\n",
        "\n",
        "    # Plot 3\n",
        "    dataset_copy.loc[dataset_copy['resultado_code'] == 0].groupby(\"Position 2\").size().plot.bar(ax=axes[1,0])\n",
        "    axes[1,0].set_title('Position 2 Distribution (resultado_code == 0)')\n",
        "\n",
        "    #Plot 4\n",
        "    dataset_copy.loc[dataset_copy['resultado_code'] == 1].groupby(\"Position 2\").size().plot.bar(ax=axes[1,1])\n",
        "    axes[1,1].set_title('Position 2 Distribution (resultado_code == 1)')\n",
        "\n",
        "    plt.tight_layout()\n",
        "    plt.show()\n"
      ]
    },
    {
      "cell_type": "markdown",
      "metadata": {
        "id": "-x3XJsH129kl"
      },
      "source": [
        "### Plot de cada feature com a target"
      ]
    },
    {
      "cell_type": "markdown",
      "metadata": {
        "id": "mrdIQb0LLKEN"
      },
      "source": [
        "Nesse plot de dispersão, pudemos ver quais features ajudam a separar melhor as duas classes. E podemos eliminar as que não trazem nenhuma separação."
      ]
    },
    {
      "cell_type": "code",
      "execution_count": 74,
      "metadata": {
        "colab": {
          "base_uri": "https://localhost:8080/",
          "height": 1000
        },
        "id": "PscNngeXHH1x",
        "outputId": "73b0b36b-7c0f-4ea3-c37e-6e04f53e6bc8"
      },
      "outputs": [],
      "source": [
        "if ( plot ):\n",
        "\n",
        "  num_cols = len(dataset.select_dtypes(include=['number']).columns)\n",
        "  num_rows = (num_cols + 1) // 2\n",
        "  fig, axes = plt.subplots(nrows=num_rows, ncols=2, figsize=(12, 3 * num_rows))\n",
        "  axes = axes.flatten()\n",
        "  change_index = False\n",
        "\n",
        "  for i, col in enumerate(dataset.select_dtypes(include=['number']).columns):\n",
        "    index = i\n",
        "    if change_index:\n",
        "      index = i - 1\n",
        "\n",
        "    if col != 'resultado_code':\n",
        "      sns.scatterplot(data=dataset, x=dataset.index, y=col, hue='resultado_code', ax=axes[index], alpha=0.3)\n",
        "      axes[index].set_title(f'Scatter Plot of {col} vs. Index')\n",
        "    else:\n",
        "      change_index=True\n",
        "\n",
        "  for j in range(index+1, len(axes)):\n",
        "      axes[j].set_visible(False)\n",
        "\n",
        "  plt.tight_layout()\n",
        "  plt.show()\n"
      ]
    },
    {
      "cell_type": "markdown",
      "metadata": {
        "id": "YIYElksI3PGM"
      },
      "source": [
        "# Aplicando Random Forest"
      ]
    },
    {
      "cell_type": "markdown",
      "metadata": {
        "id": "isGdn6kPLW5T"
      },
      "source": [
        "Antes de treinar o modelo, verificamos o balanceamento das classes. Observamos que há uma quantidade menor de vitórias. Para evitar que isso causasse um viés para não-vitórias, resolvemos balancear os dados efetuando uma diminuição nos dados excedentes para igualar com a quantidade da menor classe."
      ]
    },
    {
      "cell_type": "code",
      "execution_count": 75,
      "metadata": {
        "colab": {
          "base_uri": "https://localhost:8080/",
          "height": 178
        },
        "id": "M-9IMaW4VuUt",
        "outputId": "4a1d5e1c-16a0-4546-a8ee-4199dbb2bc27"
      },
      "outputs": [
        {
          "data": {
            "text/plain": [
              "resultado_code\n",
              "0    13664\n",
              "1    11159\n",
              "dtype: int64"
            ]
          },
          "execution_count": 75,
          "metadata": {},
          "output_type": "execute_result"
        }
      ],
      "source": [
        "dataset.groupby('resultado_code').size()"
      ]
    },
    {
      "cell_type": "code",
      "execution_count": 76,
      "metadata": {
        "id": "vutnukYhVkeC"
      },
      "outputs": [],
      "source": [
        "count_per_class = dataset.groupby('resultado_code').size()\n",
        "\n",
        "#usa a menor classe como limitante\n",
        "samples_threshold = min(count_per_class)\n",
        "\n",
        "for classe, count in count_per_class.items():\n",
        "    while count > samples_threshold:\n",
        "        # Pega índices das linhas no grupo 'classe' até atingir o threshold\n",
        "        exceding_samples = dataset[dataset['resultado_code'] == classe].sample(n=count - samples_threshold).index\n",
        "\n",
        "        # Faça o drop das linhas excedentes\n",
        "        dataset = dataset.drop(exceding_samples)\n",
        "\n",
        "        # Atualize a contagem para o grupo 'classe'\n",
        "        count = len(dataset[dataset['resultado_code'] == classe])"
      ]
    },
    {
      "cell_type": "code",
      "execution_count": 77,
      "metadata": {
        "colab": {
          "base_uri": "https://localhost:8080/",
          "height": 178
        },
        "id": "LGukPqwhYZww",
        "outputId": "98923d4a-5e9e-454a-a219-8911259a73bd"
      },
      "outputs": [
        {
          "data": {
            "text/plain": [
              "resultado_code\n",
              "0    11159\n",
              "1    11159\n",
              "dtype: int64"
            ]
          },
          "execution_count": 77,
          "metadata": {},
          "output_type": "execute_result"
        }
      ],
      "source": [
        "dataset.groupby('resultado_code').size()"
      ]
    },
    {
      "cell_type": "markdown",
      "metadata": {
        "id": "uhCVbzWZMJSK"
      },
      "source": [
        "Como modelo de classificação escolhemos o RandomForest, pois funciona bem para a maioria dos casos de classificação binária. Antes de rodar o modelo, selecionamos as features de acordo com as análises anteriores."
      ]
    },
    {
      "cell_type": "code",
      "execution_count": 78,
      "metadata": {
        "id": "semTlHhkMcGC"
      },
      "outputs": [],
      "source": [
        "features_redundantes = [\"Posse 2(%)\"] # definida por pearson\n",
        "features_com_baixa_corr = [\"Escanteios 2\", \"time_2_code\"] # definida pela ANOVA\n",
        "features_baixa_separacao = [\"Cartões vermelhos 1\", \"Cartões vermelhos 2\", \"position_2_code\"] # grafico de dispersao e histograma\n",
        "target = [\"resultado_code\"]\n",
        "\n",
        "colunas_eliminadas = features_redundantes + features_com_baixa_corr + features_baixa_separacao + target"
      ]
    },
    {
      "cell_type": "code",
      "execution_count": 79,
      "metadata": {
        "colab": {
          "base_uri": "https://localhost:8080/",
          "height": 97
        },
        "id": "Fjgvhjo_rDPW",
        "outputId": "80468e00-d5e8-4dcd-a161-4d7c73b49a6c"
      },
      "outputs": [
        {
          "data": {
            "text/html": [
              "<style>#sk-container-id-2 {\n",
              "  /* Definition of color scheme common for light and dark mode */\n",
              "  --sklearn-color-text: #000;\n",
              "  --sklearn-color-text-muted: #666;\n",
              "  --sklearn-color-line: gray;\n",
              "  /* Definition of color scheme for unfitted estimators */\n",
              "  --sklearn-color-unfitted-level-0: #fff5e6;\n",
              "  --sklearn-color-unfitted-level-1: #f6e4d2;\n",
              "  --sklearn-color-unfitted-level-2: #ffe0b3;\n",
              "  --sklearn-color-unfitted-level-3: chocolate;\n",
              "  /* Definition of color scheme for fitted estimators */\n",
              "  --sklearn-color-fitted-level-0: #f0f8ff;\n",
              "  --sklearn-color-fitted-level-1: #d4ebff;\n",
              "  --sklearn-color-fitted-level-2: #b3dbfd;\n",
              "  --sklearn-color-fitted-level-3: cornflowerblue;\n",
              "\n",
              "  /* Specific color for light theme */\n",
              "  --sklearn-color-text-on-default-background: var(--sg-text-color, var(--theme-code-foreground, var(--jp-content-font-color1, black)));\n",
              "  --sklearn-color-background: var(--sg-background-color, var(--theme-background, var(--jp-layout-color0, white)));\n",
              "  --sklearn-color-border-box: var(--sg-text-color, var(--theme-code-foreground, var(--jp-content-font-color1, black)));\n",
              "  --sklearn-color-icon: #696969;\n",
              "\n",
              "  @media (prefers-color-scheme: dark) {\n",
              "    /* Redefinition of color scheme for dark theme */\n",
              "    --sklearn-color-text-on-default-background: var(--sg-text-color, var(--theme-code-foreground, var(--jp-content-font-color1, white)));\n",
              "    --sklearn-color-background: var(--sg-background-color, var(--theme-background, var(--jp-layout-color0, #111)));\n",
              "    --sklearn-color-border-box: var(--sg-text-color, var(--theme-code-foreground, var(--jp-content-font-color1, white)));\n",
              "    --sklearn-color-icon: #878787;\n",
              "  }\n",
              "}\n",
              "\n",
              "#sk-container-id-2 {\n",
              "  color: var(--sklearn-color-text);\n",
              "}\n",
              "\n",
              "#sk-container-id-2 pre {\n",
              "  padding: 0;\n",
              "}\n",
              "\n",
              "#sk-container-id-2 input.sk-hidden--visually {\n",
              "  border: 0;\n",
              "  clip: rect(1px 1px 1px 1px);\n",
              "  clip: rect(1px, 1px, 1px, 1px);\n",
              "  height: 1px;\n",
              "  margin: -1px;\n",
              "  overflow: hidden;\n",
              "  padding: 0;\n",
              "  position: absolute;\n",
              "  width: 1px;\n",
              "}\n",
              "\n",
              "#sk-container-id-2 div.sk-dashed-wrapped {\n",
              "  border: 1px dashed var(--sklearn-color-line);\n",
              "  margin: 0 0.4em 0.5em 0.4em;\n",
              "  box-sizing: border-box;\n",
              "  padding-bottom: 0.4em;\n",
              "  background-color: var(--sklearn-color-background);\n",
              "}\n",
              "\n",
              "#sk-container-id-2 div.sk-container {\n",
              "  /* jupyter's `normalize.less` sets `[hidden] { display: none; }`\n",
              "     but bootstrap.min.css set `[hidden] { display: none !important; }`\n",
              "     so we also need the `!important` here to be able to override the\n",
              "     default hidden behavior on the sphinx rendered scikit-learn.org.\n",
              "     See: https://github.com/scikit-learn/scikit-learn/issues/21755 */\n",
              "  display: inline-block !important;\n",
              "  position: relative;\n",
              "}\n",
              "\n",
              "#sk-container-id-2 div.sk-text-repr-fallback {\n",
              "  display: none;\n",
              "}\n",
              "\n",
              "div.sk-parallel-item,\n",
              "div.sk-serial,\n",
              "div.sk-item {\n",
              "  /* draw centered vertical line to link estimators */\n",
              "  background-image: linear-gradient(var(--sklearn-color-text-on-default-background), var(--sklearn-color-text-on-default-background));\n",
              "  background-size: 2px 100%;\n",
              "  background-repeat: no-repeat;\n",
              "  background-position: center center;\n",
              "}\n",
              "\n",
              "/* Parallel-specific style estimator block */\n",
              "\n",
              "#sk-container-id-2 div.sk-parallel-item::after {\n",
              "  content: \"\";\n",
              "  width: 100%;\n",
              "  border-bottom: 2px solid var(--sklearn-color-text-on-default-background);\n",
              "  flex-grow: 1;\n",
              "}\n",
              "\n",
              "#sk-container-id-2 div.sk-parallel {\n",
              "  display: flex;\n",
              "  align-items: stretch;\n",
              "  justify-content: center;\n",
              "  background-color: var(--sklearn-color-background);\n",
              "  position: relative;\n",
              "}\n",
              "\n",
              "#sk-container-id-2 div.sk-parallel-item {\n",
              "  display: flex;\n",
              "  flex-direction: column;\n",
              "}\n",
              "\n",
              "#sk-container-id-2 div.sk-parallel-item:first-child::after {\n",
              "  align-self: flex-end;\n",
              "  width: 50%;\n",
              "}\n",
              "\n",
              "#sk-container-id-2 div.sk-parallel-item:last-child::after {\n",
              "  align-self: flex-start;\n",
              "  width: 50%;\n",
              "}\n",
              "\n",
              "#sk-container-id-2 div.sk-parallel-item:only-child::after {\n",
              "  width: 0;\n",
              "}\n",
              "\n",
              "/* Serial-specific style estimator block */\n",
              "\n",
              "#sk-container-id-2 div.sk-serial {\n",
              "  display: flex;\n",
              "  flex-direction: column;\n",
              "  align-items: center;\n",
              "  background-color: var(--sklearn-color-background);\n",
              "  padding-right: 1em;\n",
              "  padding-left: 1em;\n",
              "}\n",
              "\n",
              "\n",
              "/* Toggleable style: style used for estimator/Pipeline/ColumnTransformer box that is\n",
              "clickable and can be expanded/collapsed.\n",
              "- Pipeline and ColumnTransformer use this feature and define the default style\n",
              "- Estimators will overwrite some part of the style using the `sk-estimator` class\n",
              "*/\n",
              "\n",
              "/* Pipeline and ColumnTransformer style (default) */\n",
              "\n",
              "#sk-container-id-2 div.sk-toggleable {\n",
              "  /* Default theme specific background. It is overwritten whether we have a\n",
              "  specific estimator or a Pipeline/ColumnTransformer */\n",
              "  background-color: var(--sklearn-color-background);\n",
              "}\n",
              "\n",
              "/* Toggleable label */\n",
              "#sk-container-id-2 label.sk-toggleable__label {\n",
              "  cursor: pointer;\n",
              "  display: flex;\n",
              "  width: 100%;\n",
              "  margin-bottom: 0;\n",
              "  padding: 0.5em;\n",
              "  box-sizing: border-box;\n",
              "  text-align: center;\n",
              "  align-items: start;\n",
              "  justify-content: space-between;\n",
              "  gap: 0.5em;\n",
              "}\n",
              "\n",
              "#sk-container-id-2 label.sk-toggleable__label .caption {\n",
              "  font-size: 0.6rem;\n",
              "  font-weight: lighter;\n",
              "  color: var(--sklearn-color-text-muted);\n",
              "}\n",
              "\n",
              "#sk-container-id-2 label.sk-toggleable__label-arrow:before {\n",
              "  /* Arrow on the left of the label */\n",
              "  content: \"▸\";\n",
              "  float: left;\n",
              "  margin-right: 0.25em;\n",
              "  color: var(--sklearn-color-icon);\n",
              "}\n",
              "\n",
              "#sk-container-id-2 label.sk-toggleable__label-arrow:hover:before {\n",
              "  color: var(--sklearn-color-text);\n",
              "}\n",
              "\n",
              "/* Toggleable content - dropdown */\n",
              "\n",
              "#sk-container-id-2 div.sk-toggleable__content {\n",
              "  max-height: 0;\n",
              "  max-width: 0;\n",
              "  overflow: hidden;\n",
              "  text-align: left;\n",
              "  /* unfitted */\n",
              "  background-color: var(--sklearn-color-unfitted-level-0);\n",
              "}\n",
              "\n",
              "#sk-container-id-2 div.sk-toggleable__content.fitted {\n",
              "  /* fitted */\n",
              "  background-color: var(--sklearn-color-fitted-level-0);\n",
              "}\n",
              "\n",
              "#sk-container-id-2 div.sk-toggleable__content pre {\n",
              "  margin: 0.2em;\n",
              "  border-radius: 0.25em;\n",
              "  color: var(--sklearn-color-text);\n",
              "  /* unfitted */\n",
              "  background-color: var(--sklearn-color-unfitted-level-0);\n",
              "}\n",
              "\n",
              "#sk-container-id-2 div.sk-toggleable__content.fitted pre {\n",
              "  /* unfitted */\n",
              "  background-color: var(--sklearn-color-fitted-level-0);\n",
              "}\n",
              "\n",
              "#sk-container-id-2 input.sk-toggleable__control:checked~div.sk-toggleable__content {\n",
              "  /* Expand drop-down */\n",
              "  max-height: 200px;\n",
              "  max-width: 100%;\n",
              "  overflow: auto;\n",
              "}\n",
              "\n",
              "#sk-container-id-2 input.sk-toggleable__control:checked~label.sk-toggleable__label-arrow:before {\n",
              "  content: \"▾\";\n",
              "}\n",
              "\n",
              "/* Pipeline/ColumnTransformer-specific style */\n",
              "\n",
              "#sk-container-id-2 div.sk-label input.sk-toggleable__control:checked~label.sk-toggleable__label {\n",
              "  color: var(--sklearn-color-text);\n",
              "  background-color: var(--sklearn-color-unfitted-level-2);\n",
              "}\n",
              "\n",
              "#sk-container-id-2 div.sk-label.fitted input.sk-toggleable__control:checked~label.sk-toggleable__label {\n",
              "  background-color: var(--sklearn-color-fitted-level-2);\n",
              "}\n",
              "\n",
              "/* Estimator-specific style */\n",
              "\n",
              "/* Colorize estimator box */\n",
              "#sk-container-id-2 div.sk-estimator input.sk-toggleable__control:checked~label.sk-toggleable__label {\n",
              "  /* unfitted */\n",
              "  background-color: var(--sklearn-color-unfitted-level-2);\n",
              "}\n",
              "\n",
              "#sk-container-id-2 div.sk-estimator.fitted input.sk-toggleable__control:checked~label.sk-toggleable__label {\n",
              "  /* fitted */\n",
              "  background-color: var(--sklearn-color-fitted-level-2);\n",
              "}\n",
              "\n",
              "#sk-container-id-2 div.sk-label label.sk-toggleable__label,\n",
              "#sk-container-id-2 div.sk-label label {\n",
              "  /* The background is the default theme color */\n",
              "  color: var(--sklearn-color-text-on-default-background);\n",
              "}\n",
              "\n",
              "/* On hover, darken the color of the background */\n",
              "#sk-container-id-2 div.sk-label:hover label.sk-toggleable__label {\n",
              "  color: var(--sklearn-color-text);\n",
              "  background-color: var(--sklearn-color-unfitted-level-2);\n",
              "}\n",
              "\n",
              "/* Label box, darken color on hover, fitted */\n",
              "#sk-container-id-2 div.sk-label.fitted:hover label.sk-toggleable__label.fitted {\n",
              "  color: var(--sklearn-color-text);\n",
              "  background-color: var(--sklearn-color-fitted-level-2);\n",
              "}\n",
              "\n",
              "/* Estimator label */\n",
              "\n",
              "#sk-container-id-2 div.sk-label label {\n",
              "  font-family: monospace;\n",
              "  font-weight: bold;\n",
              "  display: inline-block;\n",
              "  line-height: 1.2em;\n",
              "}\n",
              "\n",
              "#sk-container-id-2 div.sk-label-container {\n",
              "  text-align: center;\n",
              "}\n",
              "\n",
              "/* Estimator-specific */\n",
              "#sk-container-id-2 div.sk-estimator {\n",
              "  font-family: monospace;\n",
              "  border: 1px dotted var(--sklearn-color-border-box);\n",
              "  border-radius: 0.25em;\n",
              "  box-sizing: border-box;\n",
              "  margin-bottom: 0.5em;\n",
              "  /* unfitted */\n",
              "  background-color: var(--sklearn-color-unfitted-level-0);\n",
              "}\n",
              "\n",
              "#sk-container-id-2 div.sk-estimator.fitted {\n",
              "  /* fitted */\n",
              "  background-color: var(--sklearn-color-fitted-level-0);\n",
              "}\n",
              "\n",
              "/* on hover */\n",
              "#sk-container-id-2 div.sk-estimator:hover {\n",
              "  /* unfitted */\n",
              "  background-color: var(--sklearn-color-unfitted-level-2);\n",
              "}\n",
              "\n",
              "#sk-container-id-2 div.sk-estimator.fitted:hover {\n",
              "  /* fitted */\n",
              "  background-color: var(--sklearn-color-fitted-level-2);\n",
              "}\n",
              "\n",
              "/* Specification for estimator info (e.g. \"i\" and \"?\") */\n",
              "\n",
              "/* Common style for \"i\" and \"?\" */\n",
              "\n",
              ".sk-estimator-doc-link,\n",
              "a:link.sk-estimator-doc-link,\n",
              "a:visited.sk-estimator-doc-link {\n",
              "  float: right;\n",
              "  font-size: smaller;\n",
              "  line-height: 1em;\n",
              "  font-family: monospace;\n",
              "  background-color: var(--sklearn-color-background);\n",
              "  border-radius: 1em;\n",
              "  height: 1em;\n",
              "  width: 1em;\n",
              "  text-decoration: none !important;\n",
              "  margin-left: 0.5em;\n",
              "  text-align: center;\n",
              "  /* unfitted */\n",
              "  border: var(--sklearn-color-unfitted-level-1) 1pt solid;\n",
              "  color: var(--sklearn-color-unfitted-level-1);\n",
              "}\n",
              "\n",
              ".sk-estimator-doc-link.fitted,\n",
              "a:link.sk-estimator-doc-link.fitted,\n",
              "a:visited.sk-estimator-doc-link.fitted {\n",
              "  /* fitted */\n",
              "  border: var(--sklearn-color-fitted-level-1) 1pt solid;\n",
              "  color: var(--sklearn-color-fitted-level-1);\n",
              "}\n",
              "\n",
              "/* On hover */\n",
              "div.sk-estimator:hover .sk-estimator-doc-link:hover,\n",
              ".sk-estimator-doc-link:hover,\n",
              "div.sk-label-container:hover .sk-estimator-doc-link:hover,\n",
              ".sk-estimator-doc-link:hover {\n",
              "  /* unfitted */\n",
              "  background-color: var(--sklearn-color-unfitted-level-3);\n",
              "  color: var(--sklearn-color-background);\n",
              "  text-decoration: none;\n",
              "}\n",
              "\n",
              "div.sk-estimator.fitted:hover .sk-estimator-doc-link.fitted:hover,\n",
              ".sk-estimator-doc-link.fitted:hover,\n",
              "div.sk-label-container:hover .sk-estimator-doc-link.fitted:hover,\n",
              ".sk-estimator-doc-link.fitted:hover {\n",
              "  /* fitted */\n",
              "  background-color: var(--sklearn-color-fitted-level-3);\n",
              "  color: var(--sklearn-color-background);\n",
              "  text-decoration: none;\n",
              "}\n",
              "\n",
              "/* Span, style for the box shown on hovering the info icon */\n",
              ".sk-estimator-doc-link span {\n",
              "  display: none;\n",
              "  z-index: 9999;\n",
              "  position: relative;\n",
              "  font-weight: normal;\n",
              "  right: .2ex;\n",
              "  padding: .5ex;\n",
              "  margin: .5ex;\n",
              "  width: min-content;\n",
              "  min-width: 20ex;\n",
              "  max-width: 50ex;\n",
              "  color: var(--sklearn-color-text);\n",
              "  box-shadow: 2pt 2pt 4pt #999;\n",
              "  /* unfitted */\n",
              "  background: var(--sklearn-color-unfitted-level-0);\n",
              "  border: .5pt solid var(--sklearn-color-unfitted-level-3);\n",
              "}\n",
              "\n",
              ".sk-estimator-doc-link.fitted span {\n",
              "  /* fitted */\n",
              "  background: var(--sklearn-color-fitted-level-0);\n",
              "  border: var(--sklearn-color-fitted-level-3);\n",
              "}\n",
              "\n",
              ".sk-estimator-doc-link:hover span {\n",
              "  display: block;\n",
              "}\n",
              "\n",
              "/* \"?\"-specific style due to the `<a>` HTML tag */\n",
              "\n",
              "#sk-container-id-2 a.estimator_doc_link {\n",
              "  float: right;\n",
              "  font-size: 1rem;\n",
              "  line-height: 1em;\n",
              "  font-family: monospace;\n",
              "  background-color: var(--sklearn-color-background);\n",
              "  border-radius: 1rem;\n",
              "  height: 1rem;\n",
              "  width: 1rem;\n",
              "  text-decoration: none;\n",
              "  /* unfitted */\n",
              "  color: var(--sklearn-color-unfitted-level-1);\n",
              "  border: var(--sklearn-color-unfitted-level-1) 1pt solid;\n",
              "}\n",
              "\n",
              "#sk-container-id-2 a.estimator_doc_link.fitted {\n",
              "  /* fitted */\n",
              "  border: var(--sklearn-color-fitted-level-1) 1pt solid;\n",
              "  color: var(--sklearn-color-fitted-level-1);\n",
              "}\n",
              "\n",
              "/* On hover */\n",
              "#sk-container-id-2 a.estimator_doc_link:hover {\n",
              "  /* unfitted */\n",
              "  background-color: var(--sklearn-color-unfitted-level-3);\n",
              "  color: var(--sklearn-color-background);\n",
              "  text-decoration: none;\n",
              "}\n",
              "\n",
              "#sk-container-id-2 a.estimator_doc_link.fitted:hover {\n",
              "  /* fitted */\n",
              "  background-color: var(--sklearn-color-fitted-level-3);\n",
              "}\n",
              "</style><div id=\"sk-container-id-2\" class=\"sk-top-container\"><div class=\"sk-text-repr-fallback\"><pre>RandomForestClassifier(class_weight=&#x27;balanced&#x27;, min_samples_split=10,\n",
              "                       random_state=1)</pre><b>In a Jupyter environment, please rerun this cell to show the HTML representation or trust the notebook. <br />On GitHub, the HTML representation is unable to render, please try loading this page with nbviewer.org.</b></div><div class=\"sk-container\" hidden><div class=\"sk-item\"><div class=\"sk-estimator fitted sk-toggleable\"><input class=\"sk-toggleable__control sk-hidden--visually\" id=\"sk-estimator-id-2\" type=\"checkbox\" checked><label for=\"sk-estimator-id-2\" class=\"sk-toggleable__label fitted sk-toggleable__label-arrow\"><div><div>RandomForestClassifier</div></div><div><a class=\"sk-estimator-doc-link fitted\" rel=\"noreferrer\" target=\"_blank\" href=\"https://scikit-learn.org/1.6/modules/generated/sklearn.ensemble.RandomForestClassifier.html\">?<span>Documentation for RandomForestClassifier</span></a><span class=\"sk-estimator-doc-link fitted\">i<span>Fitted</span></span></div></label><div class=\"sk-toggleable__content fitted\"><pre>RandomForestClassifier(class_weight=&#x27;balanced&#x27;, min_samples_split=10,\n",
              "                       random_state=1)</pre></div> </div></div></div></div>"
            ],
            "text/plain": [
              "RandomForestClassifier(class_weight='balanced', min_samples_split=10,\n",
              "                       random_state=1)"
            ]
          },
          "execution_count": 79,
          "metadata": {},
          "output_type": "execute_result"
        }
      ],
      "source": [
        "from sklearn.ensemble import RandomForestClassifier\n",
        "\n",
        "rf = RandomForestClassifier(n_estimators=100, min_samples_split=10, random_state=1, class_weight=\"balanced\")\n",
        "\n",
        "train=dataset.sample(frac=0.8,random_state=1)\n",
        "X_train = train.drop(colunas_eliminadas, axis=1)\n",
        "Y_train = train[\"resultado_code\"]\n",
        "\n",
        "test=dataset.drop(train.index)\n",
        "\n",
        "rf.fit(X_train,Y_train)\n"
      ]
    },
    {
      "cell_type": "code",
      "execution_count": 80,
      "metadata": {
        "id": "ebjfWM0FsrZW"
      },
      "outputs": [],
      "source": [
        "preds = rf.predict(test.drop(colunas_eliminadas, axis=1))"
      ]
    },
    {
      "cell_type": "markdown",
      "metadata": {
        "id": "l7dDEYm2Mf6w"
      },
      "source": [
        "### Avaliação da acurácia"
      ]
    },
    {
      "cell_type": "markdown",
      "metadata": {
        "id": "rxbqylRcOxpo"
      },
      "source": [
        "Para melhor avaliar a acurácia do modelo, efetuamos testes de cross validation e calculamos a média das acurácias obtidas por cada execução."
      ]
    },
    {
      "cell_type": "code",
      "execution_count": 81,
      "metadata": {
        "colab": {
          "base_uri": "https://localhost:8080/"
        },
        "id": "vgfX7AdfJqV3",
        "outputId": "856c099f-0cc2-446c-c41f-656f62e54591"
      },
      "outputs": [
        {
          "name": "stdout",
          "output_type": "stream",
          "text": [
            "acurácia de cada fold:  [0.68365062 0.70268757 0.68868981 0.7043673  0.69187675 0.68235294\n",
            " 0.71316527 0.68515406 0.71428571 0.69747899]\n",
            "média das acurácias 0.6963709022242716\n"
          ]
        }
      ],
      "source": [
        "from sklearn.model_selection import cross_val_score\n",
        "import numpy as np\n",
        "\n",
        "result_cross = cross_val_score(rf, X_train, Y_train, cv=10)\n",
        "\n",
        "print(\"acurácia de cada fold: \", result_cross)\n",
        "print(\"média das acurácias\", np.mean(result_cross))"
      ]
    },
    {
      "cell_type": "markdown",
      "metadata": {
        "id": "ECu-cDa7PXPZ"
      },
      "source": [
        "Usamos a matriz de confusão para analisar quais classes foram melhor preditas. Concluímos que ambas foram preditas de forma similar, sem viés para alguma em particular."
      ]
    },
    {
      "cell_type": "code",
      "execution_count": 82,
      "metadata": {
        "colab": {
          "base_uri": "https://localhost:8080/",
          "height": 143
        },
        "id": "-3jPWdD-uPlK",
        "outputId": "4b821fb1-bc1f-42be-c86c-2c53b18f9ee7"
      },
      "outputs": [
        {
          "data": {
            "text/html": [
              "<div>\n",
              "<style scoped>\n",
              "    .dataframe tbody tr th:only-of-type {\n",
              "        vertical-align: middle;\n",
              "    }\n",
              "\n",
              "    .dataframe tbody tr th {\n",
              "        vertical-align: top;\n",
              "    }\n",
              "\n",
              "    .dataframe thead th {\n",
              "        text-align: right;\n",
              "    }\n",
              "</style>\n",
              "<table border=\"1\" class=\"dataframe\">\n",
              "  <thead>\n",
              "    <tr style=\"text-align: right;\">\n",
              "      <th>prediction</th>\n",
              "      <th>0</th>\n",
              "      <th>1</th>\n",
              "    </tr>\n",
              "    <tr>\n",
              "      <th>actual</th>\n",
              "      <th></th>\n",
              "      <th></th>\n",
              "    </tr>\n",
              "  </thead>\n",
              "  <tbody>\n",
              "    <tr>\n",
              "      <th>0</th>\n",
              "      <td>1565</td>\n",
              "      <td>640</td>\n",
              "    </tr>\n",
              "    <tr>\n",
              "      <th>1</th>\n",
              "      <td>704</td>\n",
              "      <td>1555</td>\n",
              "    </tr>\n",
              "  </tbody>\n",
              "</table>\n",
              "</div>"
            ],
            "text/plain": [
              "prediction     0     1\n",
              "actual                \n",
              "0           1565   640\n",
              "1            704  1555"
            ]
          },
          "execution_count": 82,
          "metadata": {},
          "output_type": "execute_result"
        }
      ],
      "source": [
        "combined = pd.DataFrame(dict(actual=test[\"resultado_code\"], prediction=preds))\n",
        "\n",
        "pd.crosstab(index=combined[\"actual\"], columns=combined[\"prediction\"])"
      ]
    }
  ],
  "metadata": {
    "colab": {
      "authorship_tag": "ABX9TyNi1ORc9A8qmwTVaBMdYgDw",
      "collapsed_sections": [
        "2KHwEUJX1CKW"
      ],
      "include_colab_link": true,
      "provenance": []
    },
    "kernelspec": {
      "display_name": "Python 3",
      "name": "python3"
    },
    "language_info": {
      "codemirror_mode": {
        "name": "ipython",
        "version": 3
      },
      "file_extension": ".py",
      "mimetype": "text/x-python",
      "name": "python",
      "nbconvert_exporter": "python",
      "pygments_lexer": "ipython3",
      "version": "3.10.12"
    }
  },
  "nbformat": 4,
  "nbformat_minor": 0
}
